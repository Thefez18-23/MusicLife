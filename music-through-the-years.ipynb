Project Title:
The Evolution of Music Through the Years: Analyzing Different Formats

Objective:
The primary objective of this project is to analyze the evolution of music consumption through various formats over time. By exploring different eras of music, ranging from vinyl records to streaming platforms, we aim to uncover trends in music production, distribution, and consumer preferences. This project seeks to understand how technological advancements have shaped the music industry and influenced listener behavior, artist strategies, and market dynamics.

Key goals of the project include:

Understanding Format Shifts: Explore the transition from physical formats (vinyl, cassettes, CDs) to digital formats (MP3s, streaming platforms).
Analyzing Music Consumption Trends: Investigate how each format affected consumer behavior and music accessibility.
Examining Industry Impact: Analyze how the rise and fall of each format influenced the music industry in terms of revenue, production, and artist visibility.
Visualizing Historical Patterns: Use visualizations to showcase how music formats have evolved and predict future trends in the music industry.
Summary:
Music consumption has evolved drastically over the past century, from the analog days of vinyl records to the digital streaming platforms of today. This project delves into the history of various music formats, analyzing their impact on how people listen to, purchase, and interact with music.

The project examines key transitions such as the shift from vinyl to cassette tapes in the mid-20th century, the explosion of CD sales in the 1990s, and the rapid adoption of MP3s and digital downloads in the early 2000s. Furthermore, it explores the latest developments in streaming platforms like Spotify, Apple Music, and YouTube, which have revolutionized how we access and consume music today.

By leveraging data on music sales, listener demographics, and technological developments, this project aims to uncover insights into the future of music consumption. It will analyze historical data, identify trends in format popularity, and provide a comprehensive view of how technology has continually reshaped the music industry. Through this analysis, we hope to highlight both the cultural and economic shifts driven by these evolving music formats.


{
 "cells": [
  {
   "cell_type": "code",
   "execution_count": 14,
   "id": "82a75162",
   "metadata": {
    "execution": {
     "iopub.execute_input": "2024-07-13T04:30:29.983728Z",
     "iopub.status.busy": "2024-07-13T04:30:29.983335Z",
     "iopub.status.idle": "2024-07-13T04:30:30.836097Z",
     "shell.execute_reply": "2024-07-13T04:30:30.834918Z"
    },
    "papermill": {
     "duration": 0.865176,
     "end_time": "2024-07-13T04:30:30.838676",
     "exception": false,
     "start_time": "2024-07-13T04:30:29.973500",
     "status": "completed"
    },
    "tags": []
   },
   "outputs": [],
   "source": [
    "import csv, sqlite3\n",
    "import pandas as pd"
   ]
  },
  {
   "cell_type": "code",
   "execution_count": 15,
   "id": "9e618797",
   "metadata": {
    "execution": {
     "iopub.execute_input": "2024-07-13T04:30:30.856313Z",
     "iopub.status.busy": "2024-07-13T04:30:30.855802Z",
     "iopub.status.idle": "2024-07-13T04:30:30.861054Z",
     "shell.execute_reply": "2024-07-13T04:30:30.860122Z"
    },
    "papermill": {
     "duration": 0.016385,
     "end_time": "2024-07-13T04:30:30.863184",
     "exception": false,
     "start_time": "2024-07-13T04:30:30.846799",
     "status": "completed"
    },
    "tags": []
   },
   "outputs": [],
   "source": [
    "con = sqlite3.connect(\"MusicSales.db\")\n",
    "cur = con.cursor()"
   ]
  },
  {
   "cell_type": "code",
   "execution_count": 16,
   "id": "3a508303",
   "metadata": {
    "execution": {
     "iopub.execute_input": "2024-07-13T04:30:30.880460Z",
     "iopub.status.busy": "2024-07-13T04:30:30.880054Z",
     "iopub.status.idle": "2024-07-13T04:30:30.934838Z",
     "shell.execute_reply": "2024-07-13T04:30:30.933929Z"
    },
    "papermill": {
     "duration": 0.06634,
     "end_time": "2024-07-13T04:30:30.937475",
     "exception": false,
     "start_time": "2024-07-13T04:30:30.871135",
     "status": "completed"
    },
    "tags": []
   },
   "outputs": [],
   "source": [
    "#load_ext sql\n",
    "music = pd.read_csv('/Users/AlexFP/Desktop/MusicData.csv')\n",
    "\n",
    "#Getting rid of \",\" in order to convert obj to Float\n",
    "music[\"Value (Actual)\"] = music[\"Value (Actual)\"].str.replace(',','')\n",
    "music[\"Value (Actual)\"] = music[\"Value (Actual)\"].astype(float)"
   ]
  },
  {
   "cell_type": "code",
   "execution_count": 17,
   "id": "f648d1db",
   "metadata": {
    "execution": {
     "iopub.execute_input": "2024-07-13T04:30:30.954791Z",
     "iopub.status.busy": "2024-07-13T04:30:30.954412Z",
     "iopub.status.idle": "2024-07-13T04:30:31.003272Z",
     "shell.execute_reply": "2024-07-13T04:30:31.002136Z"
    },
    "papermill": {
     "duration": 0.060262,
     "end_time": "2024-07-13T04:30:31.005561",
     "exception": false,
     "start_time": "2024-07-13T04:30:30.945299",
     "status": "completed"
    },
    "tags": []
   },
   "outputs": [
    {
     "data": {
      "text/plain": [
       "3008"
      ]
     },
     "execution_count": 17,
     "metadata": {},
     "output_type": "execute_result"
    }
   ],
   "source": [
    "music.to_sql(\"music_sales\", con, if_exists='replace', index=False, method=\"multi\")"
   ]
  },
  {
   "cell_type": "code",
   "execution_count": 18,
   "id": "0e6017a1",
   "metadata": {
    "execution": {
     "iopub.execute_input": "2024-07-13T04:30:31.023080Z",
     "iopub.status.busy": "2024-07-13T04:30:31.022687Z",
     "iopub.status.idle": "2024-07-13T04:30:31.029154Z",
     "shell.execute_reply": "2024-07-13T04:30:31.028182Z"
    },
    "papermill": {
     "duration": 0.017682,
     "end_time": "2024-07-13T04:30:31.031271",
     "exception": false,
     "start_time": "2024-07-13T04:30:31.013589",
     "status": "completed"
    },
    "tags": []
   },
   "outputs": [
    {
     "data": {
      "text/plain": [
       "(3008, 5)"
      ]
     },
     "execution_count": 18,
     "metadata": {},
     "output_type": "execute_result"
    }
   ],
   "source": [
    "music.shape"
   ]
  },
  {
   "cell_type": "code",
   "execution_count": 19,
   "id": "465a206c",
   "metadata": {
    "execution": {
     "iopub.execute_input": "2024-07-13T04:30:31.048874Z",
     "iopub.status.busy": "2024-07-13T04:30:31.048512Z",
     "iopub.status.idle": "2024-07-13T04:30:31.066381Z",
     "shell.execute_reply": "2024-07-13T04:30:31.065094Z"
    },
    "papermill": {
     "duration": 0.029422,
     "end_time": "2024-07-13T04:30:31.068830",
     "exception": false,
     "start_time": "2024-07-13T04:30:31.039408",
     "status": "completed"
    },
    "tags": []
   },
   "outputs": [
    {
     "data": {
      "text/plain": [
       "<bound method DataFrame.info of            ?Format            Metric  Year  Number of Records  Value (Actual)\n",
       "0               CD             Units  1973                  1             NaN\n",
       "1               CD             Units  1974                  1             NaN\n",
       "2               CD             Units  1975                  1             NaN\n",
       "3               CD             Units  1976                  1             NaN\n",
       "4               CD             Units  1977                  1             NaN\n",
       "...            ...               ...   ...                ...             ...\n",
       "3003  Vinyl Single  Value (Adjusted)  2015                  1        6.205390\n",
       "3004  Vinyl Single  Value (Adjusted)  2016                  1        5.198931\n",
       "3005  Vinyl Single  Value (Adjusted)  2017                  1        6.339678\n",
       "3006  Vinyl Single  Value (Adjusted)  2018                  1        5.386197\n",
       "3007  Vinyl Single  Value (Adjusted)  2019                  1        6.795946\n",
       "\n",
       "[3008 rows x 5 columns]>"
      ]
     },
     "execution_count": 19,
     "metadata": {},
     "output_type": "execute_result"
    }
   ],
   "source": [
    "music.info"
   ]
  },
  {
   "cell_type": "code",
   "execution_count": 20,
   "id": "a799fe75",
   "metadata": {},
   "outputs": [
    {
     "name": "stdout",
     "output_type": "stream",
     "text": [
      "The sql extension is already loaded. To reload it, use:\n",
      "  %reload_ext sql\n"
     ]
    }
   ],
   "source": [
    "%load_ext sql\n"
   ]
  },
  {
   "cell_type": "code",
   "execution_count": 21,
   "id": "b732361f",
   "metadata": {
    "execution": {
     "iopub.execute_input": "2024-07-13T04:30:31.087383Z",
     "iopub.status.busy": "2024-07-13T04:30:31.086311Z",
     "iopub.status.idle": "2024-07-13T04:30:31.092572Z",
     "shell.execute_reply": "2024-07-13T04:30:31.091332Z"
    },
    "papermill": {
     "duration": 0.017417,
     "end_time": "2024-07-13T04:30:31.094428",
     "exception": true,
     "start_time": "2024-07-13T04:30:31.077011",
     "status": "failed"
    },
    "tags": []
   },
   "outputs": [],
   "source": [
    "%sql sqlite:///MusicSales.db"
   ]
  },
  {
   "cell_type": "code",
   "execution_count": 22,
   "id": "17ef0a6a",
   "metadata": {
    "execution": {
     "iopub.execute_input": "2024-07-13T04:29:31.126012Z",
     "iopub.status.busy": "2024-07-13T04:29:31.125586Z",
     "iopub.status.idle": "2024-07-13T04:29:31.137890Z",
     "shell.execute_reply": "2024-07-13T04:29:31.136666Z",
     "shell.execute_reply.started": "2024-07-13T04:29:31.125974Z"
    },
    "papermill": {
     "duration": null,
     "end_time": null,
     "exception": null,
     "start_time": null,
     "status": "pending"
    },
    "tags": []
   },
   "outputs": [
    {
     "name": "stdout",
     "output_type": "stream",
     "text": [
      " * sqlite:///MusicSales.db\n",
      "Done.\n"
     ]
    },
    {
     "data": {
      "text/plain": [
       "[]"
      ]
     },
     "execution_count": 22,
     "metadata": {},
     "output_type": "execute_result"
    }
   ],
   "source": [
    "%sql ALTER TABLE music_sales RENAME COLUMN `?Format` TO `Format`;\n"
   ]
  },
  {
   "cell_type": "markdown",
   "id": "1b8cd09b",
   "metadata": {
    "papermill": {
     "duration": null,
     "end_time": null,
     "exception": null,
     "start_time": null,
     "status": "pending"
    },
    "tags": []
   },
   "source": [
    "Top 5 Most Sold Physical Media (1973 - 2019)"
   ]
  },
  {
   "cell_type": "markdown",
   "id": "71076735",
   "metadata": {
    "papermill": {
     "duration": null,
     "end_time": null,
     "exception": null,
     "start_time": null,
     "status": "pending"
    },
    "tags": []
   },
   "source": [
    "Top 5 Most Sold physical Media (1073 - 2019)"
   ]
  },
  {
   "cell_type": "code",
   "execution_count": 23,
   "id": "83e99b4a",
   "metadata": {
    "execution": {
     "iopub.execute_input": "2024-07-13T04:29:31.140792Z",
     "iopub.status.busy": "2024-07-13T04:29:31.139761Z",
     "iopub.status.idle": "2024-07-13T04:29:31.154081Z",
     "shell.execute_reply": "2024-07-13T04:29:31.152676Z",
     "shell.execute_reply.started": "2024-07-13T04:29:31.140748Z"
    },
    "papermill": {
     "duration": null,
     "end_time": null,
     "exception": null,
     "start_time": null,
     "status": "pending"
    },
    "tags": []
   },
   "outputs": [
    {
     "name": "stdout",
     "output_type": "stream",
     "text": [
      " * sqlite:///MusicSales.db\n",
      "Done.\n"
     ]
    },
    {
     "data": {
      "text/html": [
       "<table>\n",
       "    <thead>\n",
       "        <tr>\n",
       "            <th>Format</th>\n",
       "            <th>Total_Value</th>\n",
       "        </tr>\n",
       "    </thead>\n",
       "    <tbody>\n",
       "        <tr>\n",
       "            <td>CD</td>\n",
       "            <td>305524.45</td>\n",
       "        </tr>\n",
       "        <tr>\n",
       "            <td>Cassette</td>\n",
       "            <td>102312.11</td>\n",
       "        </tr>\n",
       "        <tr>\n",
       "            <td>LP/EP</td>\n",
       "            <td>94233.66</td>\n",
       "        </tr>\n",
       "        <tr>\n",
       "            <td>8 - Track</td>\n",
       "            <td>23640.47</td>\n",
       "        </tr>\n",
       "        <tr>\n",
       "            <td>Paid Subscription</td>\n",
       "            <td>21731.72</td>\n",
       "        </tr>\n",
       "    </tbody>\n",
       "</table>"
      ],
      "text/plain": [
       "[('CD', 305524.45),\n",
       " ('Cassette', 102312.11),\n",
       " ('LP/EP', 94233.66),\n",
       " ('8 - Track', 23640.47),\n",
       " ('Paid Subscription', 21731.72)]"
      ]
     },
     "execution_count": 23,
     "metadata": {},
     "output_type": "execute_result"
    }
   ],
   "source": [
    "%%sql SELECT Format, ROUND(SUM(`Value (Actual)`),2) AS Total_Value\n",
    "      FROM music_sales\n",
    "      WHERE Metric='Value (Adjusted)'\n",
    "      GROUP BY Format\n",
    "      ORDER BY Total_Value DESC\n",
    "      LIMIT 5;"
   ]
  },
  {
   "cell_type": "markdown",
   "id": "5420020a",
   "metadata": {
    "papermill": {
     "duration": null,
     "end_time": null,
     "exception": null,
     "start_time": null,
     "status": "pending"
    },
    "tags": []
   },
   "source": [
    "Focusing Cassettes\n",
    "The specific information to get next is from highest/lowest sales, average sales and year by year, increase/decreaase."
   ]
  },
  {
   "cell_type": "code",
   "execution_count": 24,
   "id": "a11046a1",
   "metadata": {
    "execution": {
     "iopub.execute_input": "2024-07-13T04:29:31.155661Z",
     "iopub.status.busy": "2024-07-13T04:29:31.155305Z",
     "iopub.status.idle": "2024-07-13T04:29:31.171825Z",
     "shell.execute_reply": "2024-07-13T04:29:31.170471Z",
     "shell.execute_reply.started": "2024-07-13T04:29:31.155633Z"
    },
    "papermill": {
     "duration": null,
     "end_time": null,
     "exception": null,
     "start_time": null,
     "status": "pending"
    },
    "tags": []
   },
   "outputs": [
    {
     "name": "stdout",
     "output_type": "stream",
     "text": [
      " * sqlite:///MusicSales.db\n",
      "Done.\n"
     ]
    },
    {
     "data": {
      "text/html": [
       "<table>\n",
       "    <thead>\n",
       "        <tr>\n",
       "            <th>Format</th>\n",
       "            <th>Year</th>\n",
       "            <th>Amount of Units</th>\n",
       "        </tr>\n",
       "    </thead>\n",
       "    <tbody>\n",
       "        <tr>\n",
       "            <td>Cassette</td>\n",
       "            <td>1973</td>\n",
       "            <td>437.61</td>\n",
       "        </tr>\n",
       "        <tr>\n",
       "            <td>Cassette</td>\n",
       "            <td>1974</td>\n",
       "            <td>452.2</td>\n",
       "        </tr>\n",
       "        <tr>\n",
       "            <td>Cassette</td>\n",
       "            <td>1975</td>\n",
       "            <td>469.5</td>\n",
       "        </tr>\n",
       "        <tr>\n",
       "            <td>Cassette</td>\n",
       "            <td>1976</td>\n",
       "            <td>654.64</td>\n",
       "        </tr>\n",
       "        <tr>\n",
       "            <td>Cassette</td>\n",
       "            <td>1977</td>\n",
       "            <td>1053.0</td>\n",
       "        </tr>\n",
       "        <tr>\n",
       "            <td>Cassette</td>\n",
       "            <td>1978</td>\n",
       "            <td>1763.72</td>\n",
       "        </tr>\n",
       "        <tr>\n",
       "            <td>Cassette</td>\n",
       "            <td>1979</td>\n",
       "            <td>2044.55</td>\n",
       "        </tr>\n",
       "        <tr>\n",
       "            <td>Cassette</td>\n",
       "            <td>1980</td>\n",
       "            <td>2187.36</td>\n",
       "        </tr>\n",
       "        <tr>\n",
       "            <td>Cassette</td>\n",
       "            <td>1981</td>\n",
       "            <td>2989.13</td>\n",
       "        </tr>\n",
       "        <tr>\n",
       "            <td>Cassette</td>\n",
       "            <td>1982</td>\n",
       "            <td>3667.95</td>\n",
       "        </tr>\n",
       "        <tr>\n",
       "            <td>Cassette</td>\n",
       "            <td>1983</td>\n",
       "            <td>4648.29</td>\n",
       "        </tr>\n",
       "        <tr>\n",
       "            <td>Cassette</td>\n",
       "            <td>1984</td>\n",
       "            <td>5865.84</td>\n",
       "        </tr>\n",
       "        <tr>\n",
       "            <td>Cassette</td>\n",
       "            <td>1985</td>\n",
       "            <td>5729.71</td>\n",
       "        </tr>\n",
       "        <tr>\n",
       "            <td>Cassette</td>\n",
       "            <td>1986</td>\n",
       "            <td>5830.43</td>\n",
       "        </tr>\n",
       "        <tr>\n",
       "            <td>Cassette</td>\n",
       "            <td>1987</td>\n",
       "            <td>6660.81</td>\n",
       "        </tr>\n",
       "        <tr>\n",
       "            <td>Cassette</td>\n",
       "            <td>1988</td>\n",
       "            <td>7315.51</td>\n",
       "        </tr>\n",
       "        <tr>\n",
       "            <td>Cassette</td>\n",
       "            <td>1989</td>\n",
       "            <td>6898.2</td>\n",
       "        </tr>\n",
       "        <tr>\n",
       "            <td>Cassette</td>\n",
       "            <td>1990</td>\n",
       "            <td>6792.22</td>\n",
       "        </tr>\n",
       "        <tr>\n",
       "            <td>Cassette</td>\n",
       "            <td>1991</td>\n",
       "            <td>5668.0</td>\n",
       "        </tr>\n",
       "        <tr>\n",
       "            <td>Cassette</td>\n",
       "            <td>1992</td>\n",
       "            <td>5678.57</td>\n",
       "        </tr>\n",
       "        <tr>\n",
       "            <td>Cassette</td>\n",
       "            <td>1993</td>\n",
       "            <td>5158.79</td>\n",
       "        </tr>\n",
       "        <tr>\n",
       "            <td>Cassette</td>\n",
       "            <td>1994</td>\n",
       "            <td>5134.53</td>\n",
       "        </tr>\n",
       "        <tr>\n",
       "            <td>Cassette</td>\n",
       "            <td>1995</td>\n",
       "            <td>3864.38</td>\n",
       "        </tr>\n",
       "        <tr>\n",
       "            <td>Cassette</td>\n",
       "            <td>1996</td>\n",
       "            <td>3104.55</td>\n",
       "        </tr>\n",
       "        <tr>\n",
       "            <td>Cassette</td>\n",
       "            <td>1997</td>\n",
       "            <td>2425.48</td>\n",
       "        </tr>\n",
       "        <tr>\n",
       "            <td>Cassette</td>\n",
       "            <td>1998</td>\n",
       "            <td>2227.04</td>\n",
       "        </tr>\n",
       "        <tr>\n",
       "            <td>Cassette</td>\n",
       "            <td>1999</td>\n",
       "            <td>1629.08</td>\n",
       "        </tr>\n",
       "        <tr>\n",
       "            <td>Cassette</td>\n",
       "            <td>2000</td>\n",
       "            <td>929.39</td>\n",
       "        </tr>\n",
       "        <tr>\n",
       "            <td>Cassette</td>\n",
       "            <td>2001</td>\n",
       "            <td>524.59</td>\n",
       "        </tr>\n",
       "        <tr>\n",
       "            <td>Cassette</td>\n",
       "            <td>2002</td>\n",
       "            <td>298.15</td>\n",
       "        </tr>\n",
       "        <tr>\n",
       "            <td>Cassette</td>\n",
       "            <td>2003</td>\n",
       "            <td>150.2</td>\n",
       "        </tr>\n",
       "        <tr>\n",
       "            <td>Cassette</td>\n",
       "            <td>2004</td>\n",
       "            <td>32.08</td>\n",
       "        </tr>\n",
       "        <tr>\n",
       "            <td>Cassette</td>\n",
       "            <td>2005</td>\n",
       "            <td>17.15</td>\n",
       "        </tr>\n",
       "        <tr>\n",
       "            <td>Cassette</td>\n",
       "            <td>2006</td>\n",
       "            <td>4.69</td>\n",
       "        </tr>\n",
       "        <tr>\n",
       "            <td>Cassette</td>\n",
       "            <td>2007</td>\n",
       "            <td>3.7</td>\n",
       "        </tr>\n",
       "        <tr>\n",
       "            <td>Cassette</td>\n",
       "            <td>2008</td>\n",
       "            <td>1.07</td>\n",
       "        </tr>\n",
       "        <tr>\n",
       "            <td>Cassette</td>\n",
       "            <td>2009</td>\n",
       "            <td>None</td>\n",
       "        </tr>\n",
       "        <tr>\n",
       "            <td>Cassette</td>\n",
       "            <td>2010</td>\n",
       "            <td>None</td>\n",
       "        </tr>\n",
       "        <tr>\n",
       "            <td>Cassette</td>\n",
       "            <td>2011</td>\n",
       "            <td>None</td>\n",
       "        </tr>\n",
       "        <tr>\n",
       "            <td>Cassette</td>\n",
       "            <td>2012</td>\n",
       "            <td>None</td>\n",
       "        </tr>\n",
       "        <tr>\n",
       "            <td>Cassette</td>\n",
       "            <td>2013</td>\n",
       "            <td>None</td>\n",
       "        </tr>\n",
       "        <tr>\n",
       "            <td>Cassette</td>\n",
       "            <td>2014</td>\n",
       "            <td>None</td>\n",
       "        </tr>\n",
       "        <tr>\n",
       "            <td>Cassette</td>\n",
       "            <td>2015</td>\n",
       "            <td>None</td>\n",
       "        </tr>\n",
       "        <tr>\n",
       "            <td>Cassette</td>\n",
       "            <td>2016</td>\n",
       "            <td>None</td>\n",
       "        </tr>\n",
       "        <tr>\n",
       "            <td>Cassette</td>\n",
       "            <td>2017</td>\n",
       "            <td>None</td>\n",
       "        </tr>\n",
       "        <tr>\n",
       "            <td>Cassette</td>\n",
       "            <td>2018</td>\n",
       "            <td>None</td>\n",
       "        </tr>\n",
       "        <tr>\n",
       "            <td>Cassette</td>\n",
       "            <td>2019</td>\n",
       "            <td>None</td>\n",
       "        </tr>\n",
       "    </tbody>\n",
       "</table>"
      ],
      "text/plain": [
       "[('Cassette', 1973, 437.61),\n",
       " ('Cassette', 1974, 452.2),\n",
       " ('Cassette', 1975, 469.5),\n",
       " ('Cassette', 1976, 654.64),\n",
       " ('Cassette', 1977, 1053.0),\n",
       " ('Cassette', 1978, 1763.72),\n",
       " ('Cassette', 1979, 2044.55),\n",
       " ('Cassette', 1980, 2187.36),\n",
       " ('Cassette', 1981, 2989.13),\n",
       " ('Cassette', 1982, 3667.95),\n",
       " ('Cassette', 1983, 4648.29),\n",
       " ('Cassette', 1984, 5865.84),\n",
       " ('Cassette', 1985, 5729.71),\n",
       " ('Cassette', 1986, 5830.43),\n",
       " ('Cassette', 1987, 6660.81),\n",
       " ('Cassette', 1988, 7315.51),\n",
       " ('Cassette', 1989, 6898.2),\n",
       " ('Cassette', 1990, 6792.22),\n",
       " ('Cassette', 1991, 5668.0),\n",
       " ('Cassette', 1992, 5678.57),\n",
       " ('Cassette', 1993, 5158.79),\n",
       " ('Cassette', 1994, 5134.53),\n",
       " ('Cassette', 1995, 3864.38),\n",
       " ('Cassette', 1996, 3104.55),\n",
       " ('Cassette', 1997, 2425.48),\n",
       " ('Cassette', 1998, 2227.04),\n",
       " ('Cassette', 1999, 1629.08),\n",
       " ('Cassette', 2000, 929.39),\n",
       " ('Cassette', 2001, 524.59),\n",
       " ('Cassette', 2002, 298.15),\n",
       " ('Cassette', 2003, 150.2),\n",
       " ('Cassette', 2004, 32.08),\n",
       " ('Cassette', 2005, 17.15),\n",
       " ('Cassette', 2006, 4.69),\n",
       " ('Cassette', 2007, 3.7),\n",
       " ('Cassette', 2008, 1.07),\n",
       " ('Cassette', 2009, None),\n",
       " ('Cassette', 2010, None),\n",
       " ('Cassette', 2011, None),\n",
       " ('Cassette', 2012, None),\n",
       " ('Cassette', 2013, None),\n",
       " ('Cassette', 2014, None),\n",
       " ('Cassette', 2015, None),\n",
       " ('Cassette', 2016, None),\n",
       " ('Cassette', 2017, None),\n",
       " ('Cassette', 2018, None),\n",
       " ('Cassette', 2019, None)]"
      ]
     },
     "execution_count": 24,
     "metadata": {},
     "output_type": "execute_result"
    }
   ],
   "source": [
    "%%sql SELECT Format, Year, ROUND(`Value (Actual)`, 2) as \"Amount of Units\"\n",
    "      FROM music_sales\n",
    "      WHERE Format='Cassette' AND Metric=\"Value (Adjusted)\";"
   ]
  },
  {
   "cell_type": "code",
   "execution_count": 25,
   "id": "aabc9e20",
   "metadata": {
    "execution": {
     "iopub.execute_input": "2024-07-13T04:29:31.174046Z",
     "iopub.status.busy": "2024-07-13T04:29:31.173409Z",
     "iopub.status.idle": "2024-07-13T04:29:31.183250Z",
     "shell.execute_reply": "2024-07-13T04:29:31.182076Z",
     "shell.execute_reply.started": "2024-07-13T04:29:31.174014Z"
    },
    "papermill": {
     "duration": null,
     "end_time": null,
     "exception": null,
     "start_time": null,
     "status": "pending"
    },
    "tags": []
   },
   "outputs": [
    {
     "data": {
      "text/plain": [
       "Index(['?Format', 'Metric', 'Year', 'Number of Records', 'Value (Actual)'], dtype='object')"
      ]
     },
     "execution_count": 25,
     "metadata": {},
     "output_type": "execute_result"
    }
   ],
   "source": [
    "music.columns"
   ]
  },
  {
   "cell_type": "code",
   "execution_count": 26,
   "id": "878404ae",
   "metadata": {
    "execution": {
     "iopub.execute_input": "2024-07-13T04:29:31.187707Z",
     "iopub.status.busy": "2024-07-13T04:29:31.187083Z",
     "iopub.status.idle": "2024-07-13T04:29:31.204205Z",
     "shell.execute_reply": "2024-07-13T04:29:31.202975Z",
     "shell.execute_reply.started": "2024-07-13T04:29:31.187664Z"
    },
    "papermill": {
     "duration": null,
     "end_time": null,
     "exception": null,
     "start_time": null,
     "status": "pending"
    },
    "tags": []
   },
   "outputs": [
    {
     "data": {
      "text/html": [
       "<div>\n",
       "<style scoped>\n",
       "    .dataframe tbody tr th:only-of-type {\n",
       "        vertical-align: middle;\n",
       "    }\n",
       "\n",
       "    .dataframe tbody tr th {\n",
       "        vertical-align: top;\n",
       "    }\n",
       "\n",
       "    .dataframe thead th {\n",
       "        text-align: right;\n",
       "    }\n",
       "</style>\n",
       "<table border=\"1\" class=\"dataframe\">\n",
       "  <thead>\n",
       "    <tr style=\"text-align: right;\">\n",
       "      <th></th>\n",
       "      <th>?Format</th>\n",
       "      <th>Metric</th>\n",
       "      <th>Year</th>\n",
       "      <th>Number of Records</th>\n",
       "      <th>Value (Actual)</th>\n",
       "    </tr>\n",
       "  </thead>\n",
       "  <tbody>\n",
       "    <tr>\n",
       "      <th>0</th>\n",
       "      <td>CD</td>\n",
       "      <td>Units</td>\n",
       "      <td>1973</td>\n",
       "      <td>1</td>\n",
       "      <td>NaN</td>\n",
       "    </tr>\n",
       "    <tr>\n",
       "      <th>1</th>\n",
       "      <td>CD</td>\n",
       "      <td>Units</td>\n",
       "      <td>1974</td>\n",
       "      <td>1</td>\n",
       "      <td>NaN</td>\n",
       "    </tr>\n",
       "    <tr>\n",
       "      <th>2</th>\n",
       "      <td>CD</td>\n",
       "      <td>Units</td>\n",
       "      <td>1975</td>\n",
       "      <td>1</td>\n",
       "      <td>NaN</td>\n",
       "    </tr>\n",
       "    <tr>\n",
       "      <th>3</th>\n",
       "      <td>CD</td>\n",
       "      <td>Units</td>\n",
       "      <td>1976</td>\n",
       "      <td>1</td>\n",
       "      <td>NaN</td>\n",
       "    </tr>\n",
       "    <tr>\n",
       "      <th>4</th>\n",
       "      <td>CD</td>\n",
       "      <td>Units</td>\n",
       "      <td>1977</td>\n",
       "      <td>1</td>\n",
       "      <td>NaN</td>\n",
       "    </tr>\n",
       "    <tr>\n",
       "      <th>...</th>\n",
       "      <td>...</td>\n",
       "      <td>...</td>\n",
       "      <td>...</td>\n",
       "      <td>...</td>\n",
       "      <td>...</td>\n",
       "    </tr>\n",
       "    <tr>\n",
       "      <th>3003</th>\n",
       "      <td>Vinyl Single</td>\n",
       "      <td>Value (Adjusted)</td>\n",
       "      <td>2015</td>\n",
       "      <td>1</td>\n",
       "      <td>6.205390</td>\n",
       "    </tr>\n",
       "    <tr>\n",
       "      <th>3004</th>\n",
       "      <td>Vinyl Single</td>\n",
       "      <td>Value (Adjusted)</td>\n",
       "      <td>2016</td>\n",
       "      <td>1</td>\n",
       "      <td>5.198931</td>\n",
       "    </tr>\n",
       "    <tr>\n",
       "      <th>3005</th>\n",
       "      <td>Vinyl Single</td>\n",
       "      <td>Value (Adjusted)</td>\n",
       "      <td>2017</td>\n",
       "      <td>1</td>\n",
       "      <td>6.339678</td>\n",
       "    </tr>\n",
       "    <tr>\n",
       "      <th>3006</th>\n",
       "      <td>Vinyl Single</td>\n",
       "      <td>Value (Adjusted)</td>\n",
       "      <td>2018</td>\n",
       "      <td>1</td>\n",
       "      <td>5.386197</td>\n",
       "    </tr>\n",
       "    <tr>\n",
       "      <th>3007</th>\n",
       "      <td>Vinyl Single</td>\n",
       "      <td>Value (Adjusted)</td>\n",
       "      <td>2019</td>\n",
       "      <td>1</td>\n",
       "      <td>6.795946</td>\n",
       "    </tr>\n",
       "  </tbody>\n",
       "</table>\n",
       "<p>3008 rows × 5 columns</p>\n",
       "</div>"
      ],
      "text/plain": [
       "           ?Format            Metric  Year  Number of Records  Value (Actual)\n",
       "0               CD             Units  1973                  1             NaN\n",
       "1               CD             Units  1974                  1             NaN\n",
       "2               CD             Units  1975                  1             NaN\n",
       "3               CD             Units  1976                  1             NaN\n",
       "4               CD             Units  1977                  1             NaN\n",
       "...            ...               ...   ...                ...             ...\n",
       "3003  Vinyl Single  Value (Adjusted)  2015                  1        6.205390\n",
       "3004  Vinyl Single  Value (Adjusted)  2016                  1        5.198931\n",
       "3005  Vinyl Single  Value (Adjusted)  2017                  1        6.339678\n",
       "3006  Vinyl Single  Value (Adjusted)  2018                  1        5.386197\n",
       "3007  Vinyl Single  Value (Adjusted)  2019                  1        6.795946\n",
       "\n",
       "[3008 rows x 5 columns]"
      ]
     },
     "execution_count": 26,
     "metadata": {},
     "output_type": "execute_result"
    }
   ],
   "source": [
    "music"
   ]
  },
  {
   "cell_type": "markdown",
   "id": "50155ebb",
   "metadata": {
    "papermill": {
     "duration": null,
     "end_time": null,
     "exception": null,
     "start_time": null,
     "status": "pending"
    },
    "tags": []
   },
   "source": [
    "Most Value for Cassette Sales"
   ]
  },
  {
   "cell_type": "code",
   "execution_count": 27,
   "id": "808c7834",
   "metadata": {
    "execution": {
     "iopub.execute_input": "2024-07-13T04:29:31.206302Z",
     "iopub.status.busy": "2024-07-13T04:29:31.205859Z",
     "iopub.status.idle": "2024-07-13T04:29:31.218838Z",
     "shell.execute_reply": "2024-07-13T04:29:31.217208Z",
     "shell.execute_reply.started": "2024-07-13T04:29:31.206263Z"
    },
    "papermill": {
     "duration": null,
     "end_time": null,
     "exception": null,
     "start_time": null,
     "status": "pending"
    },
    "tags": []
   },
   "outputs": [
    {
     "name": "stdout",
     "output_type": "stream",
     "text": [
      " * sqlite:///MusicSales.db\n",
      "Done.\n"
     ]
    },
    {
     "data": {
      "text/html": [
       "<table>\n",
       "    <thead>\n",
       "        <tr>\n",
       "            <th>Format</th>\n",
       "            <th>Year</th>\n",
       "            <th>MAX(`Value (Actual)`)</th>\n",
       "        </tr>\n",
       "    </thead>\n",
       "    <tbody>\n",
       "        <tr>\n",
       "            <td>Cassette</td>\n",
       "            <td>1988</td>\n",
       "            <td>7315.51</td>\n",
       "        </tr>\n",
       "    </tbody>\n",
       "</table>"
      ],
      "text/plain": [
       "[('Cassette', 1988, 7315.51)]"
      ]
     },
     "execution_count": 27,
     "metadata": {},
     "output_type": "execute_result"
    }
   ],
   "source": [
    "%sql SELECT Format, YEAR, MAX(`Value (Actual)`) FROM music_sales WHERE Format='Cassette' AND Metric=\"Value (Adjusted)\";"
   ]
  },
  {
   "cell_type": "markdown",
   "id": "76fb876d",
   "metadata": {
    "papermill": {
     "duration": null,
     "end_time": null,
     "exception": null,
     "start_time": null,
     "status": "pending"
    },
    "tags": []
   },
   "source": [
    "Average Sales for Cassettes"
   ]
  },
  {
   "cell_type": "code",
   "execution_count": 28,
   "id": "95d910dc",
   "metadata": {
    "execution": {
     "iopub.execute_input": "2024-07-13T04:29:31.220785Z",
     "iopub.status.busy": "2024-07-13T04:29:31.220335Z",
     "iopub.status.idle": "2024-07-13T04:29:31.233932Z",
     "shell.execute_reply": "2024-07-13T04:29:31.232559Z",
     "shell.execute_reply.started": "2024-07-13T04:29:31.220746Z"
    },
    "papermill": {
     "duration": null,
     "end_time": null,
     "exception": null,
     "start_time": null,
     "status": "pending"
    },
    "tags": []
   },
   "outputs": [
    {
     "name": "stdout",
     "output_type": "stream",
     "text": [
      " * sqlite:///MusicSales.db\n",
      "Done.\n"
     ]
    },
    {
     "data": {
      "text/html": [
       "<table>\n",
       "    <thead>\n",
       "        <tr>\n",
       "            <th>Format</th>\n",
       "            <th>AVG(`Value (Actual)`)</th>\n",
       "        </tr>\n",
       "    </thead>\n",
       "    <tbody>\n",
       "        <tr>\n",
       "            <td>Cassette</td>\n",
       "            <td>2842.002939544667</td>\n",
       "        </tr>\n",
       "    </tbody>\n",
       "</table>"
      ],
      "text/plain": [
       "[('Cassette', 2842.002939544667)]"
      ]
     },
     "execution_count": 28,
     "metadata": {},
     "output_type": "execute_result"
    }
   ],
   "source": [
    "%sql SELECT Format, AVG(`Value (Actual)`) FROM music_sales WHERE Format='Cassette' AND Metric=\"Value (Adjusted)\";"
   ]
  },
  {
   "cell_type": "markdown",
   "id": "9b1e34b5",
   "metadata": {
    "papermill": {
     "duration": null,
     "end_time": null,
     "exception": null,
     "start_time": null,
     "status": "pending"
    },
    "tags": []
   },
   "source": [
    "Draw a line plot to see the rate of change of cassette sales over time."
   ]
  },
  {
   "cell_type": "code",
   "execution_count": 29,
   "id": "91883778",
   "metadata": {
    "execution": {
     "iopub.execute_input": "2024-07-13T04:29:31.235757Z",
     "iopub.status.busy": "2024-07-13T04:29:31.235389Z",
     "iopub.status.idle": "2024-07-13T04:29:31.247736Z",
     "shell.execute_reply": "2024-07-13T04:29:31.246542Z",
     "shell.execute_reply.started": "2024-07-13T04:29:31.235728Z"
    },
    "papermill": {
     "duration": null,
     "end_time": null,
     "exception": null,
     "start_time": null,
     "status": "pending"
    },
    "tags": []
   },
   "outputs": [],
   "source": [
    "music1 = music[[\"?Format\", \"Metric\", \"Year\", \"Value (Actual)\"]].copy()"
   ]
  },
  {
   "cell_type": "code",
   "execution_count": 30,
   "id": "d05a32d3",
   "metadata": {
    "execution": {
     "iopub.execute_input": "2024-07-13T04:29:31.249422Z",
     "iopub.status.busy": "2024-07-13T04:29:31.249082Z",
     "iopub.status.idle": "2024-07-13T04:29:31.266678Z",
     "shell.execute_reply": "2024-07-13T04:29:31.265284Z",
     "shell.execute_reply.started": "2024-07-13T04:29:31.249394Z"
    },
    "papermill": {
     "duration": null,
     "end_time": null,
     "exception": null,
     "start_time": null,
     "status": "pending"
    },
    "tags": []
   },
   "outputs": [],
   "source": [
    "music2 = music1.loc[music1[\"?Format\"]==\"Cassette\"]"
   ]
  },
  {
   "cell_type": "code",
   "execution_count": 31,
   "id": "188302c1",
   "metadata": {
    "execution": {
     "iopub.execute_input": "2024-07-13T04:29:31.268733Z",
     "iopub.status.busy": "2024-07-13T04:29:31.268265Z",
     "iopub.status.idle": "2024-07-13T04:29:31.279712Z",
     "shell.execute_reply": "2024-07-13T04:29:31.278559Z",
     "shell.execute_reply.started": "2024-07-13T04:29:31.268690Z"
    },
    "papermill": {
     "duration": null,
     "end_time": null,
     "exception": null,
     "start_time": null,
     "status": "pending"
    },
    "tags": []
   },
   "outputs": [],
   "source": [
    "music3 = music2.loc[music2[\"Metric\"]==\"Value (Adjusted)\"]"
   ]
  },
  {
   "cell_type": "code",
   "execution_count": 32,
   "id": "e3a935b9",
   "metadata": {
    "execution": {
     "iopub.execute_input": "2024-07-13T04:29:31.283068Z",
     "iopub.status.busy": "2024-07-13T04:29:31.282649Z",
     "iopub.status.idle": "2024-07-13T04:29:32.847236Z",
     "shell.execute_reply": "2024-07-13T04:29:32.845795Z",
     "shell.execute_reply.started": "2024-07-13T04:29:31.283030Z"
    },
    "papermill": {
     "duration": null,
     "end_time": null,
     "exception": null,
     "start_time": null,
     "status": "pending"
    },
    "tags": []
   },
   "outputs": [
    {
     "data": {
      "text/plain": [
       "<Axes: xlabel='Year'>"
      ]
     },
     "execution_count": 32,
     "metadata": {},
     "output_type": "execute_result"
    },
    {
     "data": {
      "image/png": "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",
      "text/plain": [
       "<Figure size 2000x1000 with 1 Axes>"
      ]
     },
     "metadata": {},
     "output_type": "display_data"
    }
   ],
   "source": [
    "music3.plot('Year', 'Value (Actual)', kind='bar', figsize=(20,10))"
   ]
  },
  {
   "cell_type": "markdown",
   "id": "4558a924",
   "metadata": {
    "papermill": {
     "duration": null,
     "end_time": null,
     "exception": null,
     "start_time": null,
     "status": "pending"
    },
    "tags": []
   },
   "source": [
    "Lets compare the peak of CDs with the Peak of Cassettes¶"
   ]
  },
  {
   "cell_type": "code",
   "execution_count": 33,
   "id": "9f5ebc86",
   "metadata": {
    "execution": {
     "iopub.execute_input": "2024-07-13T04:29:32.850072Z",
     "iopub.status.busy": "2024-07-13T04:29:32.849612Z",
     "iopub.status.idle": "2024-07-13T04:29:32.859946Z",
     "shell.execute_reply": "2024-07-13T04:29:32.858528Z",
     "shell.execute_reply.started": "2024-07-13T04:29:32.850031Z"
    },
    "papermill": {
     "duration": null,
     "end_time": null,
     "exception": null,
     "start_time": null,
     "status": "pending"
    },
    "tags": []
   },
   "outputs": [
    {
     "name": "stdout",
     "output_type": "stream",
     "text": [
      " * sqlite:///MusicSales.db\n",
      "Done.\n"
     ]
    },
    {
     "data": {
      "text/plain": [
       "[]"
      ]
     },
     "execution_count": 33,
     "metadata": {},
     "output_type": "execute_result"
    }
   ],
   "source": [
    "%sql CREATE VIEW cd_sales AS SELECT Year, Format, Metric, `Value (Actual)` from music_sales WHERE Format = \"CD\" AND Metric = \"Value (Adjusted)\";"
   ]
  },
  {
   "cell_type": "code",
   "execution_count": 34,
   "id": "eb8f9eb3",
   "metadata": {
    "execution": {
     "iopub.execute_input": "2024-07-13T04:29:32.861777Z",
     "iopub.status.busy": "2024-07-13T04:29:32.861332Z",
     "iopub.status.idle": "2024-07-13T04:29:32.872418Z",
     "shell.execute_reply": "2024-07-13T04:29:32.871188Z",
     "shell.execute_reply.started": "2024-07-13T04:29:32.861738Z"
    },
    "papermill": {
     "duration": null,
     "end_time": null,
     "exception": null,
     "start_time": null,
     "status": "pending"
    },
    "tags": []
   },
   "outputs": [
    {
     "name": "stdout",
     "output_type": "stream",
     "text": [
      " * sqlite:///MusicSales.db\n",
      "Done.\n"
     ]
    },
    {
     "data": {
      "text/html": [
       "<table>\n",
       "    <thead>\n",
       "        <tr>\n",
       "            <th>Year</th>\n",
       "            <th>max(`Value (Actual)`)</th>\n",
       "        </tr>\n",
       "    </thead>\n",
       "    <tbody>\n",
       "        <tr>\n",
       "            <td>1999</td>\n",
       "            <td>19667.33</td>\n",
       "        </tr>\n",
       "    </tbody>\n",
       "</table>"
      ],
      "text/plain": [
       "[(1999, 19667.33)]"
      ]
     },
     "execution_count": 34,
     "metadata": {},
     "output_type": "execute_result"
    }
   ],
   "source": [
    "%sql SELECT year, max(`Value (Actual)`) FROM cd_sales;"
   ]
  },
  {
   "cell_type": "code",
   "execution_count": 35,
   "id": "f5049924",
   "metadata": {
    "execution": {
     "iopub.execute_input": "2024-07-13T04:29:32.874586Z",
     "iopub.status.busy": "2024-07-13T04:29:32.874116Z",
     "iopub.status.idle": "2024-07-13T04:29:32.884656Z",
     "shell.execute_reply": "2024-07-13T04:29:32.883511Z",
     "shell.execute_reply.started": "2024-07-13T04:29:32.874545Z"
    },
    "papermill": {
     "duration": null,
     "end_time": null,
     "exception": null,
     "start_time": null,
     "status": "pending"
    },
    "tags": []
   },
   "outputs": [],
   "source": [
    "music2cd = music1.loc[music1[\"?Format\"]==\"CD\"]"
   ]
  },
  {
   "cell_type": "code",
   "execution_count": 36,
   "id": "9fdfa9e7",
   "metadata": {
    "execution": {
     "iopub.execute_input": "2024-07-13T04:29:32.886887Z",
     "iopub.status.busy": "2024-07-13T04:29:32.886461Z",
     "iopub.status.idle": "2024-07-13T04:29:32.897722Z",
     "shell.execute_reply": "2024-07-13T04:29:32.896579Z",
     "shell.execute_reply.started": "2024-07-13T04:29:32.886828Z"
    },
    "papermill": {
     "duration": null,
     "end_time": null,
     "exception": null,
     "start_time": null,
     "status": "pending"
    },
    "tags": []
   },
   "outputs": [],
   "source": [
    "music3cd = music2cd.loc[music2cd[\"Metric\"]==\"Value (Adjusted)\"]"
   ]
  },
  {
   "cell_type": "code",
   "execution_count": 37,
   "id": "e9e935d7",
   "metadata": {
    "execution": {
     "iopub.execute_input": "2024-07-13T04:29:32.899799Z",
     "iopub.status.busy": "2024-07-13T04:29:32.899329Z",
     "iopub.status.idle": "2024-07-13T04:29:33.982393Z",
     "shell.execute_reply": "2024-07-13T04:29:33.981294Z",
     "shell.execute_reply.started": "2024-07-13T04:29:32.899758Z"
    },
    "papermill": {
     "duration": null,
     "end_time": null,
     "exception": null,
     "start_time": null,
     "status": "pending"
    },
    "tags": []
   },
   "outputs": [
    {
     "data": {
      "text/plain": [
       "<Axes: xlabel='Year'>"
      ]
     },
     "execution_count": 37,
     "metadata": {},
     "output_type": "execute_result"
    },
    {
     "data": {
      "image/png": "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",
      "text/plain": [
       "<Figure size 2000x1000 with 1 Axes>"
      ]
     },
     "metadata": {},
     "output_type": "display_data"
    }
   ],
   "source": [
    "music3cd.plot('Year', 'Value (Actual)', kind='bar', figsize=(20,10))"
   ]
  },
  {
   "cell_type": "code",
   "execution_count": 38,
   "id": "de0d14ba",
   "metadata": {
    "execution": {
     "iopub.execute_input": "2024-07-13T04:29:33.984479Z",
     "iopub.status.busy": "2024-07-13T04:29:33.984003Z",
     "iopub.status.idle": "2024-07-13T04:29:33.992626Z",
     "shell.execute_reply": "2024-07-13T04:29:33.991628Z",
     "shell.execute_reply.started": "2024-07-13T04:29:33.984409Z"
    },
    "papermill": {
     "duration": null,
     "end_time": null,
     "exception": null,
     "start_time": null,
     "status": "pending"
    },
    "tags": []
   },
   "outputs": [
    {
     "name": "stderr",
     "output_type": "stream",
     "text": [
      "/var/folders/bm/z0qj66s91xj55jdcbffm65zh0000gp/T/ipykernel_5496/669417998.py:4: SettingWithCopyWarning: \n",
      "A value is trying to be set on a copy of a slice from a DataFrame.\n",
      "Try using .loc[row_indexer,col_indexer] = value instead\n",
      "\n",
      "See the caveats in the documentation: https://pandas.pydata.org/pandas-docs/stable/user_guide/indexing.html#returning-a-view-versus-a-copy\n",
      "  music3['hue'] = 1\n",
      "/var/folders/bm/z0qj66s91xj55jdcbffm65zh0000gp/T/ipykernel_5496/669417998.py:5: SettingWithCopyWarning: \n",
      "A value is trying to be set on a copy of a slice from a DataFrame.\n",
      "Try using .loc[row_indexer,col_indexer] = value instead\n",
      "\n",
      "See the caveats in the documentation: https://pandas.pydata.org/pandas-docs/stable/user_guide/indexing.html#returning-a-view-versus-a-copy\n",
      "  music3cd['hue'] = 2\n"
     ]
    }
   ],
   "source": [
    "\n",
    "import seaborn as sns\n",
    "import matplotlib.pyplot as plt\n",
    "\n",
    "music3['hue'] = 1\n",
    "music3cd['hue'] = 2"
   ]
  },
  {
   "cell_type": "code",
   "execution_count": 39,
   "id": "e5f798e3",
   "metadata": {
    "execution": {
     "iopub.execute_input": "2024-07-13T04:29:33.994413Z",
     "iopub.status.busy": "2024-07-13T04:29:33.994104Z",
     "iopub.status.idle": "2024-07-13T04:29:35.184595Z",
     "shell.execute_reply": "2024-07-13T04:29:35.183352Z",
     "shell.execute_reply.started": "2024-07-13T04:29:33.994387Z"
    },
    "papermill": {
     "duration": null,
     "end_time": null,
     "exception": null,
     "start_time": null,
     "status": "pending"
    },
    "tags": []
   },
   "outputs": [
    {
     "data": {
      "image/png": "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",
      "text/plain": [
       "<Figure size 2000x1000 with 1 Axes>"
      ]
     },
     "metadata": {},
     "output_type": "display_data"
    }
   ],
   "source": [
    "import pandas as pd\n",
    "import matplotlib.pyplot as plt\n",
    "import seaborn as sns\n",
    "\n",
    "# Concatenate the DataFrames\n",
    "res = pd.concat([music3, music3cd])\n",
    "\n",
    "# Set up the plot size\n",
    "plt.figure(figsize=(20, 10))\n",
    "\n",
    "# Create a bar plot\n",
    "sns.barplot(x='Year', y='Value (Actual)', data=res, hue='hue', palette='viridis')\n",
    "\n",
    "# Add a title and labels\n",
    "plt.title('Yearly Music Sales', fontsize=20)\n",
    "plt.xlabel('Year', fontsize=16)\n",
    "plt.ylabel('Value (Actual)', fontsize=16)\n",
    "\n",
    "# Rotate x-axis labels for better readability if needed\n",
    "plt.xticks(rotation=45)\n",
    "\n",
    "# Add a legend title and adjust the legend position\n",
    "plt.legend(title='Category', loc='upper left', fontsize=12, title_fontsize='14')\n",
    "\n",
    "# Enhance the overall aesthetics\n",
    "sns.set_style('whitegrid')\n",
    "plt.grid(True, linestyle='--', alpha=0.6)\n",
    "\n",
    "# Show the plot\n",
    "plt.show()\n"
   ]
  },
  {
   "cell_type": "code",
   "execution_count": 42,
   "id": "fe175249",
   "metadata": {
    "execution": {
     "iopub.execute_input": "2024-07-13T04:29:35.186870Z",
     "iopub.status.busy": "2024-07-13T04:29:35.186409Z",
     "iopub.status.idle": "2024-07-13T04:29:35.211375Z",
     "shell.execute_reply": "2024-07-13T04:29:35.210035Z",
     "shell.execute_reply.started": "2024-07-13T04:29:35.186825Z"
    },
    "papermill": {
     "duration": null,
     "end_time": null,
     "exception": null,
     "start_time": null,
     "status": "pending"
    },
    "tags": []
   },
   "outputs": [
    {
     "data": {
      "text/html": [
       "<div>\n",
       "<style scoped>\n",
       "    .dataframe tbody tr th:only-of-type {\n",
       "        vertical-align: middle;\n",
       "    }\n",
       "\n",
       "    .dataframe tbody tr th {\n",
       "        vertical-align: top;\n",
       "    }\n",
       "\n",
       "    .dataframe thead th {\n",
       "        text-align: right;\n",
       "    }\n",
       "</style>\n",
       "<table border=\"1\" class=\"dataframe\">\n",
       "  <thead>\n",
       "    <tr style=\"text-align: right;\">\n",
       "      <th></th>\n",
       "      <th>?Format</th>\n",
       "      <th>Metric</th>\n",
       "      <th>Year</th>\n",
       "      <th>Number of Records</th>\n",
       "      <th>Value (Actual)</th>\n",
       "    </tr>\n",
       "  </thead>\n",
       "  <tbody>\n",
       "    <tr>\n",
       "      <th>10</th>\n",
       "      <td>CD</td>\n",
       "      <td>Units</td>\n",
       "      <td>1983</td>\n",
       "      <td>1</td>\n",
       "      <td>0.8</td>\n",
       "    </tr>\n",
       "    <tr>\n",
       "      <th>11</th>\n",
       "      <td>CD</td>\n",
       "      <td>Units</td>\n",
       "      <td>1984</td>\n",
       "      <td>1</td>\n",
       "      <td>5.8</td>\n",
       "    </tr>\n",
       "    <tr>\n",
       "      <th>12</th>\n",
       "      <td>CD</td>\n",
       "      <td>Units</td>\n",
       "      <td>1985</td>\n",
       "      <td>1</td>\n",
       "      <td>22.6</td>\n",
       "    </tr>\n",
       "    <tr>\n",
       "      <th>13</th>\n",
       "      <td>CD</td>\n",
       "      <td>Units</td>\n",
       "      <td>1986</td>\n",
       "      <td>1</td>\n",
       "      <td>53.0</td>\n",
       "    </tr>\n",
       "    <tr>\n",
       "      <th>14</th>\n",
       "      <td>CD</td>\n",
       "      <td>Units</td>\n",
       "      <td>1987</td>\n",
       "      <td>1</td>\n",
       "      <td>102.1</td>\n",
       "    </tr>\n",
       "  </tbody>\n",
       "</table>\n",
       "</div>"
      ],
      "text/plain": [
       "   ?Format Metric  Year  Number of Records  Value (Actual)\n",
       "10      CD  Units  1983                  1             0.8\n",
       "11      CD  Units  1984                  1             5.8\n",
       "12      CD  Units  1985                  1            22.6\n",
       "13      CD  Units  1986                  1            53.0\n",
       "14      CD  Units  1987                  1           102.1"
      ]
     },
     "execution_count": 42,
     "metadata": {},
     "output_type": "execute_result"
    }
   ],
   "source": [
    "import pandas as pd\n",
    "\n",
    "# Define the path to the CSV file\n",
    "MUSIC = '/Users/AlexFP/Desktop/MusicData.csv'\n",
    "\n",
    "# Read the CSV file\n",
    "df = pd.read_csv(MUSIC)\n",
    "\n",
    "# Drop rows with missing values\n",
    "df = df.dropna()\n",
    "\n",
    "# Convert 'Value (Actual)' to numeric, coercing errors\n",
    "df['Value (Actual)'] = pd.to_numeric(df['Value (Actual)'], errors='coerce')\n",
    "\n",
    "# Ensure 'Value (Actual)' has only non-negative values\n",
    "df['Value (Actual)'] = df['Value (Actual)'].apply(lambda x: 0 if x < 0 else x)\n",
    "\n",
    "# Display the first few rows of the DataFrame\n",
    "df.head()\n"
   ]
  },
  {
   "cell_type": "code",
   "execution_count": 43,
   "id": "a3e3ed6b",
   "metadata": {
    "execution": {
     "iopub.execute_input": "2024-07-13T04:29:46.998044Z",
     "iopub.status.busy": "2024-07-13T04:29:46.997619Z",
     "iopub.status.idle": "2024-07-13T04:29:47.383612Z",
     "shell.execute_reply": "2024-07-13T04:29:47.382497Z",
     "shell.execute_reply.started": "2024-07-13T04:29:46.998009Z"
    },
    "papermill": {
     "duration": null,
     "end_time": null,
     "exception": null,
     "start_time": null,
     "status": "pending"
    },
    "tags": []
   },
   "outputs": [
    {
     "data": {
      "application/vnd.plotly.v1+json": {
       "config": {
        "plotlyServerURL": "https://plot.ly"
       },
       "data": [
        {
         "alignmentgroup": "True",
         "bingroup": "x",
         "histfunc": "sum",
         "hovertemplate": "?Format=CD<br>Year=%{x}<br>sum of Value (Actual)=%{y}<extra></extra>",
         "legendgroup": "CD",
         "marker": {
          "color": "#AA0DFE",
          "pattern": {
           "shape": ""
          }
         },
         "name": "CD",
         "nbinsx": 47,
         "offsetgroup": "CD",
         "orientation": "v",
         "showlegend": true,
         "type": "histogram",
         "x": [
          1983,
          1984,
          1985,
          1986,
          1987,
          1988,
          1989,
          1990,
          1991,
          1992,
          1993,
          1994,
          1995,
          1996,
          1997,
          1998,
          1999,
          2000,
          2001,
          2002,
          2003,
          2004,
          2005,
          2006,
          2007,
          2008,
          2009,
          2010,
          2011,
          2012,
          2013,
          2014,
          2015,
          2016,
          2017,
          2018,
          2019
         ],
         "xaxis": "x",
         "y": [
          0.8,
          5.8,
          22.6,
          53,
          102.1,
          149.7,
          207.2,
          286.5,
          333.3,
          407.5,
          495.4,
          662.1,
          722.9,
          778.9,
          753.1,
          847,
          938.9,
          942.5,
          881.9,
          803.3,
          746,
          767,
          705.4,
          619.7,
          499.7,
          368.4,
          296.6,
          253,
          240.8,
          198.1643872,
          173.7933029,
          138.7023634,
          117.1440518,
          97.5770712,
          87.68249997,
          51.95427564,
          46.50649558
         ],
         "yaxis": "y"
        },
        {
         "alignmentgroup": "True",
         "bingroup": "x",
         "histfunc": "sum",
         "hovertemplate": "?Format=CD Single<br>Year=%{x}<br>sum of Value (Actual)=%{y}<extra></extra>",
         "legendgroup": "CD Single",
         "marker": {
          "color": "#3283FE",
          "pattern": {
           "shape": ""
          }
         },
         "name": "CD Single",
         "nbinsx": 47,
         "offsetgroup": "CD Single",
         "orientation": "v",
         "showlegend": true,
         "type": "histogram",
         "x": [
          1988,
          1989,
          1990,
          1991,
          1992,
          1993,
          1994,
          1995,
          1996,
          1997,
          1998,
          1999,
          2000,
          2001,
          2002,
          2003,
          2004,
          2005,
          2006,
          2007,
          2008,
          2009,
          2010,
          2011,
          2012,
          2013,
          2014,
          2015,
          2016,
          2017,
          2018,
          2019
         ],
         "xaxis": "x",
         "y": [
          1.6,
          0,
          1.1,
          5.7,
          7.3,
          7.8,
          9.3,
          21.5,
          43.2,
          66.7,
          56,
          55.9,
          34.2,
          17.3,
          4.5,
          8.3,
          3.1,
          2.8,
          1.7,
          2.6,
          0.7,
          0.9,
          1,
          1.3,
          1.072870407,
          0.628895398,
          0.928725116,
          0.386721563,
          0.121745255,
          0.13261663,
          0.020854078,
          0.026257455
         ],
         "yaxis": "y"
        },
        {
         "alignmentgroup": "True",
         "bingroup": "x",
         "histfunc": "sum",
         "hovertemplate": "?Format=Cassette<br>Year=%{x}<br>sum of Value (Actual)=%{y}<extra></extra>",
         "legendgroup": "Cassette",
         "marker": {
          "color": "#85660D",
          "pattern": {
           "shape": ""
          }
         },
         "name": "Cassette",
         "nbinsx": 47,
         "offsetgroup": "Cassette",
         "orientation": "v",
         "showlegend": true,
         "type": "histogram",
         "x": [
          1973,
          1974,
          1975,
          1976,
          1977,
          1978,
          1979,
          1980,
          1981,
          1982,
          1983,
          1984,
          1985,
          1986,
          1987,
          1988,
          1989,
          1990,
          1991,
          1992,
          1993,
          1994,
          1995,
          1996,
          1997,
          1998,
          1999,
          2000,
          2001,
          2002,
          2003,
          2004,
          2005,
          2006,
          2007,
          2008,
          2009,
          2010,
          2011
         ],
         "xaxis": "x",
         "y": [
          15,
          15.3,
          16.2,
          21.8,
          36.9,
          61.3,
          78.5,
          99,
          124,
          183.2,
          236.8,
          332,
          339.1,
          344.5,
          410,
          450.1,
          446.2,
          442.2,
          360.1,
          366.4,
          339.5,
          345.4,
          272.6,
          225.3,
          172.6,
          158.5,
          123.6,
          76,
          45,
          31.1,
          17.2,
          5.2,
          2.5,
          0.7,
          0.4,
          0.1,
          0,
          0,
          0
         ],
         "yaxis": "y"
        },
        {
         "alignmentgroup": "True",
         "bingroup": "x",
         "histfunc": "sum",
         "hovertemplate": "?Format=Cassette Single<br>Year=%{x}<br>sum of Value (Actual)=%{y}<extra></extra>",
         "legendgroup": "Cassette Single",
         "marker": {
          "color": "#782AB6",
          "pattern": {
           "shape": ""
          }
         },
         "name": "Cassette Single",
         "nbinsx": 47,
         "offsetgroup": "Cassette Single",
         "orientation": "v",
         "showlegend": true,
         "type": "histogram",
         "x": [
          1987,
          1988,
          1989,
          1990,
          1991,
          1992,
          1993,
          1994,
          1995,
          1996,
          1997,
          1998,
          1999,
          2000,
          2001,
          2002,
          2003,
          2004,
          2005,
          2006,
          2007,
          2008,
          2009,
          2010,
          2011
         ],
         "xaxis": "x",
         "y": [
          5.1,
          22.5,
          76.2,
          87.4,
          69,
          84.6,
          85.6,
          81.1,
          70.7,
          59.9,
          42.2,
          26.4,
          14.2,
          1.3,
          0,
          0,
          0,
          0,
          0,
          0,
          0,
          0,
          0,
          0,
          0
         ],
         "yaxis": "y"
        },
        {
         "alignmentgroup": "True",
         "bingroup": "x",
         "histfunc": "sum",
         "hovertemplate": "?Format=LP/EP<br>Year=%{x}<br>sum of Value (Actual)=%{y}<extra></extra>",
         "legendgroup": "LP/EP",
         "marker": {
          "color": "#565656",
          "pattern": {
           "shape": ""
          }
         },
         "name": "LP/EP",
         "nbinsx": 47,
         "offsetgroup": "LP/EP",
         "orientation": "v",
         "showlegend": true,
         "type": "histogram",
         "x": [
          1973,
          1974,
          1975,
          1976,
          1977,
          1978,
          1979,
          1980,
          1981,
          1982,
          1983,
          1984,
          1985,
          1986,
          1987,
          1988,
          1989,
          1990,
          1991,
          1992,
          1993,
          1994,
          1995,
          1996,
          1997,
          1998,
          1999,
          2000,
          2001,
          2002,
          2003,
          2004,
          2005,
          2006,
          2007,
          2008,
          2009,
          2010,
          2011,
          2012,
          2013,
          2014,
          2015,
          2016,
          2017,
          2018,
          2019
         ],
         "xaxis": "x",
         "y": [
          280,
          276,
          257,
          273,
          344,
          341.3,
          290,
          308,
          295.2,
          243.9,
          209.6,
          204.6,
          167,
          125.2,
          107,
          72.4,
          34.6,
          11.7,
          4.8,
          2.3,
          1.2,
          1.9,
          2.2,
          2.9,
          2.7,
          3.4,
          2.9,
          2.2,
          2.3,
          1.743,
          1.5,
          1.4,
          1,
          0.9,
          1.3,
          2.9,
          3.5,
          4.2,
          5.5,
          6.915365189,
          9.35128587,
          10.31556391,
          13.68102972,
          14.77088603,
          15.55608917,
          16.67012733,
          19.10316283
         ],
         "yaxis": "y"
        },
        {
         "alignmentgroup": "True",
         "bingroup": "x",
         "histfunc": "sum",
         "hovertemplate": "?Format=Vinyl Single<br>Year=%{x}<br>sum of Value (Actual)=%{y}<extra></extra>",
         "legendgroup": "Vinyl Single",
         "marker": {
          "color": "#1C8356",
          "pattern": {
           "shape": ""
          }
         },
         "name": "Vinyl Single",
         "nbinsx": 47,
         "offsetgroup": "Vinyl Single",
         "orientation": "v",
         "showlegend": true,
         "type": "histogram",
         "x": [
          1973,
          1974,
          1975,
          1976,
          1977,
          1978,
          1979,
          1980,
          1981,
          1982,
          1983,
          1984,
          1985,
          1986,
          1987,
          1988,
          1989,
          1990,
          1991,
          1992,
          1993,
          1994,
          1995,
          1996,
          1997,
          1998,
          1999,
          2000,
          2001,
          2002,
          2003,
          2004,
          2005,
          2006,
          2007,
          2008,
          2009,
          2010,
          2011,
          2012,
          2013,
          2014,
          2015,
          2016,
          2017,
          2018,
          2019
         ],
         "xaxis": "x",
         "y": [
          228,
          204,
          164,
          190,
          190,
          190,
          212,
          157,
          154.7,
          137.2,
          124.8,
          131.5,
          120.7,
          93.9,
          82,
          65.6,
          36.6,
          27.6,
          22,
          19.8,
          15.1,
          11.7,
          10.2,
          10.1,
          7.5,
          5.4,
          5.3,
          4.8,
          5.5,
          4.4,
          3.8,
          3.5,
          2.3,
          1.5,
          0.6,
          0.4,
          0.3,
          0.3,
          0.4,
          0.388573687,
          0.315817054,
          0.481198278,
          0.50786991,
          0.404330651,
          0.402959365,
          0.346165002,
          0.336120488
         ],
         "yaxis": "y"
        },
        {
         "alignmentgroup": "True",
         "bingroup": "x",
         "histfunc": "sum",
         "hovertemplate": "?Format=8 - Track<br>Year=%{x}<br>sum of Value (Actual)=%{y}<extra></extra>",
         "legendgroup": "8 - Track",
         "marker": {
          "color": "#16FF32",
          "pattern": {
           "shape": ""
          }
         },
         "name": "8 - Track",
         "nbinsx": 47,
         "offsetgroup": "8 - Track",
         "orientation": "v",
         "showlegend": true,
         "type": "histogram",
         "x": [
          1973,
          1974,
          1975,
          1976,
          1977,
          1978,
          1979,
          1980,
          1981,
          1982,
          1983,
          1984,
          1985,
          1986,
          1987,
          1988,
          1989,
          1990,
          1991,
          1992,
          1993,
          1994,
          1995,
          1996,
          1997,
          1998,
          1999,
          2000,
          2001,
          2002,
          2003,
          2004,
          2005,
          2006,
          2007,
          2008,
          2009,
          2010,
          2011
         ],
         "xaxis": "x",
         "y": [
          91,
          96.7,
          94.6,
          106.1,
          127.3,
          133.6,
          102.3,
          85,
          50,
          13.7,
          0,
          0,
          0,
          0,
          0,
          0,
          0,
          0,
          0,
          0,
          0,
          0,
          0,
          0,
          0,
          0,
          0,
          0,
          0,
          0,
          0,
          0,
          0,
          0,
          0,
          0,
          0,
          0,
          0
         ],
         "yaxis": "y"
        },
        {
         "alignmentgroup": "True",
         "bingroup": "x",
         "histfunc": "sum",
         "hovertemplate": "?Format=Other Tapes<br>Year=%{x}<br>sum of Value (Actual)=%{y}<extra></extra>",
         "legendgroup": "Other Tapes",
         "marker": {
          "color": "#F7E1A0",
          "pattern": {
           "shape": ""
          }
         },
         "name": "Other Tapes",
         "nbinsx": 47,
         "offsetgroup": "Other Tapes",
         "orientation": "v",
         "showlegend": true,
         "type": "histogram",
         "x": [
          1973,
          1974,
          1975,
          1976,
          1977,
          1978,
          1979,
          1980,
          1981,
          1982,
          1983,
          1984,
          1985,
          1986,
          1987,
          1988,
          1989,
          1990,
          1991,
          1992,
          1993,
          1994,
          1995,
          1996,
          1997,
          1998,
          1999,
          2000,
          2001,
          2002,
          2003,
          2004,
          2005,
          2006,
          2007,
          2008,
          2009,
          2010,
          2011
         ],
         "xaxis": "x",
         "y": [
          2.2,
          1.9,
          1.5,
          0.7,
          0,
          0,
          0,
          0,
          0,
          0,
          0,
          0,
          0,
          0,
          0,
          0,
          0,
          0,
          0,
          0,
          0,
          0,
          0,
          0,
          0,
          0,
          0,
          0,
          0,
          0,
          0,
          0,
          0,
          0,
          0,
          0,
          0,
          0,
          0
         ],
         "yaxis": "y"
        },
        {
         "alignmentgroup": "True",
         "bingroup": "x",
         "histfunc": "sum",
         "hovertemplate": "?Format=Music Video (Physical)<br>Year=%{x}<br>sum of Value (Actual)=%{y}<extra></extra>",
         "legendgroup": "Music Video (Physical)",
         "marker": {
          "color": "#E2E2E2",
          "pattern": {
           "shape": ""
          }
         },
         "name": "Music Video (Physical)",
         "nbinsx": 47,
         "offsetgroup": "Music Video (Physical)",
         "orientation": "v",
         "showlegend": true,
         "type": "histogram",
         "x": [
          1989,
          1990,
          1991,
          1992,
          1993,
          1994,
          1995,
          1996,
          1997,
          1998,
          1999,
          2000,
          2001,
          2002,
          2003,
          2004,
          2005,
          2006,
          2007,
          2008,
          2009,
          2010,
          2011,
          2012,
          2013,
          2014,
          2015,
          2016,
          2017,
          2018,
          2019
         ],
         "xaxis": "x",
         "y": [
          6.1,
          9.2,
          6.1,
          7.6,
          11,
          11.2,
          12.6,
          16.9,
          18.6,
          27.2,
          19.8,
          18.2,
          17.7,
          14.7,
          19.9,
          32.8,
          33.8,
          23.2,
          27.5,
          13.2,
          11.6,
          9.1,
          7.7,
          6.032725467,
          4.814626524,
          4.065323601,
          3.133228006,
          2.495531725,
          1.87712837,
          1.395058021,
          1.32294236
         ],
         "yaxis": "y"
        },
        {
         "alignmentgroup": "True",
         "bingroup": "x",
         "histfunc": "sum",
         "hovertemplate": "?Format=DVD Audio<br>Year=%{x}<br>sum of Value (Actual)=%{y}<extra></extra>",
         "legendgroup": "DVD Audio",
         "marker": {
          "color": "#1CBE4F",
          "pattern": {
           "shape": ""
          }
         },
         "name": "DVD Audio",
         "nbinsx": 47,
         "offsetgroup": "DVD Audio",
         "orientation": "v",
         "showlegend": true,
         "type": "histogram",
         "x": [
          2001,
          2002,
          2003,
          2004,
          2005,
          2006,
          2007,
          2008,
          2009,
          2010,
          2011,
          2012,
          2013,
          2014,
          2015,
          2016,
          2017,
          2018,
          2019
         ],
         "xaxis": "x",
         "y": [
          0.263,
          0.43,
          0.4,
          0.3,
          0.5,
          0.1,
          0.2,
          0.04,
          0.1,
          0.04,
          0.01,
          0.008533145,
          0,
          0.066542722,
          0.179506738,
          0.085898932,
          0.061332251,
          0.092803246,
          0.027982262
         ],
         "yaxis": "y"
        },
        {
         "alignmentgroup": "True",
         "bingroup": "x",
         "histfunc": "sum",
         "hovertemplate": "?Format=SACD<br>Year=%{x}<br>sum of Value (Actual)=%{y}<extra></extra>",
         "legendgroup": "SACD",
         "marker": {
          "color": "#C4451C",
          "pattern": {
           "shape": ""
          }
         },
         "name": "SACD",
         "nbinsx": 47,
         "offsetgroup": "SACD",
         "orientation": "v",
         "showlegend": true,
         "type": "histogram",
         "x": [
          2003,
          2004,
          2005,
          2006,
          2007,
          2008,
          2009,
          2010,
          2011,
          2012,
          2013,
          2014,
          2015,
          2016,
          2017,
          2018,
          2019
         ],
         "xaxis": "x",
         "y": [
          1.3,
          0.8,
          0.5,
          0.3,
          0.2,
          0.1,
          0.1,
          0.1,
          0.1,
          0.065446,
          0.044683,
          0.030486,
          0.041633,
          0.045272,
          0.032749,
          0.032804,
          0.017654
         ],
         "yaxis": "y"
        },
        {
         "alignmentgroup": "True",
         "bingroup": "x",
         "histfunc": "sum",
         "hovertemplate": "?Format=Download Single<br>Year=%{x}<br>sum of Value (Actual)=%{y}<extra></extra>",
         "legendgroup": "Download Single",
         "marker": {
          "color": "#DEA0FD",
          "pattern": {
           "shape": ""
          }
         },
         "name": "Download Single",
         "nbinsx": 47,
         "offsetgroup": "Download Single",
         "orientation": "v",
         "showlegend": true,
         "type": "histogram",
         "x": [
          2004,
          2005,
          2006,
          2007,
          2008,
          2009,
          2010,
          2011,
          2012,
          2013,
          2014,
          2015,
          2016,
          2017,
          2018,
          2019
         ],
         "xaxis": "x",
         "y": [
          139.4,
          366.9,
          586.4,
          819.4,
          null,
          null,
          null,
          null,
          null,
          null,
          null,
          986.2550359,
          743.0034138,
          553.5161518,
          399.7738523,
          335.3391935
         ],
         "yaxis": "y"
        },
        {
         "alignmentgroup": "True",
         "bingroup": "x",
         "histfunc": "sum",
         "hovertemplate": "?Format=Download Album<br>Year=%{x}<br>sum of Value (Actual)=%{y}<extra></extra>",
         "legendgroup": "Download Album",
         "marker": {
          "color": "#FE00FA",
          "pattern": {
           "shape": ""
          }
         },
         "name": "Download Album",
         "nbinsx": 47,
         "offsetgroup": "Download Album",
         "orientation": "v",
         "showlegend": true,
         "type": "histogram",
         "x": [
          2004,
          2005,
          2006,
          2007,
          2008,
          2009,
          2010,
          2011,
          2012,
          2013,
          2014,
          2015,
          2016,
          2017,
          2018,
          2019
         ],
         "xaxis": "x",
         "y": [
          4.6,
          13.6,
          27.6,
          49.8,
          63.6,
          74.5,
          85.8,
          103.9,
          116.7336318,
          117.979213,
          114.2304708,
          106.7838841,
          85.12334989,
          66.38610376,
          49.73492454,
          40.20271234
         ],
         "yaxis": "y"
        },
        {
         "alignmentgroup": "True",
         "bingroup": "x",
         "histfunc": "sum",
         "hovertemplate": "?Format=Kiosk<br>Year=%{x}<br>sum of Value (Actual)=%{y}<extra></extra>",
         "legendgroup": "Kiosk",
         "marker": {
          "color": "#325A9B",
          "pattern": {
           "shape": ""
          }
         },
         "name": "Kiosk",
         "nbinsx": 47,
         "offsetgroup": "Kiosk",
         "orientation": "v",
         "showlegend": true,
         "type": "histogram",
         "x": [
          2005,
          2006,
          2007,
          2008,
          2009,
          2010,
          2011,
          2012,
          2013,
          2014,
          2015,
          2016,
          2017,
          2018,
          2019
         ],
         "xaxis": "x",
         "y": [
          0.7,
          1.4,
          1.8,
          1.6,
          1.7,
          1.7,
          1.3,
          1.95507,
          3.7442,
          1.592073358,
          2.202659889,
          1.74878121,
          1.322377717,
          1.097856529,
          0.899703865
         ],
         "yaxis": "y"
        },
        {
         "alignmentgroup": "True",
         "bingroup": "x",
         "histfunc": "sum",
         "hovertemplate": "?Format=Download Music Video<br>Year=%{x}<br>sum of Value (Actual)=%{y}<extra></extra>",
         "legendgroup": "Download Music Video",
         "marker": {
          "color": "#FEAF16",
          "pattern": {
           "shape": ""
          }
         },
         "name": "Download Music Video",
         "nbinsx": 47,
         "offsetgroup": "Download Music Video",
         "orientation": "v",
         "showlegend": true,
         "type": "histogram",
         "x": [
          2005,
          2006,
          2007,
          2008,
          2009,
          2010,
          2011,
          2012,
          2013,
          2014,
          2015,
          2016,
          2017,
          2018,
          2019
         ],
         "xaxis": "x",
         "y": [
          1.9,
          9.9,
          14.2,
          20.8,
          20.5,
          18.4,
          16.3,
          10.473489,
          8.412464,
          6.82264392,
          3.223325002,
          2.145427196,
          1.399889693,
          1.115985226,
          0.93412583
         ],
         "yaxis": "y"
        },
        {
         "alignmentgroup": "True",
         "bingroup": "x",
         "histfunc": "sum",
         "hovertemplate": "?Format=Ringtones & Ringbacks<br>Year=%{x}<br>sum of Value (Actual)=%{y}<extra></extra>",
         "legendgroup": "Ringtones & Ringbacks",
         "marker": {
          "color": "#F8A19F",
          "pattern": {
           "shape": ""
          }
         },
         "name": "Ringtones & Ringbacks",
         "nbinsx": 47,
         "offsetgroup": "Ringtones & Ringbacks",
         "orientation": "v",
         "showlegend": true,
         "type": "histogram",
         "x": [
          2005,
          2006,
          2007,
          2008,
          2009,
          2010,
          2011,
          2012,
          2013,
          2014,
          2015,
          2016,
          2017,
          2018,
          2019
         ],
         "xaxis": "x",
         "y": [
          170,
          315,
          433.8,
          405.1,
          294.3,
          188.5,
          115.4,
          58.75740356,
          39.36623578,
          26.63232368,
          21.92486605,
          22.62078539,
          14.26286994,
          10.02628673,
          8.605769716
         ],
         "yaxis": "y"
        },
        {
         "alignmentgroup": "True",
         "bingroup": "x",
         "histfunc": "sum",
         "hovertemplate": "?Format=Paid Subscriptions<br>Year=%{x}<br>sum of Value (Actual)=%{y}<extra></extra>",
         "legendgroup": "Paid Subscriptions",
         "marker": {
          "color": "#90AD1C",
          "pattern": {
           "shape": ""
          }
         },
         "name": "Paid Subscriptions",
         "nbinsx": 47,
         "offsetgroup": "Paid Subscriptions",
         "orientation": "v",
         "showlegend": true,
         "type": "histogram",
         "x": [
          2005,
          2006,
          2007,
          2008,
          2009,
          2010,
          2011,
          2012,
          2013,
          2014,
          2015,
          2016,
          2017,
          2018,
          2019,
          2005,
          2006,
          2007,
          2008,
          2009,
          2010,
          2011,
          2012,
          2013,
          2014,
          2015,
          2016,
          2017,
          2018
         ],
         "xaxis": "x",
         "y": [
          1.3,
          1.7,
          1.8,
          1.6,
          1.2,
          1.5,
          1.8,
          3.36,
          6.16,
          7.73,
          10.84,
          22.68,
          35.27350122,
          46.91132324,
          60.38194761,
          1.3,
          1.7,
          1.8,
          1.6,
          1.2,
          1.5,
          1.8,
          3.4,
          6.2,
          7.7,
          10.8,
          22.7,
          35.3,
          50.2
         ],
         "yaxis": "y"
        }
       ],
       "layout": {
        "barmode": "relative",
        "height": 600,
        "legend": {
         "title": {
          "text": "?Format"
         },
         "tracegroupgap": 0
        },
        "margin": {
         "t": 60
        },
        "template": {
         "data": {
          "bar": [
           {
            "error_x": {
             "color": "#2a3f5f"
            },
            "error_y": {
             "color": "#2a3f5f"
            },
            "marker": {
             "line": {
              "color": "#E5ECF6",
              "width": 0.5
             },
             "pattern": {
              "fillmode": "overlay",
              "size": 10,
              "solidity": 0.2
             }
            },
            "type": "bar"
           }
          ],
          "barpolar": [
           {
            "marker": {
             "line": {
              "color": "#E5ECF6",
              "width": 0.5
             },
             "pattern": {
              "fillmode": "overlay",
              "size": 10,
              "solidity": 0.2
             }
            },
            "type": "barpolar"
           }
          ],
          "carpet": [
           {
            "aaxis": {
             "endlinecolor": "#2a3f5f",
             "gridcolor": "white",
             "linecolor": "white",
             "minorgridcolor": "white",
             "startlinecolor": "#2a3f5f"
            },
            "baxis": {
             "endlinecolor": "#2a3f5f",
             "gridcolor": "white",
             "linecolor": "white",
             "minorgridcolor": "white",
             "startlinecolor": "#2a3f5f"
            },
            "type": "carpet"
           }
          ],
          "choropleth": [
           {
            "colorbar": {
             "outlinewidth": 0,
             "ticks": ""
            },
            "type": "choropleth"
           }
          ],
          "contour": [
           {
            "colorbar": {
             "outlinewidth": 0,
             "ticks": ""
            },
            "colorscale": [
             [
              0,
              "#0d0887"
             ],
             [
              0.1111111111111111,
              "#46039f"
             ],
             [
              0.2222222222222222,
              "#7201a8"
             ],
             [
              0.3333333333333333,
              "#9c179e"
             ],
             [
              0.4444444444444444,
              "#bd3786"
             ],
             [
              0.5555555555555556,
              "#d8576b"
             ],
             [
              0.6666666666666666,
              "#ed7953"
             ],
             [
              0.7777777777777778,
              "#fb9f3a"
             ],
             [
              0.8888888888888888,
              "#fdca26"
             ],
             [
              1,
              "#f0f921"
             ]
            ],
            "type": "contour"
           }
          ],
          "contourcarpet": [
           {
            "colorbar": {
             "outlinewidth": 0,
             "ticks": ""
            },
            "type": "contourcarpet"
           }
          ],
          "heatmap": [
           {
            "colorbar": {
             "outlinewidth": 0,
             "ticks": ""
            },
            "colorscale": [
             [
              0,
              "#0d0887"
             ],
             [
              0.1111111111111111,
              "#46039f"
             ],
             [
              0.2222222222222222,
              "#7201a8"
             ],
             [
              0.3333333333333333,
              "#9c179e"
             ],
             [
              0.4444444444444444,
              "#bd3786"
             ],
             [
              0.5555555555555556,
              "#d8576b"
             ],
             [
              0.6666666666666666,
              "#ed7953"
             ],
             [
              0.7777777777777778,
              "#fb9f3a"
             ],
             [
              0.8888888888888888,
              "#fdca26"
             ],
             [
              1,
              "#f0f921"
             ]
            ],
            "type": "heatmap"
           }
          ],
          "heatmapgl": [
           {
            "colorbar": {
             "outlinewidth": 0,
             "ticks": ""
            },
            "colorscale": [
             [
              0,
              "#0d0887"
             ],
             [
              0.1111111111111111,
              "#46039f"
             ],
             [
              0.2222222222222222,
              "#7201a8"
             ],
             [
              0.3333333333333333,
              "#9c179e"
             ],
             [
              0.4444444444444444,
              "#bd3786"
             ],
             [
              0.5555555555555556,
              "#d8576b"
             ],
             [
              0.6666666666666666,
              "#ed7953"
             ],
             [
              0.7777777777777778,
              "#fb9f3a"
             ],
             [
              0.8888888888888888,
              "#fdca26"
             ],
             [
              1,
              "#f0f921"
             ]
            ],
            "type": "heatmapgl"
           }
          ],
          "histogram": [
           {
            "marker": {
             "pattern": {
              "fillmode": "overlay",
              "size": 10,
              "solidity": 0.2
             }
            },
            "type": "histogram"
           }
          ],
          "histogram2d": [
           {
            "colorbar": {
             "outlinewidth": 0,
             "ticks": ""
            },
            "colorscale": [
             [
              0,
              "#0d0887"
             ],
             [
              0.1111111111111111,
              "#46039f"
             ],
             [
              0.2222222222222222,
              "#7201a8"
             ],
             [
              0.3333333333333333,
              "#9c179e"
             ],
             [
              0.4444444444444444,
              "#bd3786"
             ],
             [
              0.5555555555555556,
              "#d8576b"
             ],
             [
              0.6666666666666666,
              "#ed7953"
             ],
             [
              0.7777777777777778,
              "#fb9f3a"
             ],
             [
              0.8888888888888888,
              "#fdca26"
             ],
             [
              1,
              "#f0f921"
             ]
            ],
            "type": "histogram2d"
           }
          ],
          "histogram2dcontour": [
           {
            "colorbar": {
             "outlinewidth": 0,
             "ticks": ""
            },
            "colorscale": [
             [
              0,
              "#0d0887"
             ],
             [
              0.1111111111111111,
              "#46039f"
             ],
             [
              0.2222222222222222,
              "#7201a8"
             ],
             [
              0.3333333333333333,
              "#9c179e"
             ],
             [
              0.4444444444444444,
              "#bd3786"
             ],
             [
              0.5555555555555556,
              "#d8576b"
             ],
             [
              0.6666666666666666,
              "#ed7953"
             ],
             [
              0.7777777777777778,
              "#fb9f3a"
             ],
             [
              0.8888888888888888,
              "#fdca26"
             ],
             [
              1,
              "#f0f921"
             ]
            ],
            "type": "histogram2dcontour"
           }
          ],
          "mesh3d": [
           {
            "colorbar": {
             "outlinewidth": 0,
             "ticks": ""
            },
            "type": "mesh3d"
           }
          ],
          "parcoords": [
           {
            "line": {
             "colorbar": {
              "outlinewidth": 0,
              "ticks": ""
             }
            },
            "type": "parcoords"
           }
          ],
          "pie": [
           {
            "automargin": true,
            "type": "pie"
           }
          ],
          "scatter": [
           {
            "fillpattern": {
             "fillmode": "overlay",
             "size": 10,
             "solidity": 0.2
            },
            "type": "scatter"
           }
          ],
          "scatter3d": [
           {
            "line": {
             "colorbar": {
              "outlinewidth": 0,
              "ticks": ""
             }
            },
            "marker": {
             "colorbar": {
              "outlinewidth": 0,
              "ticks": ""
             }
            },
            "type": "scatter3d"
           }
          ],
          "scattercarpet": [
           {
            "marker": {
             "colorbar": {
              "outlinewidth": 0,
              "ticks": ""
             }
            },
            "type": "scattercarpet"
           }
          ],
          "scattergeo": [
           {
            "marker": {
             "colorbar": {
              "outlinewidth": 0,
              "ticks": ""
             }
            },
            "type": "scattergeo"
           }
          ],
          "scattergl": [
           {
            "marker": {
             "colorbar": {
              "outlinewidth": 0,
              "ticks": ""
             }
            },
            "type": "scattergl"
           }
          ],
          "scattermapbox": [
           {
            "marker": {
             "colorbar": {
              "outlinewidth": 0,
              "ticks": ""
             }
            },
            "type": "scattermapbox"
           }
          ],
          "scatterpolar": [
           {
            "marker": {
             "colorbar": {
              "outlinewidth": 0,
              "ticks": ""
             }
            },
            "type": "scatterpolar"
           }
          ],
          "scatterpolargl": [
           {
            "marker": {
             "colorbar": {
              "outlinewidth": 0,
              "ticks": ""
             }
            },
            "type": "scatterpolargl"
           }
          ],
          "scatterternary": [
           {
            "marker": {
             "colorbar": {
              "outlinewidth": 0,
              "ticks": ""
             }
            },
            "type": "scatterternary"
           }
          ],
          "surface": [
           {
            "colorbar": {
             "outlinewidth": 0,
             "ticks": ""
            },
            "colorscale": [
             [
              0,
              "#0d0887"
             ],
             [
              0.1111111111111111,
              "#46039f"
             ],
             [
              0.2222222222222222,
              "#7201a8"
             ],
             [
              0.3333333333333333,
              "#9c179e"
             ],
             [
              0.4444444444444444,
              "#bd3786"
             ],
             [
              0.5555555555555556,
              "#d8576b"
             ],
             [
              0.6666666666666666,
              "#ed7953"
             ],
             [
              0.7777777777777778,
              "#fb9f3a"
             ],
             [
              0.8888888888888888,
              "#fdca26"
             ],
             [
              1,
              "#f0f921"
             ]
            ],
            "type": "surface"
           }
          ],
          "table": [
           {
            "cells": {
             "fill": {
              "color": "#EBF0F8"
             },
             "line": {
              "color": "white"
             }
            },
            "header": {
             "fill": {
              "color": "#C8D4E3"
             },
             "line": {
              "color": "white"
             }
            },
            "type": "table"
           }
          ]
         },
         "layout": {
          "annotationdefaults": {
           "arrowcolor": "#2a3f5f",
           "arrowhead": 0,
           "arrowwidth": 1
          },
          "autotypenumbers": "strict",
          "coloraxis": {
           "colorbar": {
            "outlinewidth": 0,
            "ticks": ""
           }
          },
          "colorscale": {
           "diverging": [
            [
             0,
             "#8e0152"
            ],
            [
             0.1,
             "#c51b7d"
            ],
            [
             0.2,
             "#de77ae"
            ],
            [
             0.3,
             "#f1b6da"
            ],
            [
             0.4,
             "#fde0ef"
            ],
            [
             0.5,
             "#f7f7f7"
            ],
            [
             0.6,
             "#e6f5d0"
            ],
            [
             0.7,
             "#b8e186"
            ],
            [
             0.8,
             "#7fbc41"
            ],
            [
             0.9,
             "#4d9221"
            ],
            [
             1,
             "#276419"
            ]
           ],
           "sequential": [
            [
             0,
             "#0d0887"
            ],
            [
             0.1111111111111111,
             "#46039f"
            ],
            [
             0.2222222222222222,
             "#7201a8"
            ],
            [
             0.3333333333333333,
             "#9c179e"
            ],
            [
             0.4444444444444444,
             "#bd3786"
            ],
            [
             0.5555555555555556,
             "#d8576b"
            ],
            [
             0.6666666666666666,
             "#ed7953"
            ],
            [
             0.7777777777777778,
             "#fb9f3a"
            ],
            [
             0.8888888888888888,
             "#fdca26"
            ],
            [
             1,
             "#f0f921"
            ]
           ],
           "sequentialminus": [
            [
             0,
             "#0d0887"
            ],
            [
             0.1111111111111111,
             "#46039f"
            ],
            [
             0.2222222222222222,
             "#7201a8"
            ],
            [
             0.3333333333333333,
             "#9c179e"
            ],
            [
             0.4444444444444444,
             "#bd3786"
            ],
            [
             0.5555555555555556,
             "#d8576b"
            ],
            [
             0.6666666666666666,
             "#ed7953"
            ],
            [
             0.7777777777777778,
             "#fb9f3a"
            ],
            [
             0.8888888888888888,
             "#fdca26"
            ],
            [
             1,
             "#f0f921"
            ]
           ]
          },
          "colorway": [
           "#636efa",
           "#EF553B",
           "#00cc96",
           "#ab63fa",
           "#FFA15A",
           "#19d3f3",
           "#FF6692",
           "#B6E880",
           "#FF97FF",
           "#FECB52"
          ],
          "font": {
           "color": "#2a3f5f"
          },
          "geo": {
           "bgcolor": "white",
           "lakecolor": "white",
           "landcolor": "#E5ECF6",
           "showlakes": true,
           "showland": true,
           "subunitcolor": "white"
          },
          "hoverlabel": {
           "align": "left"
          },
          "hovermode": "closest",
          "mapbox": {
           "style": "light"
          },
          "paper_bgcolor": "white",
          "plot_bgcolor": "#E5ECF6",
          "polar": {
           "angularaxis": {
            "gridcolor": "white",
            "linecolor": "white",
            "ticks": ""
           },
           "bgcolor": "#E5ECF6",
           "radialaxis": {
            "gridcolor": "white",
            "linecolor": "white",
            "ticks": ""
           }
          },
          "scene": {
           "xaxis": {
            "backgroundcolor": "#E5ECF6",
            "gridcolor": "white",
            "gridwidth": 2,
            "linecolor": "white",
            "showbackground": true,
            "ticks": "",
            "zerolinecolor": "white"
           },
           "yaxis": {
            "backgroundcolor": "#E5ECF6",
            "gridcolor": "white",
            "gridwidth": 2,
            "linecolor": "white",
            "showbackground": true,
            "ticks": "",
            "zerolinecolor": "white"
           },
           "zaxis": {
            "backgroundcolor": "#E5ECF6",
            "gridcolor": "white",
            "gridwidth": 2,
            "linecolor": "white",
            "showbackground": true,
            "ticks": "",
            "zerolinecolor": "white"
           }
          },
          "shapedefaults": {
           "line": {
            "color": "#2a3f5f"
           }
          },
          "ternary": {
           "aaxis": {
            "gridcolor": "white",
            "linecolor": "white",
            "ticks": ""
           },
           "baxis": {
            "gridcolor": "white",
            "linecolor": "white",
            "ticks": ""
           },
           "bgcolor": "#E5ECF6",
           "caxis": {
            "gridcolor": "white",
            "linecolor": "white",
            "ticks": ""
           }
          },
          "title": {
           "x": 0.05
          },
          "xaxis": {
           "automargin": true,
           "gridcolor": "white",
           "linecolor": "white",
           "ticks": "",
           "title": {
            "standoff": 15
           },
           "zerolinecolor": "white",
           "zerolinewidth": 2
          },
          "yaxis": {
           "automargin": true,
           "gridcolor": "white",
           "linecolor": "white",
           "ticks": "",
           "title": {
            "standoff": 15
           },
           "zerolinecolor": "white",
           "zerolinewidth": 2
          }
         }
        },
        "xaxis": {
         "anchor": "y",
         "domain": [
          0,
          1
         ],
         "title": {
          "text": "Year"
         }
        },
        "yaxis": {
         "anchor": "x",
         "domain": [
          0,
          1
         ],
         "title": {
          "text": "sum of Value (Actual)"
         }
        }
       }
      }
     },
     "metadata": {},
     "output_type": "display_data"
    },
    {
     "data": {
      "application/vnd.plotly.v1+json": {
       "config": {
        "plotlyServerURL": "https://plot.ly"
       },
       "data": [
        {
         "alignmentgroup": "True",
         "bingroup": "x",
         "histfunc": "sum",
         "hovertemplate": "?Format=CD<br>Metric=Value<br>Year=%{x}<br>sum of Value (Actual)=%{y}<extra></extra>",
         "legendgroup": "CD",
         "marker": {
          "color": "#AA0DFE",
          "pattern": {
           "shape": ""
          }
         },
         "name": "CD",
         "nbinsx": 47,
         "offsetgroup": "CD",
         "orientation": "v",
         "showlegend": true,
         "type": "histogram",
         "x": [
          1983,
          1984,
          1985,
          1986,
          1987,
          1988,
          1989,
          1990,
          1991,
          1992,
          1993,
          1994,
          1995,
          1996,
          1997,
          1998,
          1999,
          2000,
          2001,
          2002,
          2003,
          2004,
          2005,
          2006,
          2007,
          2008,
          2009,
          2010,
          2011,
          2012,
          2013,
          2014,
          2015,
          2016,
          2017,
          2018,
          2019
         ],
         "xaxis": "x2",
         "y": [
          17.2,
          103.3,
          389.5,
          930.1,
          null,
          null,
          null,
          null,
          null,
          null,
          null,
          null,
          null,
          null,
          null,
          null,
          null,
          null,
          null,
          null,
          null,
          null,
          null,
          null,
          null,
          null,
          null,
          null,
          null,
          null,
          null,
          null,
          null,
          null,
          null,
          698.3866372,
          614.5097799
         ],
         "yaxis": "y2"
        },
        {
         "alignmentgroup": "True",
         "bingroup": "x",
         "histfunc": "sum",
         "hovertemplate": "?Format=CD<br>Metric=Value (Adjusted)<br>Year=%{x}<br>sum of Value (Actual)=%{y}<extra></extra>",
         "legendgroup": "CD",
         "marker": {
          "color": "#AA0DFE",
          "pattern": {
           "shape": ""
          }
         },
         "name": "CD",
         "nbinsx": 47,
         "offsetgroup": "CD",
         "orientation": "v",
         "showlegend": false,
         "type": "histogram",
         "x": [
          1983,
          1984,
          1985,
          1986,
          1987,
          1988,
          1989,
          1990,
          1991,
          1992,
          1993,
          1994,
          1995,
          1996,
          1997,
          1998,
          1999,
          2000,
          2001,
          2002,
          2003,
          2004,
          2005,
          2006,
          2007,
          2008,
          2009,
          2010,
          2011,
          2012,
          2013,
          2014,
          2015,
          2016,
          2017,
          2018,
          2019
         ],
         "xaxis": "x",
         "y": [
          44.14960241,
          254.1806362,
          925.4498281,
          null,
          null,
          null,
          null,
          null,
          null,
          null,
          null,
          null,
          null,
          null,
          null,
          null,
          null,
          null,
          null,
          null,
          null,
          null,
          null,
          null,
          null,
          null,
          null,
          null,
          null,
          null,
          null,
          null,
          null,
          null,
          null,
          711.0412395,
          614.5097799
         ],
         "yaxis": "y"
        },
        {
         "alignmentgroup": "True",
         "bingroup": "x",
         "histfunc": "sum",
         "hovertemplate": "?Format=CD Single<br>Metric=Value<br>Year=%{x}<br>sum of Value (Actual)=%{y}<extra></extra>",
         "legendgroup": "CD Single",
         "marker": {
          "color": "#3283FE",
          "pattern": {
           "shape": ""
          }
         },
         "name": "CD Single",
         "nbinsx": 47,
         "offsetgroup": "CD Single",
         "orientation": "v",
         "showlegend": true,
         "type": "histogram",
         "x": [
          1988,
          1989,
          1990,
          1991,
          1992,
          1993,
          1994,
          1995,
          1996,
          1997,
          1998,
          1999,
          2000,
          2001,
          2002,
          2003,
          2004,
          2005,
          2006,
          2007,
          2008,
          2009,
          2010,
          2011,
          2012,
          2013,
          2014,
          2015,
          2016,
          2017,
          2018,
          2019
         ],
         "xaxis": "x2",
         "y": [
          9.8,
          0,
          6,
          35.1,
          45.1,
          45.8,
          56.1,
          110.9,
          184.1,
          272.7,
          213.2,
          222.4,
          142.7,
          79.4,
          19.6,
          36,
          15,
          10.9,
          7.7,
          12.2,
          3.5,
          3.1,
          2.9,
          3.5,
          3.225092945,
          2.445737226,
          3.616015547,
          1.19694661,
          0.263199082,
          1.478694184,
          0.15516984,
          0.181678878
         ],
         "yaxis": "y2"
        },
        {
         "alignmentgroup": "True",
         "bingroup": "x",
         "histfunc": "sum",
         "hovertemplate": "?Format=CD Single<br>Metric=Value (Adjusted)<br>Year=%{x}<br>sum of Value (Actual)=%{y}<extra></extra>",
         "legendgroup": "CD Single",
         "marker": {
          "color": "#3283FE",
          "pattern": {
           "shape": ""
          }
         },
         "name": "CD Single",
         "nbinsx": 47,
         "offsetgroup": "CD Single",
         "orientation": "v",
         "showlegend": false,
         "type": "histogram",
         "x": [
          1988,
          1989,
          1990,
          1991,
          1992,
          1993,
          1994,
          1995,
          1996,
          1997,
          1998,
          1999,
          2000,
          2001,
          2002,
          2003,
          2004,
          2005,
          2006,
          2007,
          2008,
          2009,
          2010,
          2011,
          2012,
          2013,
          2014,
          2015,
          2016,
          2017,
          2018,
          2019
         ],
         "xaxis": "x",
         "y": [
          21.17868639,
          0,
          11.73635807,
          65.88517401,
          82.1819722,
          81.03176886,
          96.77704251,
          186.0391161,
          299.9773977,
          434.3779682,
          334.3930822,
          341.2852149,
          211.8597787,
          114.6197956,
          27.85368093,
          50.01984783,
          20.30097935,
          14.26861905,
          9.764677083,
          15.04590159,
          4.156001078,
          3.694172567,
          3.400068331,
          3.977965137,
          3.59119832,
          2.684056894,
          3.905023683,
          1.291079457,
          0.280361354,
          1.542258972,
          0.157981482,
          0.181678878
         ],
         "yaxis": "y"
        },
        {
         "alignmentgroup": "True",
         "bingroup": "x",
         "histfunc": "sum",
         "hovertemplate": "?Format=Cassette<br>Metric=Value<br>Year=%{x}<br>sum of Value (Actual)=%{y}<extra></extra>",
         "legendgroup": "Cassette",
         "marker": {
          "color": "#85660D",
          "pattern": {
           "shape": ""
          }
         },
         "name": "Cassette",
         "nbinsx": 47,
         "offsetgroup": "Cassette",
         "orientation": "v",
         "showlegend": true,
         "type": "histogram",
         "x": [
          1973,
          1974,
          1975,
          1976,
          1977,
          1978,
          1979,
          1980,
          1981,
          1982,
          1983,
          1984,
          1985,
          1986,
          1987,
          1988,
          1989,
          1990,
          1991,
          1992,
          1993,
          1994,
          1995,
          1996,
          1997,
          1998,
          1999,
          2000,
          2001,
          2002,
          2003,
          2004,
          2005,
          2006,
          2007,
          2008,
          2009
         ],
         "xaxis": "x2",
         "y": [
          76,
          87.2,
          98.8,
          145.7,
          249.6,
          449.8,
          580.6,
          705,
          null,
          null,
          null,
          null,
          null,
          null,
          null,
          null,
          null,
          null,
          null,
          null,
          null,
          null,
          null,
          null,
          null,
          null,
          null,
          626,
          363.4,
          209.8,
          108.1,
          23.7,
          13.1,
          3.7,
          3,
          0.9,
          0
         ],
         "yaxis": "y2"
        },
        {
         "alignmentgroup": "True",
         "bingroup": "x",
         "histfunc": "sum",
         "hovertemplate": "?Format=Cassette<br>Metric=Value (Adjusted)<br>Year=%{x}<br>sum of Value (Actual)=%{y}<extra></extra>",
         "legendgroup": "Cassette",
         "marker": {
          "color": "#85660D",
          "pattern": {
           "shape": ""
          }
         },
         "name": "Cassette",
         "nbinsx": 47,
         "offsetgroup": "Cassette",
         "orientation": "v",
         "showlegend": false,
         "type": "histogram",
         "x": [
          1973,
          1974,
          1975,
          1976,
          1977,
          1978,
          1979,
          1980,
          1981,
          1982,
          1983,
          1984,
          1985,
          1986,
          1987,
          1988,
          1989,
          1990,
          1991,
          1992,
          1993,
          1994,
          1995,
          1996,
          1997,
          1998,
          1999,
          2000,
          2001,
          2002,
          2003,
          2004,
          2005,
          2006,
          2007,
          2008
         ],
         "xaxis": "x",
         "y": [
          437.6110811,
          452.1965598,
          469.4964981,
          654.6436714,
          null,
          null,
          null,
          null,
          null,
          null,
          null,
          null,
          null,
          null,
          null,
          null,
          null,
          null,
          null,
          null,
          null,
          null,
          null,
          null,
          null,
          null,
          null,
          929.3918815,
          524.5948831,
          298.1480745,
          150.1984875,
          32.07554738,
          17.14852381,
          4.69211756,
          3.699811867,
          1.068685991
         ],
         "yaxis": "y"
        },
        {
         "alignmentgroup": "True",
         "bingroup": "x",
         "histfunc": "sum",
         "hovertemplate": "?Format=8 - Track<br>Metric=Value<br>Year=%{x}<br>sum of Value (Actual)=%{y}<extra></extra>",
         "legendgroup": "8 - Track",
         "marker": {
          "color": "#782AB6",
          "pattern": {
           "shape": ""
          }
         },
         "name": "8 - Track",
         "nbinsx": 47,
         "offsetgroup": "8 - Track",
         "orientation": "v",
         "showlegend": true,
         "type": "histogram",
         "x": [
          1973,
          1974,
          1975,
          1976,
          1977,
          1978,
          1979,
          1980,
          1981,
          1982
         ],
         "xaxis": "x2",
         "y": [
          489,
          549.2,
          583,
          678.2,
          811,
          948,
          684.3,
          527,
          313,
          36
         ],
         "yaxis": "y2"
        },
        {
         "alignmentgroup": "True",
         "bingroup": "x",
         "histfunc": "sum",
         "hovertemplate": "?Format=8 - Track<br>Metric=Value (Adjusted)<br>Year=%{x}<br>sum of Value (Actual)=%{y}<extra></extra>",
         "legendgroup": "8 - Track",
         "marker": {
          "color": "#782AB6",
          "pattern": {
           "shape": ""
          }
         },
         "name": "8 - Track",
         "nbinsx": 47,
         "offsetgroup": "8 - Track",
         "orientation": "v",
         "showlegend": false,
         "type": "histogram",
         "x": [
          1973,
          1974,
          1975,
          1976,
          1977,
          1978,
          1979,
          1980,
          1981,
          1982
         ],
         "xaxis": "x",
         "y": [
          null,
          null,
          null,
          null,
          null,
          null,
          null,
          null,
          880.3150825,
          95.37463212
         ],
         "yaxis": "y"
        },
        {
         "alignmentgroup": "True",
         "bingroup": "x",
         "histfunc": "sum",
         "hovertemplate": "?Format=Cassette Single<br>Metric=Value<br>Year=%{x}<br>sum of Value (Actual)=%{y}<extra></extra>",
         "legendgroup": "Cassette Single",
         "marker": {
          "color": "#565656",
          "pattern": {
           "shape": ""
          }
         },
         "name": "Cassette Single",
         "nbinsx": 47,
         "offsetgroup": "Cassette Single",
         "orientation": "v",
         "showlegend": true,
         "type": "histogram",
         "x": [
          1987,
          1988,
          1989,
          1990,
          1991,
          1992,
          1993,
          1994,
          1995,
          1996,
          1997,
          1998,
          1999,
          2000,
          2001,
          2002
         ],
         "xaxis": "x2",
         "y": [
          14.3,
          57.3,
          194.6,
          257.9,
          230.4,
          298.8,
          298.5,
          274.9,
          236.3,
          189.3,
          133.5,
          94.4,
          48,
          4.6,
          0,
          0
         ],
         "yaxis": "y2"
        },
        {
         "alignmentgroup": "True",
         "bingroup": "x",
         "histfunc": "sum",
         "hovertemplate": "?Format=Cassette Single<br>Metric=Value (Adjusted)<br>Year=%{x}<br>sum of Value (Actual)=%{y}<extra></extra>",
         "legendgroup": "Cassette Single",
         "marker": {
          "color": "#565656",
          "pattern": {
           "shape": ""
          }
         },
         "name": "Cassette Single",
         "nbinsx": 47,
         "offsetgroup": "Cassette Single",
         "orientation": "v",
         "showlegend": false,
         "type": "histogram",
         "x": [
          1987,
          1988,
          1989,
          1990,
          1991,
          1992,
          1993,
          1994,
          1995,
          1996,
          1997,
          1998,
          1999,
          2000,
          2001,
          2002
         ],
         "xaxis": "x",
         "y": [
          32.18217518,
          123.8304827,
          401.21655,
          504.4677911,
          432.4770396,
          544.4783436,
          528.1218997,
          474.2247591,
          396.4025532,
          308.4504149,
          212.6492804,
          148.0614773,
          73.65867947,
          6.829397213,
          0,
          0
         ],
         "yaxis": "y"
        },
        {
         "alignmentgroup": "True",
         "bingroup": "x",
         "histfunc": "sum",
         "hovertemplate": "?Format=DVD Audio<br>Metric=Value<br>Year=%{x}<br>sum of Value (Actual)=%{y}<extra></extra>",
         "legendgroup": "DVD Audio",
         "marker": {
          "color": "#1C8356",
          "pattern": {
           "shape": ""
          }
         },
         "name": "DVD Audio",
         "nbinsx": 47,
         "offsetgroup": "DVD Audio",
         "orientation": "v",
         "showlegend": true,
         "type": "histogram",
         "x": [
          2001,
          2002,
          2003,
          2004,
          2005,
          2006,
          2007,
          2008,
          2009,
          2010,
          2011,
          2012,
          2013,
          2014,
          2015,
          2016,
          2017,
          2018,
          2019
         ],
         "xaxis": "x2",
         "y": [
          6,
          8.5,
          8,
          6.5,
          11.2,
          2.4,
          2.8,
          1.2,
          1.6,
          0.9,
          0.3,
          0.183106992,
          0,
          2.139460944,
          5.416232673,
          2.83553587,
          2.606840648,
          3.317383752,
          1.067303184
         ],
         "yaxis": "y2"
        },
        {
         "alignmentgroup": "True",
         "bingroup": "x",
         "histfunc": "sum",
         "hovertemplate": "?Format=DVD Audio<br>Metric=Value (Adjusted)<br>Year=%{x}<br>sum of Value (Actual)=%{y}<extra></extra>",
         "legendgroup": "DVD Audio",
         "marker": {
          "color": "#1C8356",
          "pattern": {
           "shape": ""
          }
         },
         "name": "DVD Audio",
         "nbinsx": 47,
         "offsetgroup": "DVD Audio",
         "orientation": "v",
         "showlegend": false,
         "type": "histogram",
         "x": [
          2001,
          2002,
          2003,
          2004,
          2005,
          2006,
          2007,
          2008,
          2009,
          2010,
          2011,
          2012,
          2013,
          2014,
          2015,
          2016,
          2017,
          2018,
          2019
         ],
         "xaxis": "x",
         "y": [
          8.661445511,
          12.07940245,
          11.11552174,
          8.797091053,
          14.66133333,
          3.043535714,
          3.453157742,
          1.424914655,
          1.906669712,
          1.05519362,
          0.34096844,
          0.20389289,
          0,
          2.310456232,
          5.842187676,
          3.020431045,
          2.718901189,
          3.377493968,
          1.067303184
         ],
         "yaxis": "y"
        },
        {
         "alignmentgroup": "True",
         "bingroup": "x",
         "histfunc": "sum",
         "hovertemplate": "?Format=Download Album<br>Metric=Value<br>Year=%{x}<br>sum of Value (Actual)=%{y}<extra></extra>",
         "legendgroup": "Download Album",
         "marker": {
          "color": "#16FF32",
          "pattern": {
           "shape": ""
          }
         },
         "name": "Download Album",
         "nbinsx": 47,
         "offsetgroup": "Download Album",
         "orientation": "v",
         "showlegend": true,
         "type": "histogram",
         "x": [
          2004,
          2005,
          2006,
          2007,
          2008,
          2009,
          2010,
          2011,
          2012,
          2013,
          2014,
          2015,
          2016,
          2017,
          2018,
          2019
         ],
         "xaxis": "x2",
         "y": [
          45.5,
          135.7,
          275.9,
          497.4,
          635.3,
          744.3,
          872.4,
          null,
          null,
          null,
          null,
          null,
          868.5942684,
          668.5007059,
          499.6508324,
          394.5330062
         ],
         "yaxis": "y2"
        },
        {
         "alignmentgroup": "True",
         "bingroup": "x",
         "histfunc": "sum",
         "hovertemplate": "?Format=Download Album<br>Metric=Value (Adjusted)<br>Year=%{x}<br>sum of Value (Actual)=%{y}<extra></extra>",
         "legendgroup": "Download Album",
         "marker": {
          "color": "#16FF32",
          "pattern": {
           "shape": ""
          }
         },
         "name": "Download Album",
         "nbinsx": 47,
         "offsetgroup": "Download Album",
         "orientation": "v",
         "showlegend": false,
         "type": "histogram",
         "x": [
          2004,
          2005,
          2006,
          2007,
          2008,
          2009,
          2010,
          2011,
          2012,
          2013,
          2014,
          2015,
          2016,
          2017,
          2018,
          2019
         ],
         "xaxis": "x",
         "y": [
          61.57963737,
          177.6377619,
          349.8797932,
          613.4288075,
          754.373567,
          886.9589166,
          null,
          null,
          null,
          null,
          null,
          null,
          925.232201,
          697.2376182,
          508.7043884,
          394.5330062
         ],
         "yaxis": "y"
        },
        {
         "alignmentgroup": "True",
         "bingroup": "x",
         "histfunc": "sum",
         "hovertemplate": "?Format=Download Music Video<br>Metric=Value<br>Year=%{x}<br>sum of Value (Actual)=%{y}<extra></extra>",
         "legendgroup": "Download Music Video",
         "marker": {
          "color": "#F7E1A0",
          "pattern": {
           "shape": ""
          }
         },
         "name": "Download Music Video",
         "nbinsx": 47,
         "offsetgroup": "Download Music Video",
         "orientation": "v",
         "showlegend": true,
         "type": "histogram",
         "x": [
          2005,
          2006,
          2007,
          2008,
          2009,
          2010,
          2011,
          2012,
          2013,
          2014,
          2015,
          2016,
          2017,
          2018,
          2019
         ],
         "xaxis": "x2",
         "y": [
          3.7,
          19.7,
          28.2,
          41.3,
          40.9,
          36.6,
          32.4,
          20.842242,
          16.740803,
          13.577058,
          6.414419,
          4.26940012,
          2.785780489,
          2.2208106,
          1.858910402
         ],
         "yaxis": "y2"
        },
        {
         "alignmentgroup": "True",
         "bingroup": "x",
         "histfunc": "sum",
         "hovertemplate": "?Format=Download Music Video<br>Metric=Value (Adjusted)<br>Year=%{x}<br>sum of Value (Actual)=%{y}<extra></extra>",
         "legendgroup": "Download Music Video",
         "marker": {
          "color": "#F7E1A0",
          "pattern": {
           "shape": ""
          }
         },
         "name": "Download Music Video",
         "nbinsx": 47,
         "offsetgroup": "Download Music Video",
         "orientation": "v",
         "showlegend": false,
         "type": "histogram",
         "x": [
          2005,
          2006,
          2007,
          2008,
          2009,
          2010,
          2011,
          2012,
          2013,
          2014,
          2015,
          2016,
          2017,
          2018,
          2019
         ],
         "xaxis": "x",
         "y": [
          4.84347619,
          24.98235566,
          34.77823155,
          49.04081272,
          48.73924451,
          42.91120721,
          36.82459156,
          23.20820694,
          18.37207499,
          14.6621972,
          6.918875516,
          4.547792467,
          2.905533136,
          2.261051168,
          1.858910402
         ],
         "yaxis": "y"
        },
        {
         "alignmentgroup": "True",
         "bingroup": "x",
         "histfunc": "sum",
         "hovertemplate": "?Format=Download Single<br>Metric=Value<br>Year=%{x}<br>sum of Value (Actual)=%{y}<extra></extra>",
         "legendgroup": "Download Single",
         "marker": {
          "color": "#E2E2E2",
          "pattern": {
           "shape": ""
          }
         },
         "name": "Download Single",
         "nbinsx": 47,
         "offsetgroup": "Download Single",
         "orientation": "v",
         "showlegend": true,
         "type": "histogram",
         "x": [
          2004,
          2005,
          2006,
          2007,
          2008,
          2009,
          2010,
          2011,
          2012,
          2013,
          2014,
          2015,
          2016,
          2017,
          2018,
          2019
         ],
         "xaxis": "x2",
         "y": [
          138,
          363.3,
          580.6,
          811,
          null,
          null,
          null,
          null,
          null,
          null,
          null,
          null,
          900.1814811,
          678.5248883,
          490.4304887,
          414.804251
         ],
         "yaxis": "y2"
        },
        {
         "alignmentgroup": "True",
         "bingroup": "x",
         "histfunc": "sum",
         "hovertemplate": "?Format=Download Single<br>Metric=Value (Adjusted)<br>Year=%{x}<br>sum of Value (Actual)=%{y}<extra></extra>",
         "legendgroup": "Download Single",
         "marker": {
          "color": "#E2E2E2",
          "pattern": {
           "shape": ""
          }
         },
         "name": "Download Single",
         "nbinsx": 47,
         "offsetgroup": "Download Single",
         "orientation": "v",
         "showlegend": false,
         "type": "histogram",
         "x": [
          2004,
          2005,
          2006,
          2007,
          2008,
          2009,
          2010,
          2011,
          2012,
          2013,
          2014,
          2015,
          2016,
          2017,
          2018,
          2019
         ],
         "xaxis": "x",
         "y": [
          186.7690101,
          475.577,
          736.2820149,
          null,
          null,
          null,
          null,
          null,
          null,
          null,
          null,
          null,
          958.8791031,
          707.6927112,
          499.3169742,
          414.804251
         ],
         "yaxis": "y"
        },
        {
         "alignmentgroup": "True",
         "bingroup": "x",
         "histfunc": "sum",
         "hovertemplate": "?Format=Kiosk<br>Metric=Value<br>Year=%{x}<br>sum of Value (Actual)=%{y}<extra></extra>",
         "legendgroup": "Kiosk",
         "marker": {
          "color": "#1CBE4F",
          "pattern": {
           "shape": ""
          }
         },
         "name": "Kiosk",
         "nbinsx": 47,
         "offsetgroup": "Kiosk",
         "orientation": "v",
         "showlegend": true,
         "type": "histogram",
         "x": [
          2005,
          2006,
          2007,
          2008,
          2009,
          2010,
          2011,
          2012,
          2013,
          2014,
          2015,
          2016,
          2017,
          2018,
          2019
         ],
         "xaxis": "x2",
         "y": [
          1,
          1.9,
          2.6,
          2.6,
          6.3,
          6.4,
          2.7,
          3.654065,
          6.183604,
          2.582636,
          3.700455,
          2.943916801,
          2.25474315,
          1.965045799,
          1.586470587
         ],
         "yaxis": "y2"
        },
        {
         "alignmentgroup": "True",
         "bingroup": "x",
         "histfunc": "sum",
         "hovertemplate": "?Format=Kiosk<br>Metric=Value (Adjusted)<br>Year=%{x}<br>sum of Value (Actual)=%{y}<extra></extra>",
         "legendgroup": "Kiosk",
         "marker": {
          "color": "#1CBE4F",
          "pattern": {
           "shape": ""
          }
         },
         "name": "Kiosk",
         "nbinsx": 47,
         "offsetgroup": "Kiosk",
         "orientation": "v",
         "showlegend": false,
         "type": "histogram",
         "x": [
          2005,
          2006,
          2007,
          2008,
          2009,
          2010,
          2011,
          2012,
          2013,
          2014,
          2015,
          2016,
          2017,
          2018,
          2019
         ],
         "xaxis": "x",
         "y": [
          1.309047619,
          2.409465774,
          3.206503618,
          3.087315086,
          7.507511991,
          7.503599075,
          3.068715963,
          4.068866328,
          6.786152156,
          2.789051821,
          3.99147413,
          3.13587911,
          2.351668038,
          2.000651969,
          1.586470587
         ],
         "yaxis": "y"
        },
        {
         "alignmentgroup": "True",
         "bingroup": "x",
         "histfunc": "sum",
         "hovertemplate": "?Format=LP/EP<br>Metric=Value<br>Year=%{x}<br>sum of Value (Actual)=%{y}<extra></extra>",
         "legendgroup": "LP/EP",
         "marker": {
          "color": "#C4451C",
          "pattern": {
           "shape": ""
          }
         },
         "name": "LP/EP",
         "nbinsx": 47,
         "offsetgroup": "LP/EP",
         "orientation": "v",
         "showlegend": true,
         "type": "histogram",
         "x": [
          1973,
          1974,
          1975,
          1976,
          1977,
          1978,
          1979,
          1980,
          1981,
          1982,
          1983,
          1984,
          1985,
          1986,
          1987,
          1988,
          1989,
          1990,
          1991,
          1992,
          1993,
          1994,
          1995,
          1996,
          1997,
          1998,
          1999,
          2000,
          2001,
          2002,
          2003,
          2004,
          2005,
          2006,
          2007,
          2008,
          2009,
          2010,
          2011,
          2012,
          2013,
          2014,
          2015,
          2016,
          2017,
          2018,
          2019
         ],
         "xaxis": "x2",
         "y": [
          null,
          null,
          null,
          null,
          null,
          null,
          null,
          null,
          null,
          null,
          null,
          null,
          null,
          983,
          793.1,
          532.2,
          220.3,
          86.5,
          29.4,
          13.5,
          10.6,
          17.8,
          25.1,
          36.8,
          33.3,
          34,
          31.8,
          27.7,
          27.4,
          20.5,
          21.7,
          19.3,
          14.2,
          15.7,
          22.9,
          56.7,
          63.8,
          88.9,
          119.4,
          160.7230583,
          210.739051,
          243.8468483,
          333.3797931,
          355.430891,
          388.5111082,
          419.223947,
          497.5889208
         ],
         "yaxis": "y2"
        },
        {
         "alignmentgroup": "True",
         "bingroup": "x",
         "histfunc": "sum",
         "hovertemplate": "?Format=LP/EP<br>Metric=Value (Adjusted)<br>Year=%{x}<br>sum of Value (Actual)=%{y}<extra></extra>",
         "legendgroup": "LP/EP",
         "marker": {
          "color": "#C4451C",
          "pattern": {
           "shape": ""
          }
         },
         "name": "LP/EP",
         "nbinsx": 47,
         "offsetgroup": "LP/EP",
         "orientation": "v",
         "showlegend": false,
         "type": "histogram",
         "x": [
          1973,
          1974,
          1975,
          1976,
          1977,
          1978,
          1979,
          1980,
          1981,
          1982,
          1983,
          1984,
          1985,
          1986,
          1987,
          1988,
          1989,
          1990,
          1991,
          1992,
          1993,
          1994,
          1995,
          1996,
          1997,
          1998,
          1999,
          2000,
          2001,
          2002,
          2003,
          2004,
          2005,
          2006,
          2007,
          2008,
          2009,
          2010,
          2011,
          2012,
          2013,
          2014,
          2015,
          2016,
          2017,
          2018,
          2019
         ],
         "xaxis": "x",
         "y": [
          null,
          null,
          null,
          null,
          null,
          null,
          null,
          null,
          null,
          null,
          null,
          null,
          null,
          null,
          null,
          null,
          454.203525,
          169.1991622,
          55.18587225,
          24.59992516,
          18.75407751,
          30.7064413,
          42.10623819,
          59.96289101,
          53.04285421,
          53.32722699,
          48.79887515,
          41.12484843,
          39.5539345,
          29.13267649,
          30.15085272,
          26.12059344,
          18.58847619,
          19.90979613,
          28.24189725,
          67.32721746,
          76.02845477,
          104.2296809,
          135.7054393,
          178.9679822,
          231.2740702,
          263.3361791,
          359.5981629,
          378.607271,
          405.2120773,
          426.8201866,
          497.5889208
         ],
         "yaxis": "y"
        },
        {
         "alignmentgroup": "True",
         "bingroup": "x",
         "histfunc": "sum",
         "hovertemplate": "?Format=Limited Tier Paid Subscription<br>Metric=Value<br>Year=%{x}<br>sum of Value (Actual)=%{y}<extra></extra>",
         "legendgroup": "Limited Tier Paid Subscription",
         "marker": {
          "color": "#DEA0FD",
          "pattern": {
           "shape": ""
          }
         },
         "name": "Limited Tier Paid Subscription",
         "nbinsx": 47,
         "offsetgroup": "Limited Tier Paid Subscription",
         "orientation": "v",
         "showlegend": true,
         "type": "histogram",
         "x": [
          2016,
          2017,
          2018,
          2019
         ],
         "xaxis": "x2",
         "y": [
          263.3636852,
          591.6010975,
          747.0549062,
          829.4987397
         ],
         "yaxis": "y2"
        },
        {
         "alignmentgroup": "True",
         "bingroup": "x",
         "histfunc": "sum",
         "hovertemplate": "?Format=Limited Tier Paid Subscription<br>Metric=Value (Adjusted)<br>Year=%{x}<br>sum of Value (Actual)=%{y}<extra></extra>",
         "legendgroup": "Limited Tier Paid Subscription",
         "marker": {
          "color": "#DEA0FD",
          "pattern": {
           "shape": ""
          }
         },
         "name": "Limited Tier Paid Subscription",
         "nbinsx": 47,
         "offsetgroup": "Limited Tier Paid Subscription",
         "orientation": "v",
         "showlegend": false,
         "type": "histogram",
         "x": [
          2016,
          2017,
          2018,
          2019
         ],
         "xaxis": "x",
         "y": [
          280.5366913,
          617.032318,
          760.591366,
          829.4987397
         ],
         "yaxis": "y"
        },
        {
         "alignmentgroup": "True",
         "bingroup": "x",
         "histfunc": "sum",
         "hovertemplate": "?Format=Music Video (Physical)<br>Metric=Value<br>Year=%{x}<br>sum of Value (Actual)=%{y}<extra></extra>",
         "legendgroup": "Music Video (Physical)",
         "marker": {
          "color": "#FE00FA",
          "pattern": {
           "shape": ""
          }
         },
         "name": "Music Video (Physical)",
         "nbinsx": 47,
         "offsetgroup": "Music Video (Physical)",
         "orientation": "v",
         "showlegend": true,
         "type": "histogram",
         "x": [
          1989,
          1990,
          1991,
          1992,
          1993,
          1994,
          1995,
          1996,
          1997,
          1998,
          1999,
          2000,
          2001,
          2002,
          2003,
          2004,
          2005,
          2006,
          2007,
          2008,
          2009,
          2010,
          2011,
          2012,
          2013,
          2014,
          2015,
          2016,
          2017,
          2018,
          2019
         ],
         "xaxis": "x2",
         "y": [
          115.4,
          172.3,
          118.1,
          157.4,
          213.3,
          231.1,
          220.3,
          236.1,
          323.9,
          508,
          376.7,
          281.9,
          329.2,
          288.4,
          399.9,
          607.2,
          602.2,
          451.1,
          484.9,
          227.3,
          209.6,
          177.6,
          151,
          116.6136546,
          106.2831378,
          89.70557988,
          70.43436396,
          56.92290281,
          38.619447,
          27.5612603,
          27.70524678
         ],
         "yaxis": "y2"
        },
        {
         "alignmentgroup": "True",
         "bingroup": "x",
         "histfunc": "sum",
         "hovertemplate": "?Format=Music Video (Physical)<br>Metric=Value (Adjusted)<br>Year=%{x}<br>sum of Value (Actual)=%{y}<extra></extra>",
         "legendgroup": "Music Video (Physical)",
         "marker": {
          "color": "#FE00FA",
          "pattern": {
           "shape": ""
          }
         },
         "name": "Music Video (Physical)",
         "nbinsx": 47,
         "offsetgroup": "Music Video (Physical)",
         "orientation": "v",
         "showlegend": false,
         "type": "histogram",
         "x": [
          1989,
          1990,
          1991,
          1992,
          1993,
          1994,
          1995,
          1996,
          1997,
          1998,
          1999,
          2000,
          2001,
          2002,
          2003,
          2004,
          2005,
          2006,
          2007,
          2008,
          2009,
          2010,
          2011,
          2012,
          2013,
          2014,
          2015,
          2016,
          2017,
          2018,
          2019
         ],
         "xaxis": "x",
         "y": [
          237.92595,
          337.0290826,
          221.6820242,
          286.8169052,
          377.3815785,
          398.6662126,
          369.5619232,
          384.7075698,
          515.9333477,
          796.7715092,
          578.0671783,
          418.523277,
          475.2246437,
          409.8470195,
          555.6371429,
          821.7836443,
          788.3084762,
          572.0579003,
          598.0129247,
          269.9025843,
          249.7737323,
          208.2248743,
          171.6207816,
          129.8513772,
          116.6396724,
          96.87525106,
          75.97361449,
          60.63464218,
          40.27958535,
          28.06066388,
          27.70524678
         ],
         "yaxis": "y"
        },
        {
         "alignmentgroup": "True",
         "bingroup": "x",
         "histfunc": "sum",
         "hovertemplate": "?Format=On-Demand Streaming (Ad-Supported)<br>Metric=Value<br>Year=%{x}<br>sum of Value (Actual)=%{y}<extra></extra>",
         "legendgroup": "On-Demand Streaming (Ad-Supported)",
         "marker": {
          "color": "#325A9B",
          "pattern": {
           "shape": ""
          }
         },
         "name": "On-Demand Streaming (Ad-Supported)",
         "nbinsx": 47,
         "offsetgroup": "On-Demand Streaming (Ad-Supported)",
         "orientation": "v",
         "showlegend": true,
         "type": "histogram",
         "x": [
          2011,
          2012,
          2013,
          2014,
          2015,
          2016,
          2017,
          2018,
          2019
         ],
         "xaxis": "x2",
         "y": [
          113.8,
          170.9354084,
          220.8735445,
          283.7934094,
          371.9903964,
          489.3776076,
          658.6064926,
          759.5323682,
          908.1493305
         ],
         "yaxis": "y2"
        },
        {
         "alignmentgroup": "True",
         "bingroup": "x",
         "histfunc": "sum",
         "hovertemplate": "?Format=On-Demand Streaming (Ad-Supported)<br>Metric=Value (Adjusted)<br>Year=%{x}<br>sum of Value (Actual)=%{y}<extra></extra>",
         "legendgroup": "On-Demand Streaming (Ad-Supported)",
         "marker": {
          "color": "#325A9B",
          "pattern": {
           "shape": ""
          }
         },
         "name": "On-Demand Streaming (Ad-Supported)",
         "nbinsx": 47,
         "offsetgroup": "On-Demand Streaming (Ad-Supported)",
         "orientation": "v",
         "showlegend": false,
         "type": "histogram",
         "x": [
          2011,
          2012,
          2013,
          2014,
          2015,
          2016,
          2017,
          2018,
          2019
         ],
         "xaxis": "x",
         "y": [
          129.340695,
          190.3396156,
          242.3960978,
          306.475448,
          401.2452641,
          521.288175,
          686.9180813,
          773.2949167,
          908.1493305
         ],
         "yaxis": "y"
        },
        {
         "alignmentgroup": "True",
         "bingroup": "x",
         "histfunc": "sum",
         "hovertemplate": "?Format=Other Ad-Supported Streaming<br>Metric=Value<br>Year=%{x}<br>sum of Value (Actual)=%{y}<extra></extra>",
         "legendgroup": "Other Ad-Supported Streaming",
         "marker": {
          "color": "#FEAF16",
          "pattern": {
           "shape": ""
          }
         },
         "name": "Other Ad-Supported Streaming",
         "nbinsx": 47,
         "offsetgroup": "Other Ad-Supported Streaming",
         "orientation": "v",
         "showlegend": true,
         "type": "histogram",
         "x": [
          2016,
          2017,
          2018,
          2019
         ],
         "xaxis": "x2",
         "y": [
          81.26086562,
          261.786859,
          251.4119188,
          251.0647101
         ],
         "yaxis": "y2"
        },
        {
         "alignmentgroup": "True",
         "bingroup": "x",
         "histfunc": "sum",
         "hovertemplate": "?Format=Other Ad-Supported Streaming<br>Metric=Value (Adjusted)<br>Year=%{x}<br>sum of Value (Actual)=%{y}<extra></extra>",
         "legendgroup": "Other Ad-Supported Streaming",
         "marker": {
          "color": "#FEAF16",
          "pattern": {
           "shape": ""
          }
         },
         "name": "Other Ad-Supported Streaming",
         "nbinsx": 47,
         "offsetgroup": "Other Ad-Supported Streaming",
         "orientation": "v",
         "showlegend": false,
         "type": "histogram",
         "x": [
          2016,
          2017,
          2018,
          2019
         ],
         "xaxis": "x",
         "y": [
          86.55959668,
          273.040319,
          255.9674439,
          251.0647101
         ],
         "yaxis": "y"
        },
        {
         "alignmentgroup": "True",
         "bingroup": "x",
         "histfunc": "sum",
         "hovertemplate": "?Format=Other Digital<br>Metric=Value<br>Year=%{x}<br>sum of Value (Actual)=%{y}<extra></extra>",
         "legendgroup": "Other Digital",
         "marker": {
          "color": "#F8A19F",
          "pattern": {
           "shape": ""
          }
         },
         "name": "Other Digital",
         "nbinsx": 47,
         "offsetgroup": "Other Digital",
         "orientation": "v",
         "showlegend": true,
         "type": "histogram",
         "x": [
          2016,
          2017,
          2018,
          2019
         ],
         "xaxis": "x2",
         "y": [
          17.14166287,
          16.88510987,
          19.83957487,
          21.51717501
         ],
         "yaxis": "y2"
        },
        {
         "alignmentgroup": "True",
         "bingroup": "x",
         "histfunc": "sum",
         "hovertemplate": "?Format=Other Digital<br>Metric=Value (Adjusted)<br>Year=%{x}<br>sum of Value (Actual)=%{y}<extra></extra>",
         "legendgroup": "Other Digital",
         "marker": {
          "color": "#F8A19F",
          "pattern": {
           "shape": ""
          }
         },
         "name": "Other Digital",
         "nbinsx": 47,
         "offsetgroup": "Other Digital",
         "orientation": "v",
         "showlegend": false,
         "type": "histogram",
         "x": [
          2016,
          2017,
          2018,
          2019
         ],
         "xaxis": "x",
         "y": [
          18.25940954,
          17.61095192,
          20.19906331,
          21.51717501
         ],
         "yaxis": "y"
        },
        {
         "alignmentgroup": "True",
         "bingroup": "x",
         "histfunc": "sum",
         "hovertemplate": "?Format=Other Tapes<br>Metric=Value<br>Year=%{x}<br>sum of Value (Actual)=%{y}<extra></extra>",
         "legendgroup": "Other Tapes",
         "marker": {
          "color": "#90AD1C",
          "pattern": {
           "shape": ""
          }
         },
         "name": "Other Tapes",
         "nbinsx": 47,
         "offsetgroup": "Other Tapes",
         "orientation": "v",
         "showlegend": true,
         "type": "histogram",
         "x": [
          1973,
          1974,
          1975,
          1976
         ],
         "xaxis": "x2",
         "y": [
          15.6,
          13.3,
          10.2,
          5.1
         ],
         "yaxis": "y2"
        },
        {
         "alignmentgroup": "True",
         "bingroup": "x",
         "histfunc": "sum",
         "hovertemplate": "?Format=Other Tapes<br>Metric=Value (Adjusted)<br>Year=%{x}<br>sum of Value (Actual)=%{y}<extra></extra>",
         "legendgroup": "Other Tapes",
         "marker": {
          "color": "#90AD1C",
          "pattern": {
           "shape": ""
          }
         },
         "name": "Other Tapes",
         "nbinsx": 47,
         "offsetgroup": "Other Tapes",
         "orientation": "v",
         "showlegend": false,
         "type": "histogram",
         "x": [
          1973,
          1974,
          1975,
          1976
         ],
         "xaxis": "x",
         "y": [
          89.82543243,
          68.97034686,
          48.47028625,
          22.91477504
         ],
         "yaxis": "y"
        },
        {
         "alignmentgroup": "True",
         "bingroup": "x",
         "histfunc": "sum",
         "hovertemplate": "?Format=Paid Subscription<br>Metric=Value<br>Year=%{x}<br>sum of Value (Actual)=%{y}<extra></extra>",
         "legendgroup": "Paid Subscription",
         "marker": {
          "color": "#F6222E",
          "pattern": {
           "shape": ""
          }
         },
         "name": "Paid Subscription",
         "nbinsx": 47,
         "offsetgroup": "Paid Subscription",
         "orientation": "v",
         "showlegend": true,
         "type": "histogram",
         "x": [
          2005,
          2006,
          2007,
          2008,
          2009,
          2010,
          2011,
          2012,
          2013,
          2014,
          2015,
          2016,
          2017,
          2018,
          2019
         ],
         "xaxis": "x2",
         "y": [
          149.2,
          206.2,
          234,
          221.4,
          206.2,
          212.4,
          247.8,
          399.8825311,
          643.3242888,
          770.2705591,
          null,
          null,
          null,
          null,
          null
         ],
         "yaxis": "y2"
        },
        {
         "alignmentgroup": "True",
         "bingroup": "x",
         "histfunc": "sum",
         "hovertemplate": "?Format=Paid Subscription<br>Metric=Value (Adjusted)<br>Year=%{x}<br>sum of Value (Actual)=%{y}<extra></extra>",
         "legendgroup": "Paid Subscription",
         "marker": {
          "color": "#F6222E",
          "pattern": {
           "shape": ""
          }
         },
         "name": "Paid Subscription",
         "nbinsx": 47,
         "offsetgroup": "Paid Subscription",
         "orientation": "v",
         "showlegend": false,
         "type": "histogram",
         "x": [
          2005,
          2006,
          2007,
          2008,
          2009,
          2010,
          2011,
          2012,
          2013,
          2014,
          2015,
          2016,
          2017,
          2018,
          2019
         ],
         "xaxis": "x",
         "y": [
          195.3099048,
          261.4904435,
          288.5853256,
          262.8967539,
          245.7220591,
          249.0256943,
          281.6399317,
          445.2763062,
          706.0116575,
          831.8340275,
          null,
          null,
          null,
          null,
          null
         ],
         "yaxis": "y"
        },
        {
         "alignmentgroup": "True",
         "bingroup": "x",
         "histfunc": "sum",
         "hovertemplate": "?Format=Ringtones & Ringbacks<br>Metric=Value<br>Year=%{x}<br>sum of Value (Actual)=%{y}<extra></extra>",
         "legendgroup": "Ringtones & Ringbacks",
         "marker": {
          "color": "#1CFFCE",
          "pattern": {
           "shape": ""
          }
         },
         "name": "Ringtones & Ringbacks",
         "nbinsx": 47,
         "offsetgroup": "Ringtones & Ringbacks",
         "orientation": "v",
         "showlegend": true,
         "type": "histogram",
         "x": [
          2005,
          2006,
          2007,
          2008,
          2009,
          2010,
          2011,
          2012,
          2013,
          2014,
          2015,
          2016,
          2017,
          2018,
          2019
         ],
         "xaxis": "x2",
         "y": [
          421.6,
          773.8,
          null,
          977.1,
          702.8,
          448,
          276.2,
          145.9929351,
          97.99961233,
          66.31137067,
          54.58202422,
          56.32529913,
          35.51373565,
          24.9578598,
          21.4267369
         ],
         "yaxis": "y2"
        },
        {
         "alignmentgroup": "True",
         "bingroup": "x",
         "histfunc": "sum",
         "hovertemplate": "?Format=Ringtones & Ringbacks<br>Metric=Value (Adjusted)<br>Year=%{x}<br>sum of Value (Actual)=%{y}<extra></extra>",
         "legendgroup": "Ringtones & Ringbacks",
         "marker": {
          "color": "#1CFFCE",
          "pattern": {
           "shape": ""
          }
         },
         "name": "Ringtones & Ringbacks",
         "nbinsx": 47,
         "offsetgroup": "Ringtones & Ringbacks",
         "orientation": "v",
         "showlegend": false,
         "type": "histogram",
         "x": [
          2005,
          2006,
          2007,
          2008,
          2009,
          2010,
          2011,
          2012,
          2013,
          2014,
          2015,
          2016,
          2017,
          2018,
          2019
         ],
         "xaxis": "x",
         "y": [
          551.8944762,
          981.2866399,
          null,
          null,
          837.504671,
          525.2519353,
          313.9182774,
          162.5657282,
          107.5489764,
          71.61127201,
          58.87458101,
          59.99807088,
          37.04036846,
          25.41009037,
          21.4267369
         ],
         "yaxis": "y"
        },
        {
         "alignmentgroup": "True",
         "bingroup": "x",
         "histfunc": "sum",
         "hovertemplate": "?Format=SACD<br>Metric=Value<br>Year=%{x}<br>sum of Value (Actual)=%{y}<extra></extra>",
         "legendgroup": "SACD",
         "marker": {
          "color": "#2ED9FF",
          "pattern": {
           "shape": ""
          }
         },
         "name": "SACD",
         "nbinsx": 47,
         "offsetgroup": "SACD",
         "orientation": "v",
         "showlegend": true,
         "type": "histogram",
         "x": [
          2003,
          2004,
          2005,
          2006,
          2007,
          2008,
          2009,
          2010,
          2011,
          2012,
          2013,
          2014,
          2015,
          2016,
          2017,
          2018,
          2019
         ],
         "xaxis": "x2",
         "y": [
          26.3,
          16.6,
          10,
          5.5,
          3.6,
          3.1,
          2.4,
          1.7,
          1.5,
          1.3425,
          0.9783826,
          0.76344539,
          1.04346656,
          1.20686148,
          0.85057856,
          0.85969971,
          0.433302292
         ],
         "yaxis": "y2"
        },
        {
         "alignmentgroup": "True",
         "bingroup": "x",
         "histfunc": "sum",
         "hovertemplate": "?Format=SACD<br>Metric=Value (Adjusted)<br>Year=%{x}<br>sum of Value (Actual)=%{y}<extra></extra>",
         "legendgroup": "SACD",
         "marker": {
          "color": "#2ED9FF",
          "pattern": {
           "shape": ""
          }
         },
         "name": "SACD",
         "nbinsx": 47,
         "offsetgroup": "SACD",
         "orientation": "v",
         "showlegend": false,
         "type": "histogram",
         "x": [
          2003,
          2004,
          2005,
          2006,
          2007,
          2008,
          2009,
          2010,
          2011,
          2012,
          2013,
          2014,
          2015,
          2016,
          2017,
          2018,
          2019
         ],
         "xaxis": "x",
         "y": [
          36.54227772,
          22.46641715,
          13.09047619,
          6.974769345,
          4.43977424,
          3.681029526,
          2.860004568,
          1.993143504,
          1.704842202,
          1.494897613,
          1.073719014,
          0.82446336,
          1.125529098,
          1.28555661,
          0.887142473,
          0.875277267,
          0.433302292
         ],
         "yaxis": "y"
        },
        {
         "alignmentgroup": "True",
         "bingroup": "x",
         "histfunc": "sum",
         "hovertemplate": "?Format=SoundExchange Distributions<br>Metric=Value<br>Year=%{x}<br>sum of Value (Actual)=%{y}<extra></extra>",
         "legendgroup": "SoundExchange Distributions",
         "marker": {
          "color": "#B10DA1",
          "pattern": {
           "shape": ""
          }
         },
         "name": "SoundExchange Distributions",
         "nbinsx": 47,
         "offsetgroup": "SoundExchange Distributions",
         "orientation": "v",
         "showlegend": true,
         "type": "histogram",
         "x": [
          2004,
          2005,
          2006,
          2007,
          2008,
          2009,
          2010,
          2011,
          2012,
          2013,
          2014,
          2015,
          2016,
          2017,
          2018,
          2019
         ],
         "xaxis": "x2",
         "y": [
          6.9,
          20.4,
          32.8,
          36.2,
          100,
          155.5,
          249.2,
          292,
          462,
          590.4,
          773.4,
          802.6,
          883.9,
          652,
          952.8,
          908.2
         ],
         "yaxis": "y2"
        },
        {
         "alignmentgroup": "True",
         "bingroup": "x",
         "histfunc": "sum",
         "hovertemplate": "?Format=SoundExchange Distributions<br>Metric=Value (Adjusted)<br>Year=%{x}<br>sum of Value (Actual)=%{y}<extra></extra>",
         "legendgroup": "SoundExchange Distributions",
         "marker": {
          "color": "#B10DA1",
          "pattern": {
           "shape": ""
          }
         },
         "name": "SoundExchange Distributions",
         "nbinsx": 47,
         "offsetgroup": "SoundExchange Distributions",
         "orientation": "v",
         "showlegend": false,
         "type": "histogram",
         "x": [
          2004,
          2005,
          2006,
          2007,
          2008,
          2009,
          2010,
          2011,
          2012,
          2013,
          2014,
          2015,
          2016,
          2017,
          2018,
          2019
         ],
         "xaxis": "x",
         "y": [
          9.338450503,
          26.70457143,
          41.5949881,
          44.64439653,
          118.7428879,
          185.3044626,
          292.171389,
          331.8759486,
          514.445212,
          647.9302738,
          835.2135873,
          865.7197931,
          941.5359648,
          680.0275946,
          970.0645127,
          908.2
         ],
         "yaxis": "y"
        },
        {
         "alignmentgroup": "True",
         "bingroup": "x",
         "histfunc": "sum",
         "hovertemplate": "?Format=Synchronization<br>Metric=Value<br>Year=%{x}<br>sum of Value (Actual)=%{y}<extra></extra>",
         "legendgroup": "Synchronization",
         "marker": {
          "color": "#C075A6",
          "pattern": {
           "shape": ""
          }
         },
         "name": "Synchronization",
         "nbinsx": 47,
         "offsetgroup": "Synchronization",
         "orientation": "v",
         "showlegend": true,
         "type": "histogram",
         "x": [
          2009,
          2010,
          2011,
          2012,
          2013,
          2014,
          2015,
          2016,
          2017,
          2018,
          2019
         ],
         "xaxis": "x2",
         "y": [
          201.2,
          188.7,
          196.5,
          190.597753,
          189.679434,
          189.713099,
          202.934888,
          214.8389765,
          232.0865229,
          285.5134913,
          276.2623602
         ],
         "yaxis": "y2"
        },
        {
         "alignmentgroup": "True",
         "bingroup": "x",
         "histfunc": "sum",
         "hovertemplate": "?Format=Synchronization<br>Metric=Value (Adjusted)<br>Year=%{x}<br>sum of Value (Actual)=%{y}<extra></extra>",
         "legendgroup": "Synchronization",
         "marker": {
          "color": "#C075A6",
          "pattern": {
           "shape": ""
          }
         },
         "name": "Synchronization",
         "nbinsx": 47,
         "offsetgroup": "Synchronization",
         "orientation": "v",
         "showlegend": false,
         "type": "histogram",
         "x": [
          2009,
          2010,
          2011,
          2012,
          2013,
          2014,
          2015,
          2016,
          2017,
          2018,
          2019
         ],
         "xaxis": "x",
         "y": [
          239.7637163,
          221.238929,
          223.3343284,
          212.2339858,
          208.1623435,
          204.8758184,
          218.8945293,
          228.8478595,
          242.0632514,
          290.6869289,
          276.2623602
         ],
         "yaxis": "y"
        },
        {
         "alignmentgroup": "True",
         "bingroup": "x",
         "histfunc": "sum",
         "hovertemplate": "?Format=Vinyl Single<br>Metric=Value<br>Year=%{x}<br>sum of Value (Actual)=%{y}<extra></extra>",
         "legendgroup": "Vinyl Single",
         "marker": {
          "color": "#FC1CBF",
          "pattern": {
           "shape": ""
          }
         },
         "name": "Vinyl Single",
         "nbinsx": 47,
         "offsetgroup": "Vinyl Single",
         "orientation": "v",
         "showlegend": true,
         "type": "histogram",
         "x": [
          1973,
          1974,
          1975,
          1976,
          1977,
          1978,
          1979,
          1980,
          1981,
          1982,
          1983,
          1984,
          1985,
          1986,
          1987,
          1988,
          1989,
          1990,
          1991,
          1992,
          1993,
          1994,
          1995,
          1996,
          1997,
          1998,
          1999,
          2000,
          2001,
          2002,
          2003,
          2004,
          2005,
          2006,
          2007,
          2008,
          2009,
          2010,
          2011,
          2012,
          2013,
          2014,
          2015,
          2016,
          2017,
          2018,
          2019
         ],
         "xaxis": "x2",
         "y": [
          190,
          194,
          211.5,
          245.1,
          245.1,
          260.3,
          353.6,
          250,
          256.4,
          283,
          269.3,
          298.7,
          281,
          228.1,
          203.3,
          180.4,
          116.4,
          94.4,
          63.9,
          66.4,
          51.2,
          47.2,
          46.7,
          47.5,
          35.6,
          25.7,
          27.9,
          26.3,
          31.4,
          24.9,
          21.5,
          19.9,
          13.2,
          9.9,
          4,
          2.9,
          2.5,
          2.3,
          4.6,
          4.743055893,
          2.978937179,
          5.49935429,
          5.752954082,
          4.880679689,
          6.07838535,
          5.290337079,
          6.795945687
         ],
         "yaxis": "y2"
        },
        {
         "alignmentgroup": "True",
         "bingroup": "x",
         "histfunc": "sum",
         "hovertemplate": "?Format=Vinyl Single<br>Metric=Value (Adjusted)<br>Year=%{x}<br>sum of Value (Actual)=%{y}<extra></extra>",
         "legendgroup": "Vinyl Single",
         "marker": {
          "color": "#FC1CBF",
          "pattern": {
           "shape": ""
          }
         },
         "name": "Vinyl Single",
         "nbinsx": 47,
         "offsetgroup": "Vinyl Single",
         "orientation": "v",
         "showlegend": false,
         "type": "histogram",
         "x": [
          1973,
          1974,
          1975,
          1976,
          1977,
          1978,
          1979,
          1980,
          1981,
          1982,
          1983,
          1984,
          1985,
          1986,
          1987,
          1988,
          1989,
          1990,
          1991,
          1992,
          1993,
          1994,
          1995,
          1996,
          1997,
          1998,
          1999,
          2000,
          2001,
          2002,
          2003,
          2004,
          2005,
          2006,
          2007,
          2008,
          2009,
          2010,
          2011,
          2012,
          2013,
          2014,
          2015,
          2016,
          2017,
          2018,
          2019
         ],
         "xaxis": "x",
         "y": [
          null,
          null,
          null,
          null,
          null,
          null,
          null,
          775.6583738,
          721.1271155,
          749.7505803,
          691.2492982,
          734.9831174,
          667.6544331,
          532.0744681,
          457.5270079,
          389.8607168,
          239.9877,
          184.6520337,
          119.944804,
          120.9951875,
          90.58573287,
          81.42382186,
          78.34108858,
          77.39775335,
          56.70647477,
          40.30910982,
          42.81410744,
          39.04633624,
          45.32823151,
          35.38554364,
          29.87296467,
          26.93263261,
          17.27942857,
          12.55458482,
          4.933082489,
          3.44354375,
          2.979171425,
          2.696605918,
          5.228182752,
          5.281477044,
          3.269213385,
          5.938887283,
          6.205390253,
          5.198931395,
          6.33967756,
          5.386196747,
          6.795945687
         ],
         "yaxis": "y"
        }
       ],
       "layout": {
        "annotations": [
         {
          "font": {},
          "showarrow": false,
          "text": "Metric=Value (Adjusted)",
          "textangle": 90,
          "x": 0.98,
          "xanchor": "left",
          "xref": "paper",
          "y": 0.2425,
          "yanchor": "middle",
          "yref": "paper"
         },
         {
          "font": {},
          "showarrow": false,
          "text": "Metric=Value",
          "textangle": 90,
          "x": 0.98,
          "xanchor": "left",
          "xref": "paper",
          "y": 0.7575000000000001,
          "yanchor": "middle",
          "yref": "paper"
         }
        ],
        "barmode": "relative",
        "height": 1200,
        "legend": {
         "title": {
          "text": "?Format"
         },
         "tracegroupgap": 0
        },
        "margin": {
         "t": 60
        },
        "template": {
         "data": {
          "bar": [
           {
            "error_x": {
             "color": "#2a3f5f"
            },
            "error_y": {
             "color": "#2a3f5f"
            },
            "marker": {
             "line": {
              "color": "#E5ECF6",
              "width": 0.5
             },
             "pattern": {
              "fillmode": "overlay",
              "size": 10,
              "solidity": 0.2
             }
            },
            "type": "bar"
           }
          ],
          "barpolar": [
           {
            "marker": {
             "line": {
              "color": "#E5ECF6",
              "width": 0.5
             },
             "pattern": {
              "fillmode": "overlay",
              "size": 10,
              "solidity": 0.2
             }
            },
            "type": "barpolar"
           }
          ],
          "carpet": [
           {
            "aaxis": {
             "endlinecolor": "#2a3f5f",
             "gridcolor": "white",
             "linecolor": "white",
             "minorgridcolor": "white",
             "startlinecolor": "#2a3f5f"
            },
            "baxis": {
             "endlinecolor": "#2a3f5f",
             "gridcolor": "white",
             "linecolor": "white",
             "minorgridcolor": "white",
             "startlinecolor": "#2a3f5f"
            },
            "type": "carpet"
           }
          ],
          "choropleth": [
           {
            "colorbar": {
             "outlinewidth": 0,
             "ticks": ""
            },
            "type": "choropleth"
           }
          ],
          "contour": [
           {
            "colorbar": {
             "outlinewidth": 0,
             "ticks": ""
            },
            "colorscale": [
             [
              0,
              "#0d0887"
             ],
             [
              0.1111111111111111,
              "#46039f"
             ],
             [
              0.2222222222222222,
              "#7201a8"
             ],
             [
              0.3333333333333333,
              "#9c179e"
             ],
             [
              0.4444444444444444,
              "#bd3786"
             ],
             [
              0.5555555555555556,
              "#d8576b"
             ],
             [
              0.6666666666666666,
              "#ed7953"
             ],
             [
              0.7777777777777778,
              "#fb9f3a"
             ],
             [
              0.8888888888888888,
              "#fdca26"
             ],
             [
              1,
              "#f0f921"
             ]
            ],
            "type": "contour"
           }
          ],
          "contourcarpet": [
           {
            "colorbar": {
             "outlinewidth": 0,
             "ticks": ""
            },
            "type": "contourcarpet"
           }
          ],
          "heatmap": [
           {
            "colorbar": {
             "outlinewidth": 0,
             "ticks": ""
            },
            "colorscale": [
             [
              0,
              "#0d0887"
             ],
             [
              0.1111111111111111,
              "#46039f"
             ],
             [
              0.2222222222222222,
              "#7201a8"
             ],
             [
              0.3333333333333333,
              "#9c179e"
             ],
             [
              0.4444444444444444,
              "#bd3786"
             ],
             [
              0.5555555555555556,
              "#d8576b"
             ],
             [
              0.6666666666666666,
              "#ed7953"
             ],
             [
              0.7777777777777778,
              "#fb9f3a"
             ],
             [
              0.8888888888888888,
              "#fdca26"
             ],
             [
              1,
              "#f0f921"
             ]
            ],
            "type": "heatmap"
           }
          ],
          "heatmapgl": [
           {
            "colorbar": {
             "outlinewidth": 0,
             "ticks": ""
            },
            "colorscale": [
             [
              0,
              "#0d0887"
             ],
             [
              0.1111111111111111,
              "#46039f"
             ],
             [
              0.2222222222222222,
              "#7201a8"
             ],
             [
              0.3333333333333333,
              "#9c179e"
             ],
             [
              0.4444444444444444,
              "#bd3786"
             ],
             [
              0.5555555555555556,
              "#d8576b"
             ],
             [
              0.6666666666666666,
              "#ed7953"
             ],
             [
              0.7777777777777778,
              "#fb9f3a"
             ],
             [
              0.8888888888888888,
              "#fdca26"
             ],
             [
              1,
              "#f0f921"
             ]
            ],
            "type": "heatmapgl"
           }
          ],
          "histogram": [
           {
            "marker": {
             "pattern": {
              "fillmode": "overlay",
              "size": 10,
              "solidity": 0.2
             }
            },
            "type": "histogram"
           }
          ],
          "histogram2d": [
           {
            "colorbar": {
             "outlinewidth": 0,
             "ticks": ""
            },
            "colorscale": [
             [
              0,
              "#0d0887"
             ],
             [
              0.1111111111111111,
              "#46039f"
             ],
             [
              0.2222222222222222,
              "#7201a8"
             ],
             [
              0.3333333333333333,
              "#9c179e"
             ],
             [
              0.4444444444444444,
              "#bd3786"
             ],
             [
              0.5555555555555556,
              "#d8576b"
             ],
             [
              0.6666666666666666,
              "#ed7953"
             ],
             [
              0.7777777777777778,
              "#fb9f3a"
             ],
             [
              0.8888888888888888,
              "#fdca26"
             ],
             [
              1,
              "#f0f921"
             ]
            ],
            "type": "histogram2d"
           }
          ],
          "histogram2dcontour": [
           {
            "colorbar": {
             "outlinewidth": 0,
             "ticks": ""
            },
            "colorscale": [
             [
              0,
              "#0d0887"
             ],
             [
              0.1111111111111111,
              "#46039f"
             ],
             [
              0.2222222222222222,
              "#7201a8"
             ],
             [
              0.3333333333333333,
              "#9c179e"
             ],
             [
              0.4444444444444444,
              "#bd3786"
             ],
             [
              0.5555555555555556,
              "#d8576b"
             ],
             [
              0.6666666666666666,
              "#ed7953"
             ],
             [
              0.7777777777777778,
              "#fb9f3a"
             ],
             [
              0.8888888888888888,
              "#fdca26"
             ],
             [
              1,
              "#f0f921"
             ]
            ],
            "type": "histogram2dcontour"
           }
          ],
          "mesh3d": [
           {
            "colorbar": {
             "outlinewidth": 0,
             "ticks": ""
            },
            "type": "mesh3d"
           }
          ],
          "parcoords": [
           {
            "line": {
             "colorbar": {
              "outlinewidth": 0,
              "ticks": ""
             }
            },
            "type": "parcoords"
           }
          ],
          "pie": [
           {
            "automargin": true,
            "type": "pie"
           }
          ],
          "scatter": [
           {
            "fillpattern": {
             "fillmode": "overlay",
             "size": 10,
             "solidity": 0.2
            },
            "type": "scatter"
           }
          ],
          "scatter3d": [
           {
            "line": {
             "colorbar": {
              "outlinewidth": 0,
              "ticks": ""
             }
            },
            "marker": {
             "colorbar": {
              "outlinewidth": 0,
              "ticks": ""
             }
            },
            "type": "scatter3d"
           }
          ],
          "scattercarpet": [
           {
            "marker": {
             "colorbar": {
              "outlinewidth": 0,
              "ticks": ""
             }
            },
            "type": "scattercarpet"
           }
          ],
          "scattergeo": [
           {
            "marker": {
             "colorbar": {
              "outlinewidth": 0,
              "ticks": ""
             }
            },
            "type": "scattergeo"
           }
          ],
          "scattergl": [
           {
            "marker": {
             "colorbar": {
              "outlinewidth": 0,
              "ticks": ""
             }
            },
            "type": "scattergl"
           }
          ],
          "scattermapbox": [
           {
            "marker": {
             "colorbar": {
              "outlinewidth": 0,
              "ticks": ""
             }
            },
            "type": "scattermapbox"
           }
          ],
          "scatterpolar": [
           {
            "marker": {
             "colorbar": {
              "outlinewidth": 0,
              "ticks": ""
             }
            },
            "type": "scatterpolar"
           }
          ],
          "scatterpolargl": [
           {
            "marker": {
             "colorbar": {
              "outlinewidth": 0,
              "ticks": ""
             }
            },
            "type": "scatterpolargl"
           }
          ],
          "scatterternary": [
           {
            "marker": {
             "colorbar": {
              "outlinewidth": 0,
              "ticks": ""
             }
            },
            "type": "scatterternary"
           }
          ],
          "surface": [
           {
            "colorbar": {
             "outlinewidth": 0,
             "ticks": ""
            },
            "colorscale": [
             [
              0,
              "#0d0887"
             ],
             [
              0.1111111111111111,
              "#46039f"
             ],
             [
              0.2222222222222222,
              "#7201a8"
             ],
             [
              0.3333333333333333,
              "#9c179e"
             ],
             [
              0.4444444444444444,
              "#bd3786"
             ],
             [
              0.5555555555555556,
              "#d8576b"
             ],
             [
              0.6666666666666666,
              "#ed7953"
             ],
             [
              0.7777777777777778,
              "#fb9f3a"
             ],
             [
              0.8888888888888888,
              "#fdca26"
             ],
             [
              1,
              "#f0f921"
             ]
            ],
            "type": "surface"
           }
          ],
          "table": [
           {
            "cells": {
             "fill": {
              "color": "#EBF0F8"
             },
             "line": {
              "color": "white"
             }
            },
            "header": {
             "fill": {
              "color": "#C8D4E3"
             },
             "line": {
              "color": "white"
             }
            },
            "type": "table"
           }
          ]
         },
         "layout": {
          "annotationdefaults": {
           "arrowcolor": "#2a3f5f",
           "arrowhead": 0,
           "arrowwidth": 1
          },
          "autotypenumbers": "strict",
          "coloraxis": {
           "colorbar": {
            "outlinewidth": 0,
            "ticks": ""
           }
          },
          "colorscale": {
           "diverging": [
            [
             0,
             "#8e0152"
            ],
            [
             0.1,
             "#c51b7d"
            ],
            [
             0.2,
             "#de77ae"
            ],
            [
             0.3,
             "#f1b6da"
            ],
            [
             0.4,
             "#fde0ef"
            ],
            [
             0.5,
             "#f7f7f7"
            ],
            [
             0.6,
             "#e6f5d0"
            ],
            [
             0.7,
             "#b8e186"
            ],
            [
             0.8,
             "#7fbc41"
            ],
            [
             0.9,
             "#4d9221"
            ],
            [
             1,
             "#276419"
            ]
           ],
           "sequential": [
            [
             0,
             "#0d0887"
            ],
            [
             0.1111111111111111,
             "#46039f"
            ],
            [
             0.2222222222222222,
             "#7201a8"
            ],
            [
             0.3333333333333333,
             "#9c179e"
            ],
            [
             0.4444444444444444,
             "#bd3786"
            ],
            [
             0.5555555555555556,
             "#d8576b"
            ],
            [
             0.6666666666666666,
             "#ed7953"
            ],
            [
             0.7777777777777778,
             "#fb9f3a"
            ],
            [
             0.8888888888888888,
             "#fdca26"
            ],
            [
             1,
             "#f0f921"
            ]
           ],
           "sequentialminus": [
            [
             0,
             "#0d0887"
            ],
            [
             0.1111111111111111,
             "#46039f"
            ],
            [
             0.2222222222222222,
             "#7201a8"
            ],
            [
             0.3333333333333333,
             "#9c179e"
            ],
            [
             0.4444444444444444,
             "#bd3786"
            ],
            [
             0.5555555555555556,
             "#d8576b"
            ],
            [
             0.6666666666666666,
             "#ed7953"
            ],
            [
             0.7777777777777778,
             "#fb9f3a"
            ],
            [
             0.8888888888888888,
             "#fdca26"
            ],
            [
             1,
             "#f0f921"
            ]
           ]
          },
          "colorway": [
           "#636efa",
           "#EF553B",
           "#00cc96",
           "#ab63fa",
           "#FFA15A",
           "#19d3f3",
           "#FF6692",
           "#B6E880",
           "#FF97FF",
           "#FECB52"
          ],
          "font": {
           "color": "#2a3f5f"
          },
          "geo": {
           "bgcolor": "white",
           "lakecolor": "white",
           "landcolor": "#E5ECF6",
           "showlakes": true,
           "showland": true,
           "subunitcolor": "white"
          },
          "hoverlabel": {
           "align": "left"
          },
          "hovermode": "closest",
          "mapbox": {
           "style": "light"
          },
          "paper_bgcolor": "white",
          "plot_bgcolor": "#E5ECF6",
          "polar": {
           "angularaxis": {
            "gridcolor": "white",
            "linecolor": "white",
            "ticks": ""
           },
           "bgcolor": "#E5ECF6",
           "radialaxis": {
            "gridcolor": "white",
            "linecolor": "white",
            "ticks": ""
           }
          },
          "scene": {
           "xaxis": {
            "backgroundcolor": "#E5ECF6",
            "gridcolor": "white",
            "gridwidth": 2,
            "linecolor": "white",
            "showbackground": true,
            "ticks": "",
            "zerolinecolor": "white"
           },
           "yaxis": {
            "backgroundcolor": "#E5ECF6",
            "gridcolor": "white",
            "gridwidth": 2,
            "linecolor": "white",
            "showbackground": true,
            "ticks": "",
            "zerolinecolor": "white"
           },
           "zaxis": {
            "backgroundcolor": "#E5ECF6",
            "gridcolor": "white",
            "gridwidth": 2,
            "linecolor": "white",
            "showbackground": true,
            "ticks": "",
            "zerolinecolor": "white"
           }
          },
          "shapedefaults": {
           "line": {
            "color": "#2a3f5f"
           }
          },
          "ternary": {
           "aaxis": {
            "gridcolor": "white",
            "linecolor": "white",
            "ticks": ""
           },
           "baxis": {
            "gridcolor": "white",
            "linecolor": "white",
            "ticks": ""
           },
           "bgcolor": "#E5ECF6",
           "caxis": {
            "gridcolor": "white",
            "linecolor": "white",
            "ticks": ""
           }
          },
          "title": {
           "x": 0.05
          },
          "xaxis": {
           "automargin": true,
           "gridcolor": "white",
           "linecolor": "white",
           "ticks": "",
           "title": {
            "standoff": 15
           },
           "zerolinecolor": "white",
           "zerolinewidth": 2
          },
          "yaxis": {
           "automargin": true,
           "gridcolor": "white",
           "linecolor": "white",
           "ticks": "",
           "title": {
            "standoff": 15
           },
           "zerolinecolor": "white",
           "zerolinewidth": 2
          }
         }
        },
        "xaxis": {
         "anchor": "y",
         "domain": [
          0,
          0.98
         ],
         "title": {
          "text": "Year"
         }
        },
        "xaxis2": {
         "anchor": "y2",
         "domain": [
          0,
          0.98
         ],
         "matches": "x",
         "showticklabels": false
        },
        "yaxis": {
         "anchor": "x",
         "domain": [
          0,
          0.485
         ],
         "title": {
          "text": "sum of Value (Actual)"
         }
        },
        "yaxis2": {
         "anchor": "x2",
         "domain": [
          0.515,
          1
         ],
         "matches": "y",
         "title": {
          "text": "sum of Value (Actual)"
         }
        }
       }
      }
     },
     "metadata": {},
     "output_type": "display_data"
    }
   ],
   "source": [
    "from plotly.express import histogram\n",
    "from plotly.colors import qualitative\n",
    "histogram(data_frame=df[df['Metric'] == 'Units'], x='Year', y='Value (Actual)', color='?Format',\n",
    "          color_discrete_sequence=qualitative.Alphabet, height=600, nbins=df['Year'].nunique(), ).show()\n",
    "histogram(data_frame=df[df['Metric'] != 'Units'], x='Year', y='Value (Actual)', color='?Format', facet_row = 'Metric',\n",
    "          color_discrete_sequence=qualitative.Alphabet, height=1200, nbins=df['Year'].nunique(), ).show()"
   ]
  },
  {
   "cell_type": "markdown",
   "id": "13a4d0a0",
   "metadata": {
    "papermill": {
     "duration": null,
     "end_time": null,
     "exception": null,
     "start_time": null,
     "status": "pending"
    },
    "tags": []
   },
   "source": [
    "\n",
    "We only have annual data so our graph is going to look a little blocky. Also, the end of the Album Era was a real crisis for the industry; it's clear the total sales have settled into a new normal, with streaming replacing some of physical media sales."
   ]
  },
  {
   "cell_type": "code",
   "execution_count": 44,
   "id": "a3893a43",
   "metadata": {
    "execution": {
     "iopub.execute_input": "2024-07-13T04:29:35.607195Z",
     "iopub.status.busy": "2024-07-13T04:29:35.606769Z",
     "iopub.status.idle": "2024-07-13T04:29:35.744654Z",
     "shell.execute_reply": "2024-07-13T04:29:35.743340Z",
     "shell.execute_reply.started": "2024-07-13T04:29:35.607156Z"
    },
    "papermill": {
     "duration": null,
     "end_time": null,
     "exception": null,
     "start_time": null,
     "status": "pending"
    },
    "tags": []
   },
   "outputs": [
    {
     "data": {
      "application/vnd.plotly.v1+json": {
       "config": {
        "plotlyServerURL": "https://plot.ly"
       },
       "data": [
        {
         "hovertemplate": "Year=%{x}<br>?Format=%{y}<br>Value (Actual)=%{marker.color}<extra></extra>",
         "legendgroup": "",
         "marker": {
          "color": [
           0.8,
           5.8,
           22.6,
           53,
           102.1,
           149.7,
           207.2,
           286.5,
           333.3,
           407.5,
           495.4,
           662.1,
           722.9,
           778.9,
           753.1,
           847,
           938.9,
           942.5,
           881.9,
           803.3,
           746,
           767,
           705.4,
           619.7,
           499.7,
           368.4,
           296.6,
           253,
           240.8,
           198.1643872,
           173.7933029,
           138.7023634,
           117.1440518,
           97.5770712,
           87.68249997,
           51.95427564,
           46.50649558,
           1.6,
           0,
           1.1,
           5.7,
           7.3,
           7.8,
           9.3,
           21.5,
           43.2,
           66.7,
           56,
           55.9,
           34.2,
           17.3,
           4.5,
           8.3,
           3.1,
           2.8,
           1.7,
           2.6,
           0.7,
           0.9,
           1,
           1.3,
           1.072870407,
           0.628895398,
           0.928725116,
           0.386721563,
           0.121745255,
           0.13261663,
           0.020854078,
           0.026257455,
           15,
           15.3,
           16.2,
           21.8,
           36.9,
           61.3,
           78.5,
           99,
           124,
           183.2,
           236.8,
           332,
           339.1,
           344.5,
           410,
           450.1,
           446.2,
           442.2,
           360.1,
           366.4,
           339.5,
           345.4,
           272.6,
           225.3,
           172.6,
           158.5,
           123.6,
           76,
           45,
           31.1,
           17.2,
           5.2,
           2.5,
           0.7,
           0.4,
           0.1,
           0,
           0,
           0,
           5.1,
           22.5,
           76.2,
           87.4,
           69,
           84.6,
           85.6,
           81.1,
           70.7,
           59.9,
           42.2,
           26.4,
           14.2,
           1.3,
           0,
           0,
           0,
           0,
           0,
           0,
           0,
           0,
           0,
           0,
           0,
           280,
           276,
           257,
           273,
           344,
           341.3,
           290,
           308,
           295.2,
           243.9,
           209.6,
           204.6,
           167,
           125.2,
           107,
           72.4,
           34.6,
           11.7,
           4.8,
           2.3,
           1.2,
           1.9,
           2.2,
           2.9,
           2.7,
           3.4,
           2.9,
           2.2,
           2.3,
           1.743,
           1.5,
           1.4,
           1,
           0.9,
           1.3,
           2.9,
           3.5,
           4.2,
           5.5,
           6.915365189,
           9.35128587,
           10.31556391,
           13.68102972,
           14.77088603,
           15.55608917,
           16.67012733,
           19.10316283,
           228,
           204,
           164,
           190,
           190,
           190,
           212,
           157,
           154.7,
           137.2,
           124.8,
           131.5,
           120.7,
           93.9,
           82,
           65.6,
           36.6,
           27.6,
           22,
           19.8,
           15.1,
           11.7,
           10.2,
           10.1,
           7.5,
           5.4,
           5.3,
           4.8,
           5.5,
           4.4,
           3.8,
           3.5,
           2.3,
           1.5,
           0.6,
           0.4,
           0.3,
           0.3,
           0.4,
           0.388573687,
           0.315817054,
           0.481198278,
           0.50786991,
           0.404330651,
           0.402959365,
           0.346165002,
           0.336120488,
           91,
           96.7,
           94.6,
           106.1,
           127.3,
           133.6,
           102.3,
           85,
           50,
           13.7,
           0,
           0,
           0,
           0,
           0,
           0,
           0,
           0,
           0,
           0,
           0,
           0,
           0,
           0,
           0,
           0,
           0,
           0,
           0,
           0,
           0,
           0,
           0,
           0,
           0,
           0,
           0,
           0,
           0,
           2.2,
           1.9,
           1.5,
           0.7,
           0,
           0,
           0,
           0,
           0,
           0,
           0,
           0,
           0,
           0,
           0,
           0,
           0,
           0,
           0,
           0,
           0,
           0,
           0,
           0,
           0,
           0,
           0,
           0,
           0,
           0,
           0,
           0,
           0,
           0,
           0,
           0,
           0,
           0,
           0,
           6.1,
           9.2,
           6.1,
           7.6,
           11,
           11.2,
           12.6,
           16.9,
           18.6,
           27.2,
           19.8,
           18.2,
           17.7,
           14.7,
           19.9,
           32.8,
           33.8,
           23.2,
           27.5,
           13.2,
           11.6,
           9.1,
           7.7,
           6.032725467,
           4.814626524,
           4.065323601,
           3.133228006,
           2.495531725,
           1.87712837,
           1.395058021,
           1.32294236,
           0.263,
           0.43,
           0.4,
           0.3,
           0.5,
           0.1,
           0.2,
           0.04,
           0.1,
           0.04,
           0.01,
           0.008533145,
           0,
           0.066542722,
           0.179506738,
           0.085898932,
           0.061332251,
           0.092803246,
           0.027982262,
           1.3,
           0.8,
           0.5,
           0.3,
           0.2,
           0.1,
           0.1,
           0.1,
           0.1,
           0.065446,
           0.044683,
           0.030486,
           0.041633,
           0.045272,
           0.032749,
           0.032804,
           0.017654,
           139.4,
           366.9,
           586.4,
           819.4,
           0,
           0,
           0,
           0,
           0,
           0,
           0,
           986.2550359,
           743.0034138,
           553.5161518,
           399.7738523,
           335.3391935,
           4.6,
           13.6,
           27.6,
           49.8,
           63.6,
           74.5,
           85.8,
           103.9,
           116.7336318,
           117.979213,
           114.2304708,
           106.7838841,
           85.12334989,
           66.38610376,
           49.73492454,
           40.20271234,
           0.7,
           1.4,
           1.8,
           1.6,
           1.7,
           1.7,
           1.3,
           1.95507,
           3.7442,
           1.592073358,
           2.202659889,
           1.74878121,
           1.322377717,
           1.097856529,
           0.899703865,
           1.9,
           9.9,
           14.2,
           20.8,
           20.5,
           18.4,
           16.3,
           10.473489,
           8.412464,
           6.82264392,
           3.223325002,
           2.145427196,
           1.399889693,
           1.115985226,
           0.93412583,
           170,
           315,
           433.8,
           405.1,
           294.3,
           188.5,
           115.4,
           58.75740356,
           39.36623578,
           26.63232368,
           21.92486605,
           22.62078539,
           14.26286994,
           10.02628673,
           8.605769716,
           1.3,
           1.7,
           1.8,
           1.6,
           1.2,
           1.5,
           1.8,
           3.36,
           6.16,
           7.73,
           10.84,
           22.68,
           35.27350122,
           46.91132324,
           60.38194761,
           1.3,
           1.7,
           1.8,
           1.6,
           1.2,
           1.5,
           1.8,
           3.4,
           6.2,
           7.7,
           10.8,
           22.7,
           35.3,
           50.2
          ],
          "coloraxis": "coloraxis",
          "size": [
           0.8,
           5.8,
           22.6,
           53,
           102.1,
           149.7,
           207.2,
           286.5,
           333.3,
           407.5,
           495.4,
           662.1,
           722.9,
           778.9,
           753.1,
           847,
           938.9,
           942.5,
           881.9,
           803.3,
           746,
           767,
           705.4,
           619.7,
           499.7,
           368.4,
           296.6,
           253,
           240.8,
           198.1643872,
           173.7933029,
           138.7023634,
           117.1440518,
           97.5770712,
           87.68249997,
           51.95427564,
           46.50649558,
           1.6,
           0,
           1.1,
           5.7,
           7.3,
           7.8,
           9.3,
           21.5,
           43.2,
           66.7,
           56,
           55.9,
           34.2,
           17.3,
           4.5,
           8.3,
           3.1,
           2.8,
           1.7,
           2.6,
           0.7,
           0.9,
           1,
           1.3,
           1.072870407,
           0.628895398,
           0.928725116,
           0.386721563,
           0.121745255,
           0.13261663,
           0.020854078,
           0.026257455,
           15,
           15.3,
           16.2,
           21.8,
           36.9,
           61.3,
           78.5,
           99,
           124,
           183.2,
           236.8,
           332,
           339.1,
           344.5,
           410,
           450.1,
           446.2,
           442.2,
           360.1,
           366.4,
           339.5,
           345.4,
           272.6,
           225.3,
           172.6,
           158.5,
           123.6,
           76,
           45,
           31.1,
           17.2,
           5.2,
           2.5,
           0.7,
           0.4,
           0.1,
           0,
           0,
           0,
           5.1,
           22.5,
           76.2,
           87.4,
           69,
           84.6,
           85.6,
           81.1,
           70.7,
           59.9,
           42.2,
           26.4,
           14.2,
           1.3,
           0,
           0,
           0,
           0,
           0,
           0,
           0,
           0,
           0,
           0,
           0,
           280,
           276,
           257,
           273,
           344,
           341.3,
           290,
           308,
           295.2,
           243.9,
           209.6,
           204.6,
           167,
           125.2,
           107,
           72.4,
           34.6,
           11.7,
           4.8,
           2.3,
           1.2,
           1.9,
           2.2,
           2.9,
           2.7,
           3.4,
           2.9,
           2.2,
           2.3,
           1.743,
           1.5,
           1.4,
           1,
           0.9,
           1.3,
           2.9,
           3.5,
           4.2,
           5.5,
           6.915365189,
           9.35128587,
           10.31556391,
           13.68102972,
           14.77088603,
           15.55608917,
           16.67012733,
           19.10316283,
           228,
           204,
           164,
           190,
           190,
           190,
           212,
           157,
           154.7,
           137.2,
           124.8,
           131.5,
           120.7,
           93.9,
           82,
           65.6,
           36.6,
           27.6,
           22,
           19.8,
           15.1,
           11.7,
           10.2,
           10.1,
           7.5,
           5.4,
           5.3,
           4.8,
           5.5,
           4.4,
           3.8,
           3.5,
           2.3,
           1.5,
           0.6,
           0.4,
           0.3,
           0.3,
           0.4,
           0.388573687,
           0.315817054,
           0.481198278,
           0.50786991,
           0.404330651,
           0.402959365,
           0.346165002,
           0.336120488,
           91,
           96.7,
           94.6,
           106.1,
           127.3,
           133.6,
           102.3,
           85,
           50,
           13.7,
           0,
           0,
           0,
           0,
           0,
           0,
           0,
           0,
           0,
           0,
           0,
           0,
           0,
           0,
           0,
           0,
           0,
           0,
           0,
           0,
           0,
           0,
           0,
           0,
           0,
           0,
           0,
           0,
           0,
           2.2,
           1.9,
           1.5,
           0.7,
           0,
           0,
           0,
           0,
           0,
           0,
           0,
           0,
           0,
           0,
           0,
           0,
           0,
           0,
           0,
           0,
           0,
           0,
           0,
           0,
           0,
           0,
           0,
           0,
           0,
           0,
           0,
           0,
           0,
           0,
           0,
           0,
           0,
           0,
           0,
           6.1,
           9.2,
           6.1,
           7.6,
           11,
           11.2,
           12.6,
           16.9,
           18.6,
           27.2,
           19.8,
           18.2,
           17.7,
           14.7,
           19.9,
           32.8,
           33.8,
           23.2,
           27.5,
           13.2,
           11.6,
           9.1,
           7.7,
           6.032725467,
           4.814626524,
           4.065323601,
           3.133228006,
           2.495531725,
           1.87712837,
           1.395058021,
           1.32294236,
           0.263,
           0.43,
           0.4,
           0.3,
           0.5,
           0.1,
           0.2,
           0.04,
           0.1,
           0.04,
           0.01,
           0.008533145,
           0,
           0.066542722,
           0.179506738,
           0.085898932,
           0.061332251,
           0.092803246,
           0.027982262,
           1.3,
           0.8,
           0.5,
           0.3,
           0.2,
           0.1,
           0.1,
           0.1,
           0.1,
           0.065446,
           0.044683,
           0.030486,
           0.041633,
           0.045272,
           0.032749,
           0.032804,
           0.017654,
           139.4,
           366.9,
           586.4,
           819.4,
           0,
           0,
           0,
           0,
           0,
           0,
           0,
           986.2550359,
           743.0034138,
           553.5161518,
           399.7738523,
           335.3391935,
           4.6,
           13.6,
           27.6,
           49.8,
           63.6,
           74.5,
           85.8,
           103.9,
           116.7336318,
           117.979213,
           114.2304708,
           106.7838841,
           85.12334989,
           66.38610376,
           49.73492454,
           40.20271234,
           0.7,
           1.4,
           1.8,
           1.6,
           1.7,
           1.7,
           1.3,
           1.95507,
           3.7442,
           1.592073358,
           2.202659889,
           1.74878121,
           1.322377717,
           1.097856529,
           0.899703865,
           1.9,
           9.9,
           14.2,
           20.8,
           20.5,
           18.4,
           16.3,
           10.473489,
           8.412464,
           6.82264392,
           3.223325002,
           2.145427196,
           1.399889693,
           1.115985226,
           0.93412583,
           170,
           315,
           433.8,
           405.1,
           294.3,
           188.5,
           115.4,
           58.75740356,
           39.36623578,
           26.63232368,
           21.92486605,
           22.62078539,
           14.26286994,
           10.02628673,
           8.605769716,
           1.3,
           1.7,
           1.8,
           1.6,
           1.2,
           1.5,
           1.8,
           3.36,
           6.16,
           7.73,
           10.84,
           22.68,
           35.27350122,
           46.91132324,
           60.38194761,
           1.3,
           1.7,
           1.8,
           1.6,
           1.2,
           1.5,
           1.8,
           3.4,
           6.2,
           7.7,
           10.8,
           22.7,
           35.3,
           50.2
          ],
          "sizemode": "area",
          "sizeref": 2.46563758975,
          "symbol": "circle"
         },
         "mode": "markers",
         "name": "",
         "orientation": "h",
         "showlegend": false,
         "type": "scatter",
         "x": [
          1983,
          1984,
          1985,
          1986,
          1987,
          1988,
          1989,
          1990,
          1991,
          1992,
          1993,
          1994,
          1995,
          1996,
          1997,
          1998,
          1999,
          2000,
          2001,
          2002,
          2003,
          2004,
          2005,
          2006,
          2007,
          2008,
          2009,
          2010,
          2011,
          2012,
          2013,
          2014,
          2015,
          2016,
          2017,
          2018,
          2019,
          1988,
          1989,
          1990,
          1991,
          1992,
          1993,
          1994,
          1995,
          1996,
          1997,
          1998,
          1999,
          2000,
          2001,
          2002,
          2003,
          2004,
          2005,
          2006,
          2007,
          2008,
          2009,
          2010,
          2011,
          2012,
          2013,
          2014,
          2015,
          2016,
          2017,
          2018,
          2019,
          1973,
          1974,
          1975,
          1976,
          1977,
          1978,
          1979,
          1980,
          1981,
          1982,
          1983,
          1984,
          1985,
          1986,
          1987,
          1988,
          1989,
          1990,
          1991,
          1992,
          1993,
          1994,
          1995,
          1996,
          1997,
          1998,
          1999,
          2000,
          2001,
          2002,
          2003,
          2004,
          2005,
          2006,
          2007,
          2008,
          2009,
          2010,
          2011,
          1987,
          1988,
          1989,
          1990,
          1991,
          1992,
          1993,
          1994,
          1995,
          1996,
          1997,
          1998,
          1999,
          2000,
          2001,
          2002,
          2003,
          2004,
          2005,
          2006,
          2007,
          2008,
          2009,
          2010,
          2011,
          1973,
          1974,
          1975,
          1976,
          1977,
          1978,
          1979,
          1980,
          1981,
          1982,
          1983,
          1984,
          1985,
          1986,
          1987,
          1988,
          1989,
          1990,
          1991,
          1992,
          1993,
          1994,
          1995,
          1996,
          1997,
          1998,
          1999,
          2000,
          2001,
          2002,
          2003,
          2004,
          2005,
          2006,
          2007,
          2008,
          2009,
          2010,
          2011,
          2012,
          2013,
          2014,
          2015,
          2016,
          2017,
          2018,
          2019,
          1973,
          1974,
          1975,
          1976,
          1977,
          1978,
          1979,
          1980,
          1981,
          1982,
          1983,
          1984,
          1985,
          1986,
          1987,
          1988,
          1989,
          1990,
          1991,
          1992,
          1993,
          1994,
          1995,
          1996,
          1997,
          1998,
          1999,
          2000,
          2001,
          2002,
          2003,
          2004,
          2005,
          2006,
          2007,
          2008,
          2009,
          2010,
          2011,
          2012,
          2013,
          2014,
          2015,
          2016,
          2017,
          2018,
          2019,
          1973,
          1974,
          1975,
          1976,
          1977,
          1978,
          1979,
          1980,
          1981,
          1982,
          1983,
          1984,
          1985,
          1986,
          1987,
          1988,
          1989,
          1990,
          1991,
          1992,
          1993,
          1994,
          1995,
          1996,
          1997,
          1998,
          1999,
          2000,
          2001,
          2002,
          2003,
          2004,
          2005,
          2006,
          2007,
          2008,
          2009,
          2010,
          2011,
          1973,
          1974,
          1975,
          1976,
          1977,
          1978,
          1979,
          1980,
          1981,
          1982,
          1983,
          1984,
          1985,
          1986,
          1987,
          1988,
          1989,
          1990,
          1991,
          1992,
          1993,
          1994,
          1995,
          1996,
          1997,
          1998,
          1999,
          2000,
          2001,
          2002,
          2003,
          2004,
          2005,
          2006,
          2007,
          2008,
          2009,
          2010,
          2011,
          1989,
          1990,
          1991,
          1992,
          1993,
          1994,
          1995,
          1996,
          1997,
          1998,
          1999,
          2000,
          2001,
          2002,
          2003,
          2004,
          2005,
          2006,
          2007,
          2008,
          2009,
          2010,
          2011,
          2012,
          2013,
          2014,
          2015,
          2016,
          2017,
          2018,
          2019,
          2001,
          2002,
          2003,
          2004,
          2005,
          2006,
          2007,
          2008,
          2009,
          2010,
          2011,
          2012,
          2013,
          2014,
          2015,
          2016,
          2017,
          2018,
          2019,
          2003,
          2004,
          2005,
          2006,
          2007,
          2008,
          2009,
          2010,
          2011,
          2012,
          2013,
          2014,
          2015,
          2016,
          2017,
          2018,
          2019,
          2004,
          2005,
          2006,
          2007,
          2008,
          2009,
          2010,
          2011,
          2012,
          2013,
          2014,
          2015,
          2016,
          2017,
          2018,
          2019,
          2004,
          2005,
          2006,
          2007,
          2008,
          2009,
          2010,
          2011,
          2012,
          2013,
          2014,
          2015,
          2016,
          2017,
          2018,
          2019,
          2005,
          2006,
          2007,
          2008,
          2009,
          2010,
          2011,
          2012,
          2013,
          2014,
          2015,
          2016,
          2017,
          2018,
          2019,
          2005,
          2006,
          2007,
          2008,
          2009,
          2010,
          2011,
          2012,
          2013,
          2014,
          2015,
          2016,
          2017,
          2018,
          2019,
          2005,
          2006,
          2007,
          2008,
          2009,
          2010,
          2011,
          2012,
          2013,
          2014,
          2015,
          2016,
          2017,
          2018,
          2019,
          2005,
          2006,
          2007,
          2008,
          2009,
          2010,
          2011,
          2012,
          2013,
          2014,
          2015,
          2016,
          2017,
          2018,
          2019,
          2005,
          2006,
          2007,
          2008,
          2009,
          2010,
          2011,
          2012,
          2013,
          2014,
          2015,
          2016,
          2017,
          2018
         ],
         "xaxis": "x",
         "y": [
          "CD",
          "CD",
          "CD",
          "CD",
          "CD",
          "CD",
          "CD",
          "CD",
          "CD",
          "CD",
          "CD",
          "CD",
          "CD",
          "CD",
          "CD",
          "CD",
          "CD",
          "CD",
          "CD",
          "CD",
          "CD",
          "CD",
          "CD",
          "CD",
          "CD",
          "CD",
          "CD",
          "CD",
          "CD",
          "CD",
          "CD",
          "CD",
          "CD",
          "CD",
          "CD",
          "CD",
          "CD",
          "CD Single",
          "CD Single",
          "CD Single",
          "CD Single",
          "CD Single",
          "CD Single",
          "CD Single",
          "CD Single",
          "CD Single",
          "CD Single",
          "CD Single",
          "CD Single",
          "CD Single",
          "CD Single",
          "CD Single",
          "CD Single",
          "CD Single",
          "CD Single",
          "CD Single",
          "CD Single",
          "CD Single",
          "CD Single",
          "CD Single",
          "CD Single",
          "CD Single",
          "CD Single",
          "CD Single",
          "CD Single",
          "CD Single",
          "CD Single",
          "CD Single",
          "CD Single",
          "Cassette",
          "Cassette",
          "Cassette",
          "Cassette",
          "Cassette",
          "Cassette",
          "Cassette",
          "Cassette",
          "Cassette",
          "Cassette",
          "Cassette",
          "Cassette",
          "Cassette",
          "Cassette",
          "Cassette",
          "Cassette",
          "Cassette",
          "Cassette",
          "Cassette",
          "Cassette",
          "Cassette",
          "Cassette",
          "Cassette",
          "Cassette",
          "Cassette",
          "Cassette",
          "Cassette",
          "Cassette",
          "Cassette",
          "Cassette",
          "Cassette",
          "Cassette",
          "Cassette",
          "Cassette",
          "Cassette",
          "Cassette",
          "Cassette",
          "Cassette",
          "Cassette",
          "Cassette Single",
          "Cassette Single",
          "Cassette Single",
          "Cassette Single",
          "Cassette Single",
          "Cassette Single",
          "Cassette Single",
          "Cassette Single",
          "Cassette Single",
          "Cassette Single",
          "Cassette Single",
          "Cassette Single",
          "Cassette Single",
          "Cassette Single",
          "Cassette Single",
          "Cassette Single",
          "Cassette Single",
          "Cassette Single",
          "Cassette Single",
          "Cassette Single",
          "Cassette Single",
          "Cassette Single",
          "Cassette Single",
          "Cassette Single",
          "Cassette Single",
          "LP/EP",
          "LP/EP",
          "LP/EP",
          "LP/EP",
          "LP/EP",
          "LP/EP",
          "LP/EP",
          "LP/EP",
          "LP/EP",
          "LP/EP",
          "LP/EP",
          "LP/EP",
          "LP/EP",
          "LP/EP",
          "LP/EP",
          "LP/EP",
          "LP/EP",
          "LP/EP",
          "LP/EP",
          "LP/EP",
          "LP/EP",
          "LP/EP",
          "LP/EP",
          "LP/EP",
          "LP/EP",
          "LP/EP",
          "LP/EP",
          "LP/EP",
          "LP/EP",
          "LP/EP",
          "LP/EP",
          "LP/EP",
          "LP/EP",
          "LP/EP",
          "LP/EP",
          "LP/EP",
          "LP/EP",
          "LP/EP",
          "LP/EP",
          "LP/EP",
          "LP/EP",
          "LP/EP",
          "LP/EP",
          "LP/EP",
          "LP/EP",
          "LP/EP",
          "LP/EP",
          "Vinyl Single",
          "Vinyl Single",
          "Vinyl Single",
          "Vinyl Single",
          "Vinyl Single",
          "Vinyl Single",
          "Vinyl Single",
          "Vinyl Single",
          "Vinyl Single",
          "Vinyl Single",
          "Vinyl Single",
          "Vinyl Single",
          "Vinyl Single",
          "Vinyl Single",
          "Vinyl Single",
          "Vinyl Single",
          "Vinyl Single",
          "Vinyl Single",
          "Vinyl Single",
          "Vinyl Single",
          "Vinyl Single",
          "Vinyl Single",
          "Vinyl Single",
          "Vinyl Single",
          "Vinyl Single",
          "Vinyl Single",
          "Vinyl Single",
          "Vinyl Single",
          "Vinyl Single",
          "Vinyl Single",
          "Vinyl Single",
          "Vinyl Single",
          "Vinyl Single",
          "Vinyl Single",
          "Vinyl Single",
          "Vinyl Single",
          "Vinyl Single",
          "Vinyl Single",
          "Vinyl Single",
          "Vinyl Single",
          "Vinyl Single",
          "Vinyl Single",
          "Vinyl Single",
          "Vinyl Single",
          "Vinyl Single",
          "Vinyl Single",
          "Vinyl Single",
          "8 - Track",
          "8 - Track",
          "8 - Track",
          "8 - Track",
          "8 - Track",
          "8 - Track",
          "8 - Track",
          "8 - Track",
          "8 - Track",
          "8 - Track",
          "8 - Track",
          "8 - Track",
          "8 - Track",
          "8 - Track",
          "8 - Track",
          "8 - Track",
          "8 - Track",
          "8 - Track",
          "8 - Track",
          "8 - Track",
          "8 - Track",
          "8 - Track",
          "8 - Track",
          "8 - Track",
          "8 - Track",
          "8 - Track",
          "8 - Track",
          "8 - Track",
          "8 - Track",
          "8 - Track",
          "8 - Track",
          "8 - Track",
          "8 - Track",
          "8 - Track",
          "8 - Track",
          "8 - Track",
          "8 - Track",
          "8 - Track",
          "8 - Track",
          "Other Tapes",
          "Other Tapes",
          "Other Tapes",
          "Other Tapes",
          "Other Tapes",
          "Other Tapes",
          "Other Tapes",
          "Other Tapes",
          "Other Tapes",
          "Other Tapes",
          "Other Tapes",
          "Other Tapes",
          "Other Tapes",
          "Other Tapes",
          "Other Tapes",
          "Other Tapes",
          "Other Tapes",
          "Other Tapes",
          "Other Tapes",
          "Other Tapes",
          "Other Tapes",
          "Other Tapes",
          "Other Tapes",
          "Other Tapes",
          "Other Tapes",
          "Other Tapes",
          "Other Tapes",
          "Other Tapes",
          "Other Tapes",
          "Other Tapes",
          "Other Tapes",
          "Other Tapes",
          "Other Tapes",
          "Other Tapes",
          "Other Tapes",
          "Other Tapes",
          "Other Tapes",
          "Other Tapes",
          "Other Tapes",
          "Music Video (Physical)",
          "Music Video (Physical)",
          "Music Video (Physical)",
          "Music Video (Physical)",
          "Music Video (Physical)",
          "Music Video (Physical)",
          "Music Video (Physical)",
          "Music Video (Physical)",
          "Music Video (Physical)",
          "Music Video (Physical)",
          "Music Video (Physical)",
          "Music Video (Physical)",
          "Music Video (Physical)",
          "Music Video (Physical)",
          "Music Video (Physical)",
          "Music Video (Physical)",
          "Music Video (Physical)",
          "Music Video (Physical)",
          "Music Video (Physical)",
          "Music Video (Physical)",
          "Music Video (Physical)",
          "Music Video (Physical)",
          "Music Video (Physical)",
          "Music Video (Physical)",
          "Music Video (Physical)",
          "Music Video (Physical)",
          "Music Video (Physical)",
          "Music Video (Physical)",
          "Music Video (Physical)",
          "Music Video (Physical)",
          "Music Video (Physical)",
          "DVD Audio",
          "DVD Audio",
          "DVD Audio",
          "DVD Audio",
          "DVD Audio",
          "DVD Audio",
          "DVD Audio",
          "DVD Audio",
          "DVD Audio",
          "DVD Audio",
          "DVD Audio",
          "DVD Audio",
          "DVD Audio",
          "DVD Audio",
          "DVD Audio",
          "DVD Audio",
          "DVD Audio",
          "DVD Audio",
          "DVD Audio",
          "SACD",
          "SACD",
          "SACD",
          "SACD",
          "SACD",
          "SACD",
          "SACD",
          "SACD",
          "SACD",
          "SACD",
          "SACD",
          "SACD",
          "SACD",
          "SACD",
          "SACD",
          "SACD",
          "SACD",
          "Download Single",
          "Download Single",
          "Download Single",
          "Download Single",
          "Download Single",
          "Download Single",
          "Download Single",
          "Download Single",
          "Download Single",
          "Download Single",
          "Download Single",
          "Download Single",
          "Download Single",
          "Download Single",
          "Download Single",
          "Download Single",
          "Download Album",
          "Download Album",
          "Download Album",
          "Download Album",
          "Download Album",
          "Download Album",
          "Download Album",
          "Download Album",
          "Download Album",
          "Download Album",
          "Download Album",
          "Download Album",
          "Download Album",
          "Download Album",
          "Download Album",
          "Download Album",
          "Kiosk",
          "Kiosk",
          "Kiosk",
          "Kiosk",
          "Kiosk",
          "Kiosk",
          "Kiosk",
          "Kiosk",
          "Kiosk",
          "Kiosk",
          "Kiosk",
          "Kiosk",
          "Kiosk",
          "Kiosk",
          "Kiosk",
          "Download Music Video",
          "Download Music Video",
          "Download Music Video",
          "Download Music Video",
          "Download Music Video",
          "Download Music Video",
          "Download Music Video",
          "Download Music Video",
          "Download Music Video",
          "Download Music Video",
          "Download Music Video",
          "Download Music Video",
          "Download Music Video",
          "Download Music Video",
          "Download Music Video",
          "Ringtones & Ringbacks",
          "Ringtones & Ringbacks",
          "Ringtones & Ringbacks",
          "Ringtones & Ringbacks",
          "Ringtones & Ringbacks",
          "Ringtones & Ringbacks",
          "Ringtones & Ringbacks",
          "Ringtones & Ringbacks",
          "Ringtones & Ringbacks",
          "Ringtones & Ringbacks",
          "Ringtones & Ringbacks",
          "Ringtones & Ringbacks",
          "Ringtones & Ringbacks",
          "Ringtones & Ringbacks",
          "Ringtones & Ringbacks",
          "Paid Subscriptions",
          "Paid Subscriptions",
          "Paid Subscriptions",
          "Paid Subscriptions",
          "Paid Subscriptions",
          "Paid Subscriptions",
          "Paid Subscriptions",
          "Paid Subscriptions",
          "Paid Subscriptions",
          "Paid Subscriptions",
          "Paid Subscriptions",
          "Paid Subscriptions",
          "Paid Subscriptions",
          "Paid Subscriptions",
          "Paid Subscriptions",
          "Paid Subscriptions",
          "Paid Subscriptions",
          "Paid Subscriptions",
          "Paid Subscriptions",
          "Paid Subscriptions",
          "Paid Subscriptions",
          "Paid Subscriptions",
          "Paid Subscriptions",
          "Paid Subscriptions",
          "Paid Subscriptions",
          "Paid Subscriptions",
          "Paid Subscriptions",
          "Paid Subscriptions",
          "Paid Subscriptions"
         ],
         "yaxis": "y"
        }
       ],
       "layout": {
        "coloraxis": {
         "colorbar": {
          "title": {
           "text": "Value (Actual)"
          }
         },
         "colorscale": [
          [
           0,
           "#0d0887"
          ],
          [
           0.1111111111111111,
           "#46039f"
          ],
          [
           0.2222222222222222,
           "#7201a8"
          ],
          [
           0.3333333333333333,
           "#9c179e"
          ],
          [
           0.4444444444444444,
           "#bd3786"
          ],
          [
           0.5555555555555556,
           "#d8576b"
          ],
          [
           0.6666666666666666,
           "#ed7953"
          ],
          [
           0.7777777777777778,
           "#fb9f3a"
          ],
          [
           0.8888888888888888,
           "#fdca26"
          ],
          [
           1,
           "#f0f921"
          ]
         ]
        },
        "legend": {
         "itemsizing": "constant",
         "tracegroupgap": 0
        },
        "template": {
         "data": {
          "bar": [
           {
            "error_x": {
             "color": "#2a3f5f"
            },
            "error_y": {
             "color": "#2a3f5f"
            },
            "marker": {
             "line": {
              "color": "#E5ECF6",
              "width": 0.5
             },
             "pattern": {
              "fillmode": "overlay",
              "size": 10,
              "solidity": 0.2
             }
            },
            "type": "bar"
           }
          ],
          "barpolar": [
           {
            "marker": {
             "line": {
              "color": "#E5ECF6",
              "width": 0.5
             },
             "pattern": {
              "fillmode": "overlay",
              "size": 10,
              "solidity": 0.2
             }
            },
            "type": "barpolar"
           }
          ],
          "carpet": [
           {
            "aaxis": {
             "endlinecolor": "#2a3f5f",
             "gridcolor": "white",
             "linecolor": "white",
             "minorgridcolor": "white",
             "startlinecolor": "#2a3f5f"
            },
            "baxis": {
             "endlinecolor": "#2a3f5f",
             "gridcolor": "white",
             "linecolor": "white",
             "minorgridcolor": "white",
             "startlinecolor": "#2a3f5f"
            },
            "type": "carpet"
           }
          ],
          "choropleth": [
           {
            "colorbar": {
             "outlinewidth": 0,
             "ticks": ""
            },
            "type": "choropleth"
           }
          ],
          "contour": [
           {
            "colorbar": {
             "outlinewidth": 0,
             "ticks": ""
            },
            "colorscale": [
             [
              0,
              "#0d0887"
             ],
             [
              0.1111111111111111,
              "#46039f"
             ],
             [
              0.2222222222222222,
              "#7201a8"
             ],
             [
              0.3333333333333333,
              "#9c179e"
             ],
             [
              0.4444444444444444,
              "#bd3786"
             ],
             [
              0.5555555555555556,
              "#d8576b"
             ],
             [
              0.6666666666666666,
              "#ed7953"
             ],
             [
              0.7777777777777778,
              "#fb9f3a"
             ],
             [
              0.8888888888888888,
              "#fdca26"
             ],
             [
              1,
              "#f0f921"
             ]
            ],
            "type": "contour"
           }
          ],
          "contourcarpet": [
           {
            "colorbar": {
             "outlinewidth": 0,
             "ticks": ""
            },
            "type": "contourcarpet"
           }
          ],
          "heatmap": [
           {
            "colorbar": {
             "outlinewidth": 0,
             "ticks": ""
            },
            "colorscale": [
             [
              0,
              "#0d0887"
             ],
             [
              0.1111111111111111,
              "#46039f"
             ],
             [
              0.2222222222222222,
              "#7201a8"
             ],
             [
              0.3333333333333333,
              "#9c179e"
             ],
             [
              0.4444444444444444,
              "#bd3786"
             ],
             [
              0.5555555555555556,
              "#d8576b"
             ],
             [
              0.6666666666666666,
              "#ed7953"
             ],
             [
              0.7777777777777778,
              "#fb9f3a"
             ],
             [
              0.8888888888888888,
              "#fdca26"
             ],
             [
              1,
              "#f0f921"
             ]
            ],
            "type": "heatmap"
           }
          ],
          "heatmapgl": [
           {
            "colorbar": {
             "outlinewidth": 0,
             "ticks": ""
            },
            "colorscale": [
             [
              0,
              "#0d0887"
             ],
             [
              0.1111111111111111,
              "#46039f"
             ],
             [
              0.2222222222222222,
              "#7201a8"
             ],
             [
              0.3333333333333333,
              "#9c179e"
             ],
             [
              0.4444444444444444,
              "#bd3786"
             ],
             [
              0.5555555555555556,
              "#d8576b"
             ],
             [
              0.6666666666666666,
              "#ed7953"
             ],
             [
              0.7777777777777778,
              "#fb9f3a"
             ],
             [
              0.8888888888888888,
              "#fdca26"
             ],
             [
              1,
              "#f0f921"
             ]
            ],
            "type": "heatmapgl"
           }
          ],
          "histogram": [
           {
            "marker": {
             "pattern": {
              "fillmode": "overlay",
              "size": 10,
              "solidity": 0.2
             }
            },
            "type": "histogram"
           }
          ],
          "histogram2d": [
           {
            "colorbar": {
             "outlinewidth": 0,
             "ticks": ""
            },
            "colorscale": [
             [
              0,
              "#0d0887"
             ],
             [
              0.1111111111111111,
              "#46039f"
             ],
             [
              0.2222222222222222,
              "#7201a8"
             ],
             [
              0.3333333333333333,
              "#9c179e"
             ],
             [
              0.4444444444444444,
              "#bd3786"
             ],
             [
              0.5555555555555556,
              "#d8576b"
             ],
             [
              0.6666666666666666,
              "#ed7953"
             ],
             [
              0.7777777777777778,
              "#fb9f3a"
             ],
             [
              0.8888888888888888,
              "#fdca26"
             ],
             [
              1,
              "#f0f921"
             ]
            ],
            "type": "histogram2d"
           }
          ],
          "histogram2dcontour": [
           {
            "colorbar": {
             "outlinewidth": 0,
             "ticks": ""
            },
            "colorscale": [
             [
              0,
              "#0d0887"
             ],
             [
              0.1111111111111111,
              "#46039f"
             ],
             [
              0.2222222222222222,
              "#7201a8"
             ],
             [
              0.3333333333333333,
              "#9c179e"
             ],
             [
              0.4444444444444444,
              "#bd3786"
             ],
             [
              0.5555555555555556,
              "#d8576b"
             ],
             [
              0.6666666666666666,
              "#ed7953"
             ],
             [
              0.7777777777777778,
              "#fb9f3a"
             ],
             [
              0.8888888888888888,
              "#fdca26"
             ],
             [
              1,
              "#f0f921"
             ]
            ],
            "type": "histogram2dcontour"
           }
          ],
          "mesh3d": [
           {
            "colorbar": {
             "outlinewidth": 0,
             "ticks": ""
            },
            "type": "mesh3d"
           }
          ],
          "parcoords": [
           {
            "line": {
             "colorbar": {
              "outlinewidth": 0,
              "ticks": ""
             }
            },
            "type": "parcoords"
           }
          ],
          "pie": [
           {
            "automargin": true,
            "type": "pie"
           }
          ],
          "scatter": [
           {
            "fillpattern": {
             "fillmode": "overlay",
             "size": 10,
             "solidity": 0.2
            },
            "type": "scatter"
           }
          ],
          "scatter3d": [
           {
            "line": {
             "colorbar": {
              "outlinewidth": 0,
              "ticks": ""
             }
            },
            "marker": {
             "colorbar": {
              "outlinewidth": 0,
              "ticks": ""
             }
            },
            "type": "scatter3d"
           }
          ],
          "scattercarpet": [
           {
            "marker": {
             "colorbar": {
              "outlinewidth": 0,
              "ticks": ""
             }
            },
            "type": "scattercarpet"
           }
          ],
          "scattergeo": [
           {
            "marker": {
             "colorbar": {
              "outlinewidth": 0,
              "ticks": ""
             }
            },
            "type": "scattergeo"
           }
          ],
          "scattergl": [
           {
            "marker": {
             "colorbar": {
              "outlinewidth": 0,
              "ticks": ""
             }
            },
            "type": "scattergl"
           }
          ],
          "scattermapbox": [
           {
            "marker": {
             "colorbar": {
              "outlinewidth": 0,
              "ticks": ""
             }
            },
            "type": "scattermapbox"
           }
          ],
          "scatterpolar": [
           {
            "marker": {
             "colorbar": {
              "outlinewidth": 0,
              "ticks": ""
             }
            },
            "type": "scatterpolar"
           }
          ],
          "scatterpolargl": [
           {
            "marker": {
             "colorbar": {
              "outlinewidth": 0,
              "ticks": ""
             }
            },
            "type": "scatterpolargl"
           }
          ],
          "scatterternary": [
           {
            "marker": {
             "colorbar": {
              "outlinewidth": 0,
              "ticks": ""
             }
            },
            "type": "scatterternary"
           }
          ],
          "surface": [
           {
            "colorbar": {
             "outlinewidth": 0,
             "ticks": ""
            },
            "colorscale": [
             [
              0,
              "#0d0887"
             ],
             [
              0.1111111111111111,
              "#46039f"
             ],
             [
              0.2222222222222222,
              "#7201a8"
             ],
             [
              0.3333333333333333,
              "#9c179e"
             ],
             [
              0.4444444444444444,
              "#bd3786"
             ],
             [
              0.5555555555555556,
              "#d8576b"
             ],
             [
              0.6666666666666666,
              "#ed7953"
             ],
             [
              0.7777777777777778,
              "#fb9f3a"
             ],
             [
              0.8888888888888888,
              "#fdca26"
             ],
             [
              1,
              "#f0f921"
             ]
            ],
            "type": "surface"
           }
          ],
          "table": [
           {
            "cells": {
             "fill": {
              "color": "#EBF0F8"
             },
             "line": {
              "color": "white"
             }
            },
            "header": {
             "fill": {
              "color": "#C8D4E3"
             },
             "line": {
              "color": "white"
             }
            },
            "type": "table"
           }
          ]
         },
         "layout": {
          "annotationdefaults": {
           "arrowcolor": "#2a3f5f",
           "arrowhead": 0,
           "arrowwidth": 1
          },
          "autotypenumbers": "strict",
          "coloraxis": {
           "colorbar": {
            "outlinewidth": 0,
            "ticks": ""
           }
          },
          "colorscale": {
           "diverging": [
            [
             0,
             "#8e0152"
            ],
            [
             0.1,
             "#c51b7d"
            ],
            [
             0.2,
             "#de77ae"
            ],
            [
             0.3,
             "#f1b6da"
            ],
            [
             0.4,
             "#fde0ef"
            ],
            [
             0.5,
             "#f7f7f7"
            ],
            [
             0.6,
             "#e6f5d0"
            ],
            [
             0.7,
             "#b8e186"
            ],
            [
             0.8,
             "#7fbc41"
            ],
            [
             0.9,
             "#4d9221"
            ],
            [
             1,
             "#276419"
            ]
           ],
           "sequential": [
            [
             0,
             "#0d0887"
            ],
            [
             0.1111111111111111,
             "#46039f"
            ],
            [
             0.2222222222222222,
             "#7201a8"
            ],
            [
             0.3333333333333333,
             "#9c179e"
            ],
            [
             0.4444444444444444,
             "#bd3786"
            ],
            [
             0.5555555555555556,
             "#d8576b"
            ],
            [
             0.6666666666666666,
             "#ed7953"
            ],
            [
             0.7777777777777778,
             "#fb9f3a"
            ],
            [
             0.8888888888888888,
             "#fdca26"
            ],
            [
             1,
             "#f0f921"
            ]
           ],
           "sequentialminus": [
            [
             0,
             "#0d0887"
            ],
            [
             0.1111111111111111,
             "#46039f"
            ],
            [
             0.2222222222222222,
             "#7201a8"
            ],
            [
             0.3333333333333333,
             "#9c179e"
            ],
            [
             0.4444444444444444,
             "#bd3786"
            ],
            [
             0.5555555555555556,
             "#d8576b"
            ],
            [
             0.6666666666666666,
             "#ed7953"
            ],
            [
             0.7777777777777778,
             "#fb9f3a"
            ],
            [
             0.8888888888888888,
             "#fdca26"
            ],
            [
             1,
             "#f0f921"
            ]
           ]
          },
          "colorway": [
           "#636efa",
           "#EF553B",
           "#00cc96",
           "#ab63fa",
           "#FFA15A",
           "#19d3f3",
           "#FF6692",
           "#B6E880",
           "#FF97FF",
           "#FECB52"
          ],
          "font": {
           "color": "#2a3f5f"
          },
          "geo": {
           "bgcolor": "white",
           "lakecolor": "white",
           "landcolor": "#E5ECF6",
           "showlakes": true,
           "showland": true,
           "subunitcolor": "white"
          },
          "hoverlabel": {
           "align": "left"
          },
          "hovermode": "closest",
          "mapbox": {
           "style": "light"
          },
          "paper_bgcolor": "white",
          "plot_bgcolor": "#E5ECF6",
          "polar": {
           "angularaxis": {
            "gridcolor": "white",
            "linecolor": "white",
            "ticks": ""
           },
           "bgcolor": "#E5ECF6",
           "radialaxis": {
            "gridcolor": "white",
            "linecolor": "white",
            "ticks": ""
           }
          },
          "scene": {
           "xaxis": {
            "backgroundcolor": "#E5ECF6",
            "gridcolor": "white",
            "gridwidth": 2,
            "linecolor": "white",
            "showbackground": true,
            "ticks": "",
            "zerolinecolor": "white"
           },
           "yaxis": {
            "backgroundcolor": "#E5ECF6",
            "gridcolor": "white",
            "gridwidth": 2,
            "linecolor": "white",
            "showbackground": true,
            "ticks": "",
            "zerolinecolor": "white"
           },
           "zaxis": {
            "backgroundcolor": "#E5ECF6",
            "gridcolor": "white",
            "gridwidth": 2,
            "linecolor": "white",
            "showbackground": true,
            "ticks": "",
            "zerolinecolor": "white"
           }
          },
          "shapedefaults": {
           "line": {
            "color": "#2a3f5f"
           }
          },
          "ternary": {
           "aaxis": {
            "gridcolor": "white",
            "linecolor": "white",
            "ticks": ""
           },
           "baxis": {
            "gridcolor": "white",
            "linecolor": "white",
            "ticks": ""
           },
           "bgcolor": "#E5ECF6",
           "caxis": {
            "gridcolor": "white",
            "linecolor": "white",
            "ticks": ""
           }
          },
          "title": {
           "x": 0.05
          },
          "xaxis": {
           "automargin": true,
           "gridcolor": "white",
           "linecolor": "white",
           "ticks": "",
           "title": {
            "standoff": 15
           },
           "zerolinecolor": "white",
           "zerolinewidth": 2
          },
          "yaxis": {
           "automargin": true,
           "gridcolor": "white",
           "linecolor": "white",
           "ticks": "",
           "title": {
            "standoff": 15
           },
           "zerolinecolor": "white",
           "zerolinewidth": 2
          }
         }
        },
        "title": {
         "text": "Scatter plot for Units"
        },
        "xaxis": {
         "anchor": "y",
         "domain": [
          0,
          1
         ],
         "title": {
          "text": "Year"
         }
        },
        "yaxis": {
         "anchor": "x",
         "domain": [
          0,
          1
         ],
         "title": {
          "text": "?Format"
         }
        }
       }
      }
     },
     "metadata": {},
     "output_type": "display_data"
    },
    {
     "data": {
      "application/vnd.plotly.v1+json": {
       "config": {
        "plotlyServerURL": "https://plot.ly"
       },
       "data": [
        {
         "hovertemplate": "Year=%{x}<br>?Format=%{y}<br>Value (Actual)=%{marker.color}<extra></extra>",
         "legendgroup": "",
         "marker": {
          "color": [
           0,
           0,
           0,
           0,
           0,
           0,
           0,
           0,
           880.3150825,
           95.37463212,
           44.14960241,
           254.1806362,
           925.4498281,
           0,
           0,
           0,
           0,
           0,
           0,
           0,
           0,
           0,
           0,
           0,
           0,
           0,
           0,
           0,
           0,
           0,
           0,
           0,
           0,
           0,
           0,
           0,
           0,
           0,
           0,
           0,
           0,
           0,
           0,
           0,
           0,
           711.0412395,
           614.5097799,
           21.17868639,
           0,
           11.73635807,
           65.88517401,
           82.1819722,
           81.03176886,
           96.77704251,
           186.0391161,
           299.9773977,
           434.3779682,
           334.3930822,
           341.2852149,
           211.8597787,
           114.6197956,
           27.85368093,
           50.01984783,
           20.30097935,
           14.26861905,
           9.764677083,
           15.04590159,
           4.156001078,
           3.694172567,
           3.400068331,
           3.977965137,
           3.59119832,
           2.684056894,
           3.905023683,
           1.291079457,
           0.280361354,
           1.542258972,
           0.157981482,
           0.181678878,
           437.6110811,
           452.1965598,
           469.4964981,
           654.6436714,
           0,
           0,
           0,
           0,
           0,
           0,
           0,
           0,
           0,
           0,
           0,
           0,
           0,
           0,
           0,
           0,
           0,
           0,
           0,
           0,
           0,
           0,
           0,
           929.3918815,
           524.5948831,
           298.1480745,
           150.1984875,
           32.07554738,
           17.14852381,
           4.69211756,
           3.699811867,
           1.068685991,
           32.18217518,
           123.8304827,
           401.21655,
           504.4677911,
           432.4770396,
           544.4783436,
           528.1218997,
           474.2247591,
           396.4025532,
           308.4504149,
           212.6492804,
           148.0614773,
           73.65867947,
           6.829397213,
           0,
           0,
           8.661445511,
           12.07940245,
           11.11552174,
           8.797091053,
           14.66133333,
           3.043535714,
           3.453157742,
           1.424914655,
           1.906669712,
           1.05519362,
           0.34096844,
           0.20389289,
           0,
           2.310456232,
           5.842187676,
           3.020431045,
           2.718901189,
           3.377493968,
           1.067303184,
           61.57963737,
           177.6377619,
           349.8797932,
           613.4288075,
           754.373567,
           886.9589166,
           0,
           0,
           0,
           0,
           0,
           0,
           925.232201,
           697.2376182,
           508.7043884,
           394.5330062,
           4.84347619,
           24.98235566,
           34.77823155,
           49.04081272,
           48.73924451,
           42.91120721,
           36.82459156,
           23.20820694,
           18.37207499,
           14.6621972,
           6.918875516,
           4.547792467,
           2.905533136,
           2.261051168,
           1.858910402,
           186.7690101,
           475.577,
           736.2820149,
           0,
           0,
           0,
           0,
           0,
           0,
           0,
           0,
           0,
           958.8791031,
           707.6927112,
           499.3169742,
           414.804251,
           1.309047619,
           2.409465774,
           3.206503618,
           3.087315086,
           7.507511991,
           7.503599075,
           3.068715963,
           4.068866328,
           6.786152156,
           2.789051821,
           3.99147413,
           3.13587911,
           2.351668038,
           2.000651969,
           1.586470587,
           0,
           0,
           0,
           0,
           0,
           0,
           0,
           0,
           0,
           0,
           0,
           0,
           0,
           0,
           0,
           0,
           454.203525,
           169.1991622,
           55.18587225,
           24.59992516,
           18.75407751,
           30.7064413,
           42.10623819,
           59.96289101,
           53.04285421,
           53.32722699,
           48.79887515,
           41.12484843,
           39.5539345,
           29.13267649,
           30.15085272,
           26.12059344,
           18.58847619,
           19.90979613,
           28.24189725,
           67.32721746,
           76.02845477,
           104.2296809,
           135.7054393,
           178.9679822,
           231.2740702,
           263.3361791,
           359.5981629,
           378.607271,
           405.2120773,
           426.8201866,
           497.5889208,
           280.5366913,
           617.032318,
           760.591366,
           829.4987397,
           237.92595,
           337.0290826,
           221.6820242,
           286.8169052,
           377.3815785,
           398.6662126,
           369.5619232,
           384.7075698,
           515.9333477,
           796.7715092,
           578.0671783,
           418.523277,
           475.2246437,
           409.8470195,
           555.6371429,
           821.7836443,
           788.3084762,
           572.0579003,
           598.0129247,
           269.9025843,
           249.7737323,
           208.2248743,
           171.6207816,
           129.8513772,
           116.6396724,
           96.87525106,
           75.97361449,
           60.63464218,
           40.27958535,
           28.06066388,
           27.70524678,
           129.340695,
           190.3396156,
           242.3960978,
           306.475448,
           401.2452641,
           521.288175,
           686.9180813,
           773.2949167,
           908.1493305,
           86.55959668,
           273.040319,
           255.9674439,
           251.0647101,
           18.25940954,
           17.61095192,
           20.19906331,
           21.51717501,
           89.82543243,
           68.97034686,
           48.47028625,
           22.91477504,
           195.3099048,
           261.4904435,
           288.5853256,
           262.8967539,
           245.7220591,
           249.0256943,
           281.6399317,
           445.2763062,
           706.0116575,
           831.8340275,
           0,
           0,
           0,
           0,
           0,
           551.8944762,
           981.2866399,
           0,
           0,
           837.504671,
           525.2519353,
           313.9182774,
           162.5657282,
           107.5489764,
           71.61127201,
           58.87458101,
           59.99807088,
           37.04036846,
           25.41009037,
           21.4267369,
           36.54227772,
           22.46641715,
           13.09047619,
           6.974769345,
           4.43977424,
           3.681029526,
           2.860004568,
           1.993143504,
           1.704842202,
           1.494897613,
           1.073719014,
           0.82446336,
           1.125529098,
           1.28555661,
           0.887142473,
           0.875277267,
           0.433302292,
           9.338450503,
           26.70457143,
           41.5949881,
           44.64439653,
           118.7428879,
           185.3044626,
           292.171389,
           331.8759486,
           514.445212,
           647.9302738,
           835.2135873,
           865.7197931,
           941.5359648,
           680.0275946,
           970.0645127,
           908.2,
           239.7637163,
           221.238929,
           223.3343284,
           212.2339858,
           208.1623435,
           204.8758184,
           218.8945293,
           228.8478595,
           242.0632514,
           290.6869289,
           276.2623602,
           0,
           0,
           0,
           0,
           0,
           0,
           0,
           775.6583738,
           721.1271155,
           749.7505803,
           691.2492982,
           734.9831174,
           667.6544331,
           532.0744681,
           457.5270079,
           389.8607168,
           239.9877,
           184.6520337,
           119.944804,
           120.9951875,
           90.58573287,
           81.42382186,
           78.34108858,
           77.39775335,
           56.70647477,
           40.30910982,
           42.81410744,
           39.04633624,
           45.32823151,
           35.38554364,
           29.87296467,
           26.93263261,
           17.27942857,
           12.55458482,
           4.933082489,
           3.44354375,
           2.979171425,
           2.696605918,
           5.228182752,
           5.281477044,
           3.269213385,
           5.938887283,
           6.205390253,
           5.198931395,
           6.33967756,
           5.386196747,
           6.795945687
          ],
          "coloraxis": "coloraxis",
          "size": [
           0,
           0,
           0,
           0,
           0,
           0,
           0,
           0,
           880.3150825,
           95.37463212,
           44.14960241,
           254.1806362,
           925.4498281,
           0,
           0,
           0,
           0,
           0,
           0,
           0,
           0,
           0,
           0,
           0,
           0,
           0,
           0,
           0,
           0,
           0,
           0,
           0,
           0,
           0,
           0,
           0,
           0,
           0,
           0,
           0,
           0,
           0,
           0,
           0,
           0,
           711.0412395,
           614.5097799,
           21.17868639,
           0,
           11.73635807,
           65.88517401,
           82.1819722,
           81.03176886,
           96.77704251,
           186.0391161,
           299.9773977,
           434.3779682,
           334.3930822,
           341.2852149,
           211.8597787,
           114.6197956,
           27.85368093,
           50.01984783,
           20.30097935,
           14.26861905,
           9.764677083,
           15.04590159,
           4.156001078,
           3.694172567,
           3.400068331,
           3.977965137,
           3.59119832,
           2.684056894,
           3.905023683,
           1.291079457,
           0.280361354,
           1.542258972,
           0.157981482,
           0.181678878,
           437.6110811,
           452.1965598,
           469.4964981,
           654.6436714,
           0,
           0,
           0,
           0,
           0,
           0,
           0,
           0,
           0,
           0,
           0,
           0,
           0,
           0,
           0,
           0,
           0,
           0,
           0,
           0,
           0,
           0,
           0,
           929.3918815,
           524.5948831,
           298.1480745,
           150.1984875,
           32.07554738,
           17.14852381,
           4.69211756,
           3.699811867,
           1.068685991,
           32.18217518,
           123.8304827,
           401.21655,
           504.4677911,
           432.4770396,
           544.4783436,
           528.1218997,
           474.2247591,
           396.4025532,
           308.4504149,
           212.6492804,
           148.0614773,
           73.65867947,
           6.829397213,
           0,
           0,
           8.661445511,
           12.07940245,
           11.11552174,
           8.797091053,
           14.66133333,
           3.043535714,
           3.453157742,
           1.424914655,
           1.906669712,
           1.05519362,
           0.34096844,
           0.20389289,
           0,
           2.310456232,
           5.842187676,
           3.020431045,
           2.718901189,
           3.377493968,
           1.067303184,
           61.57963737,
           177.6377619,
           349.8797932,
           613.4288075,
           754.373567,
           886.9589166,
           0,
           0,
           0,
           0,
           0,
           0,
           925.232201,
           697.2376182,
           508.7043884,
           394.5330062,
           4.84347619,
           24.98235566,
           34.77823155,
           49.04081272,
           48.73924451,
           42.91120721,
           36.82459156,
           23.20820694,
           18.37207499,
           14.6621972,
           6.918875516,
           4.547792467,
           2.905533136,
           2.261051168,
           1.858910402,
           186.7690101,
           475.577,
           736.2820149,
           0,
           0,
           0,
           0,
           0,
           0,
           0,
           0,
           0,
           958.8791031,
           707.6927112,
           499.3169742,
           414.804251,
           1.309047619,
           2.409465774,
           3.206503618,
           3.087315086,
           7.507511991,
           7.503599075,
           3.068715963,
           4.068866328,
           6.786152156,
           2.789051821,
           3.99147413,
           3.13587911,
           2.351668038,
           2.000651969,
           1.586470587,
           0,
           0,
           0,
           0,
           0,
           0,
           0,
           0,
           0,
           0,
           0,
           0,
           0,
           0,
           0,
           0,
           454.203525,
           169.1991622,
           55.18587225,
           24.59992516,
           18.75407751,
           30.7064413,
           42.10623819,
           59.96289101,
           53.04285421,
           53.32722699,
           48.79887515,
           41.12484843,
           39.5539345,
           29.13267649,
           30.15085272,
           26.12059344,
           18.58847619,
           19.90979613,
           28.24189725,
           67.32721746,
           76.02845477,
           104.2296809,
           135.7054393,
           178.9679822,
           231.2740702,
           263.3361791,
           359.5981629,
           378.607271,
           405.2120773,
           426.8201866,
           497.5889208,
           280.5366913,
           617.032318,
           760.591366,
           829.4987397,
           237.92595,
           337.0290826,
           221.6820242,
           286.8169052,
           377.3815785,
           398.6662126,
           369.5619232,
           384.7075698,
           515.9333477,
           796.7715092,
           578.0671783,
           418.523277,
           475.2246437,
           409.8470195,
           555.6371429,
           821.7836443,
           788.3084762,
           572.0579003,
           598.0129247,
           269.9025843,
           249.7737323,
           208.2248743,
           171.6207816,
           129.8513772,
           116.6396724,
           96.87525106,
           75.97361449,
           60.63464218,
           40.27958535,
           28.06066388,
           27.70524678,
           129.340695,
           190.3396156,
           242.3960978,
           306.475448,
           401.2452641,
           521.288175,
           686.9180813,
           773.2949167,
           908.1493305,
           86.55959668,
           273.040319,
           255.9674439,
           251.0647101,
           18.25940954,
           17.61095192,
           20.19906331,
           21.51717501,
           89.82543243,
           68.97034686,
           48.47028625,
           22.91477504,
           195.3099048,
           261.4904435,
           288.5853256,
           262.8967539,
           245.7220591,
           249.0256943,
           281.6399317,
           445.2763062,
           706.0116575,
           831.8340275,
           0,
           0,
           0,
           0,
           0,
           551.8944762,
           981.2866399,
           0,
           0,
           837.504671,
           525.2519353,
           313.9182774,
           162.5657282,
           107.5489764,
           71.61127201,
           58.87458101,
           59.99807088,
           37.04036846,
           25.41009037,
           21.4267369,
           36.54227772,
           22.46641715,
           13.09047619,
           6.974769345,
           4.43977424,
           3.681029526,
           2.860004568,
           1.993143504,
           1.704842202,
           1.494897613,
           1.073719014,
           0.82446336,
           1.125529098,
           1.28555661,
           0.887142473,
           0.875277267,
           0.433302292,
           9.338450503,
           26.70457143,
           41.5949881,
           44.64439653,
           118.7428879,
           185.3044626,
           292.171389,
           331.8759486,
           514.445212,
           647.9302738,
           835.2135873,
           865.7197931,
           941.5359648,
           680.0275946,
           970.0645127,
           908.2,
           239.7637163,
           221.238929,
           223.3343284,
           212.2339858,
           208.1623435,
           204.8758184,
           218.8945293,
           228.8478595,
           242.0632514,
           290.6869289,
           276.2623602,
           0,
           0,
           0,
           0,
           0,
           0,
           0,
           775.6583738,
           721.1271155,
           749.7505803,
           691.2492982,
           734.9831174,
           667.6544331,
           532.0744681,
           457.5270079,
           389.8607168,
           239.9877,
           184.6520337,
           119.944804,
           120.9951875,
           90.58573287,
           81.42382186,
           78.34108858,
           77.39775335,
           56.70647477,
           40.30910982,
           42.81410744,
           39.04633624,
           45.32823151,
           35.38554364,
           29.87296467,
           26.93263261,
           17.27942857,
           12.55458482,
           4.933082489,
           3.44354375,
           2.979171425,
           2.696605918,
           5.228182752,
           5.281477044,
           3.269213385,
           5.938887283,
           6.205390253,
           5.198931395,
           6.33967756,
           5.386196747,
           6.795945687
          ],
          "sizemode": "area",
          "sizeref": 2.4532165997499997,
          "symbol": "circle"
         },
         "mode": "markers",
         "name": "",
         "orientation": "h",
         "showlegend": false,
         "type": "scatter",
         "x": [
          1973,
          1974,
          1975,
          1976,
          1977,
          1978,
          1979,
          1980,
          1981,
          1982,
          1983,
          1984,
          1985,
          1986,
          1987,
          1988,
          1989,
          1990,
          1991,
          1992,
          1993,
          1994,
          1995,
          1996,
          1997,
          1998,
          1999,
          2000,
          2001,
          2002,
          2003,
          2004,
          2005,
          2006,
          2007,
          2008,
          2009,
          2010,
          2011,
          2012,
          2013,
          2014,
          2015,
          2016,
          2017,
          2018,
          2019,
          1988,
          1989,
          1990,
          1991,
          1992,
          1993,
          1994,
          1995,
          1996,
          1997,
          1998,
          1999,
          2000,
          2001,
          2002,
          2003,
          2004,
          2005,
          2006,
          2007,
          2008,
          2009,
          2010,
          2011,
          2012,
          2013,
          2014,
          2015,
          2016,
          2017,
          2018,
          2019,
          1973,
          1974,
          1975,
          1976,
          1977,
          1978,
          1979,
          1980,
          1981,
          1982,
          1983,
          1984,
          1985,
          1986,
          1987,
          1988,
          1989,
          1990,
          1991,
          1992,
          1993,
          1994,
          1995,
          1996,
          1997,
          1998,
          1999,
          2000,
          2001,
          2002,
          2003,
          2004,
          2005,
          2006,
          2007,
          2008,
          1987,
          1988,
          1989,
          1990,
          1991,
          1992,
          1993,
          1994,
          1995,
          1996,
          1997,
          1998,
          1999,
          2000,
          2001,
          2002,
          2001,
          2002,
          2003,
          2004,
          2005,
          2006,
          2007,
          2008,
          2009,
          2010,
          2011,
          2012,
          2013,
          2014,
          2015,
          2016,
          2017,
          2018,
          2019,
          2004,
          2005,
          2006,
          2007,
          2008,
          2009,
          2010,
          2011,
          2012,
          2013,
          2014,
          2015,
          2016,
          2017,
          2018,
          2019,
          2005,
          2006,
          2007,
          2008,
          2009,
          2010,
          2011,
          2012,
          2013,
          2014,
          2015,
          2016,
          2017,
          2018,
          2019,
          2004,
          2005,
          2006,
          2007,
          2008,
          2009,
          2010,
          2011,
          2012,
          2013,
          2014,
          2015,
          2016,
          2017,
          2018,
          2019,
          2005,
          2006,
          2007,
          2008,
          2009,
          2010,
          2011,
          2012,
          2013,
          2014,
          2015,
          2016,
          2017,
          2018,
          2019,
          1973,
          1974,
          1975,
          1976,
          1977,
          1978,
          1979,
          1980,
          1981,
          1982,
          1983,
          1984,
          1985,
          1986,
          1987,
          1988,
          1989,
          1990,
          1991,
          1992,
          1993,
          1994,
          1995,
          1996,
          1997,
          1998,
          1999,
          2000,
          2001,
          2002,
          2003,
          2004,
          2005,
          2006,
          2007,
          2008,
          2009,
          2010,
          2011,
          2012,
          2013,
          2014,
          2015,
          2016,
          2017,
          2018,
          2019,
          2016,
          2017,
          2018,
          2019,
          1989,
          1990,
          1991,
          1992,
          1993,
          1994,
          1995,
          1996,
          1997,
          1998,
          1999,
          2000,
          2001,
          2002,
          2003,
          2004,
          2005,
          2006,
          2007,
          2008,
          2009,
          2010,
          2011,
          2012,
          2013,
          2014,
          2015,
          2016,
          2017,
          2018,
          2019,
          2011,
          2012,
          2013,
          2014,
          2015,
          2016,
          2017,
          2018,
          2019,
          2016,
          2017,
          2018,
          2019,
          2016,
          2017,
          2018,
          2019,
          1973,
          1974,
          1975,
          1976,
          2005,
          2006,
          2007,
          2008,
          2009,
          2010,
          2011,
          2012,
          2013,
          2014,
          2015,
          2016,
          2017,
          2018,
          2019,
          2005,
          2006,
          2007,
          2008,
          2009,
          2010,
          2011,
          2012,
          2013,
          2014,
          2015,
          2016,
          2017,
          2018,
          2019,
          2003,
          2004,
          2005,
          2006,
          2007,
          2008,
          2009,
          2010,
          2011,
          2012,
          2013,
          2014,
          2015,
          2016,
          2017,
          2018,
          2019,
          2004,
          2005,
          2006,
          2007,
          2008,
          2009,
          2010,
          2011,
          2012,
          2013,
          2014,
          2015,
          2016,
          2017,
          2018,
          2019,
          2009,
          2010,
          2011,
          2012,
          2013,
          2014,
          2015,
          2016,
          2017,
          2018,
          2019,
          1973,
          1974,
          1975,
          1976,
          1977,
          1978,
          1979,
          1980,
          1981,
          1982,
          1983,
          1984,
          1985,
          1986,
          1987,
          1988,
          1989,
          1990,
          1991,
          1992,
          1993,
          1994,
          1995,
          1996,
          1997,
          1998,
          1999,
          2000,
          2001,
          2002,
          2003,
          2004,
          2005,
          2006,
          2007,
          2008,
          2009,
          2010,
          2011,
          2012,
          2013,
          2014,
          2015,
          2016,
          2017,
          2018,
          2019
         ],
         "xaxis": "x",
         "y": [
          "8 - Track",
          "8 - Track",
          "8 - Track",
          "8 - Track",
          "8 - Track",
          "8 - Track",
          "8 - Track",
          "8 - Track",
          "8 - Track",
          "8 - Track",
          "CD",
          "CD",
          "CD",
          "CD",
          "CD",
          "CD",
          "CD",
          "CD",
          "CD",
          "CD",
          "CD",
          "CD",
          "CD",
          "CD",
          "CD",
          "CD",
          "CD",
          "CD",
          "CD",
          "CD",
          "CD",
          "CD",
          "CD",
          "CD",
          "CD",
          "CD",
          "CD",
          "CD",
          "CD",
          "CD",
          "CD",
          "CD",
          "CD",
          "CD",
          "CD",
          "CD",
          "CD",
          "CD Single",
          "CD Single",
          "CD Single",
          "CD Single",
          "CD Single",
          "CD Single",
          "CD Single",
          "CD Single",
          "CD Single",
          "CD Single",
          "CD Single",
          "CD Single",
          "CD Single",
          "CD Single",
          "CD Single",
          "CD Single",
          "CD Single",
          "CD Single",
          "CD Single",
          "CD Single",
          "CD Single",
          "CD Single",
          "CD Single",
          "CD Single",
          "CD Single",
          "CD Single",
          "CD Single",
          "CD Single",
          "CD Single",
          "CD Single",
          "CD Single",
          "CD Single",
          "Cassette",
          "Cassette",
          "Cassette",
          "Cassette",
          "Cassette",
          "Cassette",
          "Cassette",
          "Cassette",
          "Cassette",
          "Cassette",
          "Cassette",
          "Cassette",
          "Cassette",
          "Cassette",
          "Cassette",
          "Cassette",
          "Cassette",
          "Cassette",
          "Cassette",
          "Cassette",
          "Cassette",
          "Cassette",
          "Cassette",
          "Cassette",
          "Cassette",
          "Cassette",
          "Cassette",
          "Cassette",
          "Cassette",
          "Cassette",
          "Cassette",
          "Cassette",
          "Cassette",
          "Cassette",
          "Cassette",
          "Cassette",
          "Cassette Single",
          "Cassette Single",
          "Cassette Single",
          "Cassette Single",
          "Cassette Single",
          "Cassette Single",
          "Cassette Single",
          "Cassette Single",
          "Cassette Single",
          "Cassette Single",
          "Cassette Single",
          "Cassette Single",
          "Cassette Single",
          "Cassette Single",
          "Cassette Single",
          "Cassette Single",
          "DVD Audio",
          "DVD Audio",
          "DVD Audio",
          "DVD Audio",
          "DVD Audio",
          "DVD Audio",
          "DVD Audio",
          "DVD Audio",
          "DVD Audio",
          "DVD Audio",
          "DVD Audio",
          "DVD Audio",
          "DVD Audio",
          "DVD Audio",
          "DVD Audio",
          "DVD Audio",
          "DVD Audio",
          "DVD Audio",
          "DVD Audio",
          "Download Album",
          "Download Album",
          "Download Album",
          "Download Album",
          "Download Album",
          "Download Album",
          "Download Album",
          "Download Album",
          "Download Album",
          "Download Album",
          "Download Album",
          "Download Album",
          "Download Album",
          "Download Album",
          "Download Album",
          "Download Album",
          "Download Music Video",
          "Download Music Video",
          "Download Music Video",
          "Download Music Video",
          "Download Music Video",
          "Download Music Video",
          "Download Music Video",
          "Download Music Video",
          "Download Music Video",
          "Download Music Video",
          "Download Music Video",
          "Download Music Video",
          "Download Music Video",
          "Download Music Video",
          "Download Music Video",
          "Download Single",
          "Download Single",
          "Download Single",
          "Download Single",
          "Download Single",
          "Download Single",
          "Download Single",
          "Download Single",
          "Download Single",
          "Download Single",
          "Download Single",
          "Download Single",
          "Download Single",
          "Download Single",
          "Download Single",
          "Download Single",
          "Kiosk",
          "Kiosk",
          "Kiosk",
          "Kiosk",
          "Kiosk",
          "Kiosk",
          "Kiosk",
          "Kiosk",
          "Kiosk",
          "Kiosk",
          "Kiosk",
          "Kiosk",
          "Kiosk",
          "Kiosk",
          "Kiosk",
          "LP/EP",
          "LP/EP",
          "LP/EP",
          "LP/EP",
          "LP/EP",
          "LP/EP",
          "LP/EP",
          "LP/EP",
          "LP/EP",
          "LP/EP",
          "LP/EP",
          "LP/EP",
          "LP/EP",
          "LP/EP",
          "LP/EP",
          "LP/EP",
          "LP/EP",
          "LP/EP",
          "LP/EP",
          "LP/EP",
          "LP/EP",
          "LP/EP",
          "LP/EP",
          "LP/EP",
          "LP/EP",
          "LP/EP",
          "LP/EP",
          "LP/EP",
          "LP/EP",
          "LP/EP",
          "LP/EP",
          "LP/EP",
          "LP/EP",
          "LP/EP",
          "LP/EP",
          "LP/EP",
          "LP/EP",
          "LP/EP",
          "LP/EP",
          "LP/EP",
          "LP/EP",
          "LP/EP",
          "LP/EP",
          "LP/EP",
          "LP/EP",
          "LP/EP",
          "LP/EP",
          "Limited Tier Paid Subscription",
          "Limited Tier Paid Subscription",
          "Limited Tier Paid Subscription",
          "Limited Tier Paid Subscription",
          "Music Video (Physical)",
          "Music Video (Physical)",
          "Music Video (Physical)",
          "Music Video (Physical)",
          "Music Video (Physical)",
          "Music Video (Physical)",
          "Music Video (Physical)",
          "Music Video (Physical)",
          "Music Video (Physical)",
          "Music Video (Physical)",
          "Music Video (Physical)",
          "Music Video (Physical)",
          "Music Video (Physical)",
          "Music Video (Physical)",
          "Music Video (Physical)",
          "Music Video (Physical)",
          "Music Video (Physical)",
          "Music Video (Physical)",
          "Music Video (Physical)",
          "Music Video (Physical)",
          "Music Video (Physical)",
          "Music Video (Physical)",
          "Music Video (Physical)",
          "Music Video (Physical)",
          "Music Video (Physical)",
          "Music Video (Physical)",
          "Music Video (Physical)",
          "Music Video (Physical)",
          "Music Video (Physical)",
          "Music Video (Physical)",
          "Music Video (Physical)",
          "On-Demand Streaming (Ad-Supported)",
          "On-Demand Streaming (Ad-Supported)",
          "On-Demand Streaming (Ad-Supported)",
          "On-Demand Streaming (Ad-Supported)",
          "On-Demand Streaming (Ad-Supported)",
          "On-Demand Streaming (Ad-Supported)",
          "On-Demand Streaming (Ad-Supported)",
          "On-Demand Streaming (Ad-Supported)",
          "On-Demand Streaming (Ad-Supported)",
          "Other Ad-Supported Streaming",
          "Other Ad-Supported Streaming",
          "Other Ad-Supported Streaming",
          "Other Ad-Supported Streaming",
          "Other Digital",
          "Other Digital",
          "Other Digital",
          "Other Digital",
          "Other Tapes",
          "Other Tapes",
          "Other Tapes",
          "Other Tapes",
          "Paid Subscription",
          "Paid Subscription",
          "Paid Subscription",
          "Paid Subscription",
          "Paid Subscription",
          "Paid Subscription",
          "Paid Subscription",
          "Paid Subscription",
          "Paid Subscription",
          "Paid Subscription",
          "Paid Subscription",
          "Paid Subscription",
          "Paid Subscription",
          "Paid Subscription",
          "Paid Subscription",
          "Ringtones & Ringbacks",
          "Ringtones & Ringbacks",
          "Ringtones & Ringbacks",
          "Ringtones & Ringbacks",
          "Ringtones & Ringbacks",
          "Ringtones & Ringbacks",
          "Ringtones & Ringbacks",
          "Ringtones & Ringbacks",
          "Ringtones & Ringbacks",
          "Ringtones & Ringbacks",
          "Ringtones & Ringbacks",
          "Ringtones & Ringbacks",
          "Ringtones & Ringbacks",
          "Ringtones & Ringbacks",
          "Ringtones & Ringbacks",
          "SACD",
          "SACD",
          "SACD",
          "SACD",
          "SACD",
          "SACD",
          "SACD",
          "SACD",
          "SACD",
          "SACD",
          "SACD",
          "SACD",
          "SACD",
          "SACD",
          "SACD",
          "SACD",
          "SACD",
          "SoundExchange Distributions",
          "SoundExchange Distributions",
          "SoundExchange Distributions",
          "SoundExchange Distributions",
          "SoundExchange Distributions",
          "SoundExchange Distributions",
          "SoundExchange Distributions",
          "SoundExchange Distributions",
          "SoundExchange Distributions",
          "SoundExchange Distributions",
          "SoundExchange Distributions",
          "SoundExchange Distributions",
          "SoundExchange Distributions",
          "SoundExchange Distributions",
          "SoundExchange Distributions",
          "SoundExchange Distributions",
          "Synchronization",
          "Synchronization",
          "Synchronization",
          "Synchronization",
          "Synchronization",
          "Synchronization",
          "Synchronization",
          "Synchronization",
          "Synchronization",
          "Synchronization",
          "Synchronization",
          "Vinyl Single",
          "Vinyl Single",
          "Vinyl Single",
          "Vinyl Single",
          "Vinyl Single",
          "Vinyl Single",
          "Vinyl Single",
          "Vinyl Single",
          "Vinyl Single",
          "Vinyl Single",
          "Vinyl Single",
          "Vinyl Single",
          "Vinyl Single",
          "Vinyl Single",
          "Vinyl Single",
          "Vinyl Single",
          "Vinyl Single",
          "Vinyl Single",
          "Vinyl Single",
          "Vinyl Single",
          "Vinyl Single",
          "Vinyl Single",
          "Vinyl Single",
          "Vinyl Single",
          "Vinyl Single",
          "Vinyl Single",
          "Vinyl Single",
          "Vinyl Single",
          "Vinyl Single",
          "Vinyl Single",
          "Vinyl Single",
          "Vinyl Single",
          "Vinyl Single",
          "Vinyl Single",
          "Vinyl Single",
          "Vinyl Single",
          "Vinyl Single",
          "Vinyl Single",
          "Vinyl Single",
          "Vinyl Single",
          "Vinyl Single",
          "Vinyl Single",
          "Vinyl Single",
          "Vinyl Single",
          "Vinyl Single",
          "Vinyl Single",
          "Vinyl Single"
         ],
         "yaxis": "y"
        }
       ],
       "layout": {
        "coloraxis": {
         "colorbar": {
          "title": {
           "text": "Value (Actual)"
          }
         },
         "colorscale": [
          [
           0,
           "#0d0887"
          ],
          [
           0.1111111111111111,
           "#46039f"
          ],
          [
           0.2222222222222222,
           "#7201a8"
          ],
          [
           0.3333333333333333,
           "#9c179e"
          ],
          [
           0.4444444444444444,
           "#bd3786"
          ],
          [
           0.5555555555555556,
           "#d8576b"
          ],
          [
           0.6666666666666666,
           "#ed7953"
          ],
          [
           0.7777777777777778,
           "#fb9f3a"
          ],
          [
           0.8888888888888888,
           "#fdca26"
          ],
          [
           1,
           "#f0f921"
          ]
         ]
        },
        "legend": {
         "itemsizing": "constant",
         "tracegroupgap": 0
        },
        "template": {
         "data": {
          "bar": [
           {
            "error_x": {
             "color": "#2a3f5f"
            },
            "error_y": {
             "color": "#2a3f5f"
            },
            "marker": {
             "line": {
              "color": "#E5ECF6",
              "width": 0.5
             },
             "pattern": {
              "fillmode": "overlay",
              "size": 10,
              "solidity": 0.2
             }
            },
            "type": "bar"
           }
          ],
          "barpolar": [
           {
            "marker": {
             "line": {
              "color": "#E5ECF6",
              "width": 0.5
             },
             "pattern": {
              "fillmode": "overlay",
              "size": 10,
              "solidity": 0.2
             }
            },
            "type": "barpolar"
           }
          ],
          "carpet": [
           {
            "aaxis": {
             "endlinecolor": "#2a3f5f",
             "gridcolor": "white",
             "linecolor": "white",
             "minorgridcolor": "white",
             "startlinecolor": "#2a3f5f"
            },
            "baxis": {
             "endlinecolor": "#2a3f5f",
             "gridcolor": "white",
             "linecolor": "white",
             "minorgridcolor": "white",
             "startlinecolor": "#2a3f5f"
            },
            "type": "carpet"
           }
          ],
          "choropleth": [
           {
            "colorbar": {
             "outlinewidth": 0,
             "ticks": ""
            },
            "type": "choropleth"
           }
          ],
          "contour": [
           {
            "colorbar": {
             "outlinewidth": 0,
             "ticks": ""
            },
            "colorscale": [
             [
              0,
              "#0d0887"
             ],
             [
              0.1111111111111111,
              "#46039f"
             ],
             [
              0.2222222222222222,
              "#7201a8"
             ],
             [
              0.3333333333333333,
              "#9c179e"
             ],
             [
              0.4444444444444444,
              "#bd3786"
             ],
             [
              0.5555555555555556,
              "#d8576b"
             ],
             [
              0.6666666666666666,
              "#ed7953"
             ],
             [
              0.7777777777777778,
              "#fb9f3a"
             ],
             [
              0.8888888888888888,
              "#fdca26"
             ],
             [
              1,
              "#f0f921"
             ]
            ],
            "type": "contour"
           }
          ],
          "contourcarpet": [
           {
            "colorbar": {
             "outlinewidth": 0,
             "ticks": ""
            },
            "type": "contourcarpet"
           }
          ],
          "heatmap": [
           {
            "colorbar": {
             "outlinewidth": 0,
             "ticks": ""
            },
            "colorscale": [
             [
              0,
              "#0d0887"
             ],
             [
              0.1111111111111111,
              "#46039f"
             ],
             [
              0.2222222222222222,
              "#7201a8"
             ],
             [
              0.3333333333333333,
              "#9c179e"
             ],
             [
              0.4444444444444444,
              "#bd3786"
             ],
             [
              0.5555555555555556,
              "#d8576b"
             ],
             [
              0.6666666666666666,
              "#ed7953"
             ],
             [
              0.7777777777777778,
              "#fb9f3a"
             ],
             [
              0.8888888888888888,
              "#fdca26"
             ],
             [
              1,
              "#f0f921"
             ]
            ],
            "type": "heatmap"
           }
          ],
          "heatmapgl": [
           {
            "colorbar": {
             "outlinewidth": 0,
             "ticks": ""
            },
            "colorscale": [
             [
              0,
              "#0d0887"
             ],
             [
              0.1111111111111111,
              "#46039f"
             ],
             [
              0.2222222222222222,
              "#7201a8"
             ],
             [
              0.3333333333333333,
              "#9c179e"
             ],
             [
              0.4444444444444444,
              "#bd3786"
             ],
             [
              0.5555555555555556,
              "#d8576b"
             ],
             [
              0.6666666666666666,
              "#ed7953"
             ],
             [
              0.7777777777777778,
              "#fb9f3a"
             ],
             [
              0.8888888888888888,
              "#fdca26"
             ],
             [
              1,
              "#f0f921"
             ]
            ],
            "type": "heatmapgl"
           }
          ],
          "histogram": [
           {
            "marker": {
             "pattern": {
              "fillmode": "overlay",
              "size": 10,
              "solidity": 0.2
             }
            },
            "type": "histogram"
           }
          ],
          "histogram2d": [
           {
            "colorbar": {
             "outlinewidth": 0,
             "ticks": ""
            },
            "colorscale": [
             [
              0,
              "#0d0887"
             ],
             [
              0.1111111111111111,
              "#46039f"
             ],
             [
              0.2222222222222222,
              "#7201a8"
             ],
             [
              0.3333333333333333,
              "#9c179e"
             ],
             [
              0.4444444444444444,
              "#bd3786"
             ],
             [
              0.5555555555555556,
              "#d8576b"
             ],
             [
              0.6666666666666666,
              "#ed7953"
             ],
             [
              0.7777777777777778,
              "#fb9f3a"
             ],
             [
              0.8888888888888888,
              "#fdca26"
             ],
             [
              1,
              "#f0f921"
             ]
            ],
            "type": "histogram2d"
           }
          ],
          "histogram2dcontour": [
           {
            "colorbar": {
             "outlinewidth": 0,
             "ticks": ""
            },
            "colorscale": [
             [
              0,
              "#0d0887"
             ],
             [
              0.1111111111111111,
              "#46039f"
             ],
             [
              0.2222222222222222,
              "#7201a8"
             ],
             [
              0.3333333333333333,
              "#9c179e"
             ],
             [
              0.4444444444444444,
              "#bd3786"
             ],
             [
              0.5555555555555556,
              "#d8576b"
             ],
             [
              0.6666666666666666,
              "#ed7953"
             ],
             [
              0.7777777777777778,
              "#fb9f3a"
             ],
             [
              0.8888888888888888,
              "#fdca26"
             ],
             [
              1,
              "#f0f921"
             ]
            ],
            "type": "histogram2dcontour"
           }
          ],
          "mesh3d": [
           {
            "colorbar": {
             "outlinewidth": 0,
             "ticks": ""
            },
            "type": "mesh3d"
           }
          ],
          "parcoords": [
           {
            "line": {
             "colorbar": {
              "outlinewidth": 0,
              "ticks": ""
             }
            },
            "type": "parcoords"
           }
          ],
          "pie": [
           {
            "automargin": true,
            "type": "pie"
           }
          ],
          "scatter": [
           {
            "fillpattern": {
             "fillmode": "overlay",
             "size": 10,
             "solidity": 0.2
            },
            "type": "scatter"
           }
          ],
          "scatter3d": [
           {
            "line": {
             "colorbar": {
              "outlinewidth": 0,
              "ticks": ""
             }
            },
            "marker": {
             "colorbar": {
              "outlinewidth": 0,
              "ticks": ""
             }
            },
            "type": "scatter3d"
           }
          ],
          "scattercarpet": [
           {
            "marker": {
             "colorbar": {
              "outlinewidth": 0,
              "ticks": ""
             }
            },
            "type": "scattercarpet"
           }
          ],
          "scattergeo": [
           {
            "marker": {
             "colorbar": {
              "outlinewidth": 0,
              "ticks": ""
             }
            },
            "type": "scattergeo"
           }
          ],
          "scattergl": [
           {
            "marker": {
             "colorbar": {
              "outlinewidth": 0,
              "ticks": ""
             }
            },
            "type": "scattergl"
           }
          ],
          "scattermapbox": [
           {
            "marker": {
             "colorbar": {
              "outlinewidth": 0,
              "ticks": ""
             }
            },
            "type": "scattermapbox"
           }
          ],
          "scatterpolar": [
           {
            "marker": {
             "colorbar": {
              "outlinewidth": 0,
              "ticks": ""
             }
            },
            "type": "scatterpolar"
           }
          ],
          "scatterpolargl": [
           {
            "marker": {
             "colorbar": {
              "outlinewidth": 0,
              "ticks": ""
             }
            },
            "type": "scatterpolargl"
           }
          ],
          "scatterternary": [
           {
            "marker": {
             "colorbar": {
              "outlinewidth": 0,
              "ticks": ""
             }
            },
            "type": "scatterternary"
           }
          ],
          "surface": [
           {
            "colorbar": {
             "outlinewidth": 0,
             "ticks": ""
            },
            "colorscale": [
             [
              0,
              "#0d0887"
             ],
             [
              0.1111111111111111,
              "#46039f"
             ],
             [
              0.2222222222222222,
              "#7201a8"
             ],
             [
              0.3333333333333333,
              "#9c179e"
             ],
             [
              0.4444444444444444,
              "#bd3786"
             ],
             [
              0.5555555555555556,
              "#d8576b"
             ],
             [
              0.6666666666666666,
              "#ed7953"
             ],
             [
              0.7777777777777778,
              "#fb9f3a"
             ],
             [
              0.8888888888888888,
              "#fdca26"
             ],
             [
              1,
              "#f0f921"
             ]
            ],
            "type": "surface"
           }
          ],
          "table": [
           {
            "cells": {
             "fill": {
              "color": "#EBF0F8"
             },
             "line": {
              "color": "white"
             }
            },
            "header": {
             "fill": {
              "color": "#C8D4E3"
             },
             "line": {
              "color": "white"
             }
            },
            "type": "table"
           }
          ]
         },
         "layout": {
          "annotationdefaults": {
           "arrowcolor": "#2a3f5f",
           "arrowhead": 0,
           "arrowwidth": 1
          },
          "autotypenumbers": "strict",
          "coloraxis": {
           "colorbar": {
            "outlinewidth": 0,
            "ticks": ""
           }
          },
          "colorscale": {
           "diverging": [
            [
             0,
             "#8e0152"
            ],
            [
             0.1,
             "#c51b7d"
            ],
            [
             0.2,
             "#de77ae"
            ],
            [
             0.3,
             "#f1b6da"
            ],
            [
             0.4,
             "#fde0ef"
            ],
            [
             0.5,
             "#f7f7f7"
            ],
            [
             0.6,
             "#e6f5d0"
            ],
            [
             0.7,
             "#b8e186"
            ],
            [
             0.8,
             "#7fbc41"
            ],
            [
             0.9,
             "#4d9221"
            ],
            [
             1,
             "#276419"
            ]
           ],
           "sequential": [
            [
             0,
             "#0d0887"
            ],
            [
             0.1111111111111111,
             "#46039f"
            ],
            [
             0.2222222222222222,
             "#7201a8"
            ],
            [
             0.3333333333333333,
             "#9c179e"
            ],
            [
             0.4444444444444444,
             "#bd3786"
            ],
            [
             0.5555555555555556,
             "#d8576b"
            ],
            [
             0.6666666666666666,
             "#ed7953"
            ],
            [
             0.7777777777777778,
             "#fb9f3a"
            ],
            [
             0.8888888888888888,
             "#fdca26"
            ],
            [
             1,
             "#f0f921"
            ]
           ],
           "sequentialminus": [
            [
             0,
             "#0d0887"
            ],
            [
             0.1111111111111111,
             "#46039f"
            ],
            [
             0.2222222222222222,
             "#7201a8"
            ],
            [
             0.3333333333333333,
             "#9c179e"
            ],
            [
             0.4444444444444444,
             "#bd3786"
            ],
            [
             0.5555555555555556,
             "#d8576b"
            ],
            [
             0.6666666666666666,
             "#ed7953"
            ],
            [
             0.7777777777777778,
             "#fb9f3a"
            ],
            [
             0.8888888888888888,
             "#fdca26"
            ],
            [
             1,
             "#f0f921"
            ]
           ]
          },
          "colorway": [
           "#636efa",
           "#EF553B",
           "#00cc96",
           "#ab63fa",
           "#FFA15A",
           "#19d3f3",
           "#FF6692",
           "#B6E880",
           "#FF97FF",
           "#FECB52"
          ],
          "font": {
           "color": "#2a3f5f"
          },
          "geo": {
           "bgcolor": "white",
           "lakecolor": "white",
           "landcolor": "#E5ECF6",
           "showlakes": true,
           "showland": true,
           "subunitcolor": "white"
          },
          "hoverlabel": {
           "align": "left"
          },
          "hovermode": "closest",
          "mapbox": {
           "style": "light"
          },
          "paper_bgcolor": "white",
          "plot_bgcolor": "#E5ECF6",
          "polar": {
           "angularaxis": {
            "gridcolor": "white",
            "linecolor": "white",
            "ticks": ""
           },
           "bgcolor": "#E5ECF6",
           "radialaxis": {
            "gridcolor": "white",
            "linecolor": "white",
            "ticks": ""
           }
          },
          "scene": {
           "xaxis": {
            "backgroundcolor": "#E5ECF6",
            "gridcolor": "white",
            "gridwidth": 2,
            "linecolor": "white",
            "showbackground": true,
            "ticks": "",
            "zerolinecolor": "white"
           },
           "yaxis": {
            "backgroundcolor": "#E5ECF6",
            "gridcolor": "white",
            "gridwidth": 2,
            "linecolor": "white",
            "showbackground": true,
            "ticks": "",
            "zerolinecolor": "white"
           },
           "zaxis": {
            "backgroundcolor": "#E5ECF6",
            "gridcolor": "white",
            "gridwidth": 2,
            "linecolor": "white",
            "showbackground": true,
            "ticks": "",
            "zerolinecolor": "white"
           }
          },
          "shapedefaults": {
           "line": {
            "color": "#2a3f5f"
           }
          },
          "ternary": {
           "aaxis": {
            "gridcolor": "white",
            "linecolor": "white",
            "ticks": ""
           },
           "baxis": {
            "gridcolor": "white",
            "linecolor": "white",
            "ticks": ""
           },
           "bgcolor": "#E5ECF6",
           "caxis": {
            "gridcolor": "white",
            "linecolor": "white",
            "ticks": ""
           }
          },
          "title": {
           "x": 0.05
          },
          "xaxis": {
           "automargin": true,
           "gridcolor": "white",
           "linecolor": "white",
           "ticks": "",
           "title": {
            "standoff": 15
           },
           "zerolinecolor": "white",
           "zerolinewidth": 2
          },
          "yaxis": {
           "automargin": true,
           "gridcolor": "white",
           "linecolor": "white",
           "ticks": "",
           "title": {
            "standoff": 15
           },
           "zerolinecolor": "white",
           "zerolinewidth": 2
          }
         }
        },
        "title": {
         "text": "Scatter plot for Value (Adjusted)"
        },
        "xaxis": {
         "anchor": "y",
         "domain": [
          0,
          1
         ],
         "title": {
          "text": "Year"
         }
        },
        "yaxis": {
         "anchor": "x",
         "domain": [
          0,
          1
         ],
         "title": {
          "text": "?Format"
         }
        }
       }
      }
     },
     "metadata": {},
     "output_type": "display_data"
    }
   ],
   "source": [
    "import plotly.express as px\n",
    "import pandas as pd\n",
    "\n",
    "# Fill NaN values in 'Value (Actual)' with 0\n",
    "df['Value (Actual)'] = df['Value (Actual)'].fillna(0)\n",
    "\n",
    "for metric in ['Units', 'Value (Adjusted)']:\n",
    "    fig = px.scatter(\n",
    "        data_frame=df[df['Metric'] == metric],\n",
    "        x='Year',\n",
    "        y='?Format',\n",
    "        size='Value (Actual)',\n",
    "        color='Value (Actual)',\n",
    "        title=f'Scatter plot for {metric}'\n",
    "    )\n",
    "    fig.show()\n",
    "\n"
   ]
  }
 ],
 "metadata": {
  "kaggle": {
   "accelerator": "none",
   "dataSources": [
    {
     "datasetId": 5379775,
     "sourceId": 8940891,
     "sourceType": "datasetVersion"
    }
   ],
   "dockerImageVersionId": 30746,
   "isGpuEnabled": false,
   "isInternetEnabled": true,
   "language": "python",
   "sourceType": "notebook"
  },
  "kernelspec": {
   "display_name": "Python 3",
   "language": "python",
   "name": "python3"
  },
  "language_info": {
   "codemirror_mode": {
    "name": "ipython",
    "version": 3
   },
   "file_extension": ".py",
   "mimetype": "text/x-python",
   "name": "python",
   "nbconvert_exporter": "python",
   "pygments_lexer": "ipython3",
   "version": "3.11.5"
  },
  "papermill": {
   "default_parameters": {},
   "duration": 4.418192,
   "end_time": "2024-07-13T04:30:31.624083",
   "environment_variables": {},
   "exception": true,
   "input_path": "__notebook__.ipynb",
   "output_path": "__notebook__.ipynb",
   "parameters": {},
   "start_time": "2024-07-13T04:30:27.205891",
   "version": "2.5.0"
  }
 },
 "nbformat": 4,
 "nbformat_minor": 5
}
